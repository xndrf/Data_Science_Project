{
 "cells": [
  {
   "cell_type": "markdown",
   "metadata": {},
   "source": [
    "<center><p style = \"background-color : #59f068; border-radius: 5px 5px; padding : 10px\"><strong>\n",
    "<span style=\"color:#000\">Прогнозирование биологического ответа:</span>"
   ]
  },
  {
   "cell_type": "markdown",
   "metadata": {},
   "source": [
    "<span style=\"color:#6495ed\">*Коротко о данных:*</span>\n",
    "\n",
    "Данные представлены в формате CSV.  Каждая строка представляет молекулу. \n",
    "\n",
    "Первый столбец Activity содержит экспериментальные данные, описывающие фактический биологический ответ [0, 1]; \n",
    "Остальные столбцы D1-D1776 представляют собой молекулярные дескрипторы — это вычисляемые свойства, которые могут фиксировать некоторые характеристики молекулы, например размер, форму или состав элементов.\n",
    "\n",
    "![](https://lms-cdn.skillfactory.ru/assets/courseware/v1/243fdc2d8abf9f176c01a429f1ae68ab/asset-v1:SkillFactory+DSPR-2.0+14JULY2021+type@asset+block/dst-3-ml-7-10.png)\n",
    "\n",
    "Предварительная обработка не требуется, данные уже закодированы и нормализованы.\n",
    "\n",
    "<span style=\"color:#ff1e00\">**Необходимо обучить две модели: логистическую регрессию и случайный лес.**</span>\n",
    "\n",
    "В качестве метрики используется <span style=\"color:#ff1e00\">**F1-score.**</span>\n",
    "\n",
    "> Необходимо обучить две модели: логистическую регрессию и случайный лес. Далее нужно сделать подбор гиперпараметров с помощью базовых и продвинутых методов оптимизации. Важно использовать все четыре метода (GridSeachCV, RandomizedSearchCV, Hyperopt, Optuna) хотя бы по разу, максимальное количество итераций не должно превышать 50."
   ]
  },
  {
   "cell_type": "markdown",
   "metadata": {},
   "source": [
    "<center><p style = \"background-color : gold; border-radius: 2px 2px; padding : 3px\"><strong>\n",
    "<span style=\"color:#000\">Импорт библиотек и чтение датафрейма:</span>\n"
   ]
  },
  {
   "cell_type": "code",
   "execution_count": 1,
   "metadata": {},
   "outputs": [
    {
     "name": "stderr",
     "output_type": "stream",
     "text": [
      "C:\\Users\\xndrf\\AppData\\Local\\Packages\\PythonSoftwareFoundation.Python.3.10_qbz5n2kfra8p0\\LocalCache\\local-packages\\Python310\\site-packages\\tqdm\\auto.py:21: TqdmWarning: IProgress not found. Please update jupyter and ipywidgets. See https://ipywidgets.readthedocs.io/en/stable/user_install.html\n",
      "  from .autonotebook import tqdm as notebook_tqdm\n"
     ]
    }
   ],
   "source": [
    "# Импорт основных библиотек\n",
    "import numpy as np \n",
    "import pandas as pd \n",
    "import matplotlib.pyplot as plt \n",
    "import seaborn as sns\n",
    "import plotly.express as px \n",
    "import time\n",
    "\n",
    "# Импорт модулей sklearn\n",
    "from sklearn import linear_model, tree, ensemble, metrics, preprocessing\n",
    "from sklearn.model_selection import train_test_split, cross_val_score, GridSearchCV, RandomizedSearchCV\n",
    "\n",
    "# Импорт модулей hyperopt\n",
    "from hyperopt import hp, fmin, tpe, Trials\n",
    "from hyperopt.pyll.base import scope\n",
    "\n",
    "# Импорт библиотеки optuna\n",
    "import optuna\n",
    "\n",
    "# Для распечатки в цвете:\n",
    "from termcolor import colored\n",
    "\n",
    "# Разгрузим выводы от ошибок\n",
    "import warnings\n",
    "warnings.filterwarnings(\"ignore\")\n",
    "\n",
    "# Немного зададим стиля графикам\n",
    "%matplotlib inline\n",
    "plt.style.use(\"fivethirtyeight\")"
   ]
  },
  {
   "cell_type": "code",
   "execution_count": 2,
   "metadata": {},
   "outputs": [
    {
     "data": {
      "text/html": [
       "<div>\n",
       "<style scoped>\n",
       "    .dataframe tbody tr th:only-of-type {\n",
       "        vertical-align: middle;\n",
       "    }\n",
       "\n",
       "    .dataframe tbody tr th {\n",
       "        vertical-align: top;\n",
       "    }\n",
       "\n",
       "    .dataframe thead th {\n",
       "        text-align: right;\n",
       "    }\n",
       "</style>\n",
       "<table border=\"1\" class=\"dataframe\">\n",
       "  <thead>\n",
       "    <tr style=\"text-align: right;\">\n",
       "      <th></th>\n",
       "      <th>Activity</th>\n",
       "      <th>D1</th>\n",
       "      <th>D2</th>\n",
       "      <th>D3</th>\n",
       "      <th>D4</th>\n",
       "      <th>D5</th>\n",
       "      <th>D6</th>\n",
       "      <th>D7</th>\n",
       "      <th>D8</th>\n",
       "      <th>D9</th>\n",
       "      <th>...</th>\n",
       "      <th>D1767</th>\n",
       "      <th>D1768</th>\n",
       "      <th>D1769</th>\n",
       "      <th>D1770</th>\n",
       "      <th>D1771</th>\n",
       "      <th>D1772</th>\n",
       "      <th>D1773</th>\n",
       "      <th>D1774</th>\n",
       "      <th>D1775</th>\n",
       "      <th>D1776</th>\n",
       "    </tr>\n",
       "  </thead>\n",
       "  <tbody>\n",
       "    <tr>\n",
       "      <th>0</th>\n",
       "      <td>1</td>\n",
       "      <td>0.000000</td>\n",
       "      <td>0.497009</td>\n",
       "      <td>0.10</td>\n",
       "      <td>0.0</td>\n",
       "      <td>0.132956</td>\n",
       "      <td>0.678031</td>\n",
       "      <td>0.273166</td>\n",
       "      <td>0.585445</td>\n",
       "      <td>0.743663</td>\n",
       "      <td>...</td>\n",
       "      <td>0</td>\n",
       "      <td>0</td>\n",
       "      <td>0</td>\n",
       "      <td>0</td>\n",
       "      <td>0</td>\n",
       "      <td>0</td>\n",
       "      <td>0</td>\n",
       "      <td>0</td>\n",
       "      <td>0</td>\n",
       "      <td>0</td>\n",
       "    </tr>\n",
       "    <tr>\n",
       "      <th>1</th>\n",
       "      <td>1</td>\n",
       "      <td>0.366667</td>\n",
       "      <td>0.606291</td>\n",
       "      <td>0.05</td>\n",
       "      <td>0.0</td>\n",
       "      <td>0.111209</td>\n",
       "      <td>0.803455</td>\n",
       "      <td>0.106105</td>\n",
       "      <td>0.411754</td>\n",
       "      <td>0.836582</td>\n",
       "      <td>...</td>\n",
       "      <td>1</td>\n",
       "      <td>1</td>\n",
       "      <td>1</td>\n",
       "      <td>1</td>\n",
       "      <td>0</td>\n",
       "      <td>1</td>\n",
       "      <td>0</td>\n",
       "      <td>0</td>\n",
       "      <td>1</td>\n",
       "      <td>0</td>\n",
       "    </tr>\n",
       "    <tr>\n",
       "      <th>2</th>\n",
       "      <td>1</td>\n",
       "      <td>0.033300</td>\n",
       "      <td>0.480124</td>\n",
       "      <td>0.00</td>\n",
       "      <td>0.0</td>\n",
       "      <td>0.209791</td>\n",
       "      <td>0.610350</td>\n",
       "      <td>0.356453</td>\n",
       "      <td>0.517720</td>\n",
       "      <td>0.679051</td>\n",
       "      <td>...</td>\n",
       "      <td>0</td>\n",
       "      <td>0</td>\n",
       "      <td>0</td>\n",
       "      <td>0</td>\n",
       "      <td>0</td>\n",
       "      <td>0</td>\n",
       "      <td>0</td>\n",
       "      <td>0</td>\n",
       "      <td>0</td>\n",
       "      <td>0</td>\n",
       "    </tr>\n",
       "    <tr>\n",
       "      <th>3</th>\n",
       "      <td>1</td>\n",
       "      <td>0.000000</td>\n",
       "      <td>0.538825</td>\n",
       "      <td>0.00</td>\n",
       "      <td>0.5</td>\n",
       "      <td>0.196344</td>\n",
       "      <td>0.724230</td>\n",
       "      <td>0.235606</td>\n",
       "      <td>0.288764</td>\n",
       "      <td>0.805110</td>\n",
       "      <td>...</td>\n",
       "      <td>0</td>\n",
       "      <td>0</td>\n",
       "      <td>0</td>\n",
       "      <td>0</td>\n",
       "      <td>0</td>\n",
       "      <td>0</td>\n",
       "      <td>0</td>\n",
       "      <td>0</td>\n",
       "      <td>0</td>\n",
       "      <td>0</td>\n",
       "    </tr>\n",
       "    <tr>\n",
       "      <th>4</th>\n",
       "      <td>0</td>\n",
       "      <td>0.100000</td>\n",
       "      <td>0.517794</td>\n",
       "      <td>0.00</td>\n",
       "      <td>0.0</td>\n",
       "      <td>0.494734</td>\n",
       "      <td>0.781422</td>\n",
       "      <td>0.154361</td>\n",
       "      <td>0.303809</td>\n",
       "      <td>0.812646</td>\n",
       "      <td>...</td>\n",
       "      <td>0</td>\n",
       "      <td>0</td>\n",
       "      <td>0</td>\n",
       "      <td>0</td>\n",
       "      <td>0</td>\n",
       "      <td>0</td>\n",
       "      <td>0</td>\n",
       "      <td>0</td>\n",
       "      <td>0</td>\n",
       "      <td>0</td>\n",
       "    </tr>\n",
       "    <tr>\n",
       "      <th>...</th>\n",
       "      <td>...</td>\n",
       "      <td>...</td>\n",
       "      <td>...</td>\n",
       "      <td>...</td>\n",
       "      <td>...</td>\n",
       "      <td>...</td>\n",
       "      <td>...</td>\n",
       "      <td>...</td>\n",
       "      <td>...</td>\n",
       "      <td>...</td>\n",
       "      <td>...</td>\n",
       "      <td>...</td>\n",
       "      <td>...</td>\n",
       "      <td>...</td>\n",
       "      <td>...</td>\n",
       "      <td>...</td>\n",
       "      <td>...</td>\n",
       "      <td>...</td>\n",
       "      <td>...</td>\n",
       "      <td>...</td>\n",
       "      <td>...</td>\n",
       "    </tr>\n",
       "    <tr>\n",
       "      <th>3746</th>\n",
       "      <td>1</td>\n",
       "      <td>0.033300</td>\n",
       "      <td>0.506409</td>\n",
       "      <td>0.10</td>\n",
       "      <td>0.0</td>\n",
       "      <td>0.209887</td>\n",
       "      <td>0.633426</td>\n",
       "      <td>0.297659</td>\n",
       "      <td>0.376124</td>\n",
       "      <td>0.727093</td>\n",
       "      <td>...</td>\n",
       "      <td>0</td>\n",
       "      <td>0</td>\n",
       "      <td>0</td>\n",
       "      <td>0</td>\n",
       "      <td>0</td>\n",
       "      <td>0</td>\n",
       "      <td>0</td>\n",
       "      <td>0</td>\n",
       "      <td>0</td>\n",
       "      <td>0</td>\n",
       "    </tr>\n",
       "    <tr>\n",
       "      <th>3747</th>\n",
       "      <td>1</td>\n",
       "      <td>0.133333</td>\n",
       "      <td>0.651023</td>\n",
       "      <td>0.15</td>\n",
       "      <td>0.0</td>\n",
       "      <td>0.151154</td>\n",
       "      <td>0.766505</td>\n",
       "      <td>0.170876</td>\n",
       "      <td>0.404546</td>\n",
       "      <td>0.787935</td>\n",
       "      <td>...</td>\n",
       "      <td>0</td>\n",
       "      <td>0</td>\n",
       "      <td>1</td>\n",
       "      <td>0</td>\n",
       "      <td>1</td>\n",
       "      <td>0</td>\n",
       "      <td>1</td>\n",
       "      <td>0</td>\n",
       "      <td>0</td>\n",
       "      <td>0</td>\n",
       "    </tr>\n",
       "    <tr>\n",
       "      <th>3748</th>\n",
       "      <td>0</td>\n",
       "      <td>0.200000</td>\n",
       "      <td>0.520564</td>\n",
       "      <td>0.00</td>\n",
       "      <td>0.0</td>\n",
       "      <td>0.179949</td>\n",
       "      <td>0.768785</td>\n",
       "      <td>0.177341</td>\n",
       "      <td>0.471179</td>\n",
       "      <td>0.872241</td>\n",
       "      <td>...</td>\n",
       "      <td>0</td>\n",
       "      <td>0</td>\n",
       "      <td>0</td>\n",
       "      <td>0</td>\n",
       "      <td>0</td>\n",
       "      <td>0</td>\n",
       "      <td>0</td>\n",
       "      <td>0</td>\n",
       "      <td>0</td>\n",
       "      <td>0</td>\n",
       "    </tr>\n",
       "    <tr>\n",
       "      <th>3749</th>\n",
       "      <td>1</td>\n",
       "      <td>0.100000</td>\n",
       "      <td>0.765646</td>\n",
       "      <td>0.00</td>\n",
       "      <td>0.0</td>\n",
       "      <td>0.536954</td>\n",
       "      <td>0.634936</td>\n",
       "      <td>0.342713</td>\n",
       "      <td>0.447162</td>\n",
       "      <td>0.672689</td>\n",
       "      <td>...</td>\n",
       "      <td>0</td>\n",
       "      <td>0</td>\n",
       "      <td>0</td>\n",
       "      <td>0</td>\n",
       "      <td>0</td>\n",
       "      <td>0</td>\n",
       "      <td>0</td>\n",
       "      <td>0</td>\n",
       "      <td>0</td>\n",
       "      <td>0</td>\n",
       "    </tr>\n",
       "    <tr>\n",
       "      <th>3750</th>\n",
       "      <td>0</td>\n",
       "      <td>0.133333</td>\n",
       "      <td>0.533952</td>\n",
       "      <td>0.00</td>\n",
       "      <td>0.0</td>\n",
       "      <td>0.347966</td>\n",
       "      <td>0.757971</td>\n",
       "      <td>0.230667</td>\n",
       "      <td>0.272652</td>\n",
       "      <td>0.854116</td>\n",
       "      <td>...</td>\n",
       "      <td>0</td>\n",
       "      <td>0</td>\n",
       "      <td>0</td>\n",
       "      <td>0</td>\n",
       "      <td>0</td>\n",
       "      <td>0</td>\n",
       "      <td>0</td>\n",
       "      <td>0</td>\n",
       "      <td>0</td>\n",
       "      <td>0</td>\n",
       "    </tr>\n",
       "  </tbody>\n",
       "</table>\n",
       "<p>3751 rows × 1777 columns</p>\n",
       "</div>"
      ],
      "text/plain": [
       "      Activity        D1        D2    D3   D4        D5        D6        D7  \\\n",
       "0            1  0.000000  0.497009  0.10  0.0  0.132956  0.678031  0.273166   \n",
       "1            1  0.366667  0.606291  0.05  0.0  0.111209  0.803455  0.106105   \n",
       "2            1  0.033300  0.480124  0.00  0.0  0.209791  0.610350  0.356453   \n",
       "3            1  0.000000  0.538825  0.00  0.5  0.196344  0.724230  0.235606   \n",
       "4            0  0.100000  0.517794  0.00  0.0  0.494734  0.781422  0.154361   \n",
       "...        ...       ...       ...   ...  ...       ...       ...       ...   \n",
       "3746         1  0.033300  0.506409  0.10  0.0  0.209887  0.633426  0.297659   \n",
       "3747         1  0.133333  0.651023  0.15  0.0  0.151154  0.766505  0.170876   \n",
       "3748         0  0.200000  0.520564  0.00  0.0  0.179949  0.768785  0.177341   \n",
       "3749         1  0.100000  0.765646  0.00  0.0  0.536954  0.634936  0.342713   \n",
       "3750         0  0.133333  0.533952  0.00  0.0  0.347966  0.757971  0.230667   \n",
       "\n",
       "            D8        D9  ...  D1767  D1768  D1769  D1770  D1771  D1772  \\\n",
       "0     0.585445  0.743663  ...      0      0      0      0      0      0   \n",
       "1     0.411754  0.836582  ...      1      1      1      1      0      1   \n",
       "2     0.517720  0.679051  ...      0      0      0      0      0      0   \n",
       "3     0.288764  0.805110  ...      0      0      0      0      0      0   \n",
       "4     0.303809  0.812646  ...      0      0      0      0      0      0   \n",
       "...        ...       ...  ...    ...    ...    ...    ...    ...    ...   \n",
       "3746  0.376124  0.727093  ...      0      0      0      0      0      0   \n",
       "3747  0.404546  0.787935  ...      0      0      1      0      1      0   \n",
       "3748  0.471179  0.872241  ...      0      0      0      0      0      0   \n",
       "3749  0.447162  0.672689  ...      0      0      0      0      0      0   \n",
       "3750  0.272652  0.854116  ...      0      0      0      0      0      0   \n",
       "\n",
       "      D1773  D1774  D1775  D1776  \n",
       "0         0      0      0      0  \n",
       "1         0      0      1      0  \n",
       "2         0      0      0      0  \n",
       "3         0      0      0      0  \n",
       "4         0      0      0      0  \n",
       "...     ...    ...    ...    ...  \n",
       "3746      0      0      0      0  \n",
       "3747      1      0      0      0  \n",
       "3748      0      0      0      0  \n",
       "3749      0      0      0      0  \n",
       "3750      0      0      0      0  \n",
       "\n",
       "[3751 rows x 1777 columns]"
      ]
     },
     "execution_count": 2,
     "metadata": {},
     "output_type": "execute_result"
    }
   ],
   "source": [
    "# загрузка данных\n",
    "df = pd.read_csv('kaggle.csv')\n",
    "df"
   ]
  },
  {
   "cell_type": "code",
   "execution_count": 3,
   "metadata": {},
   "outputs": [
    {
     "name": "stdout",
     "output_type": "stream",
     "text": [
      "Разница соотношений: 18.5%\n"
     ]
    },
    {
     "data": {
      "image/png": "[encoded data removed]",
      "text/plain": [
       "<Figure size 800x600 with 1 Axes>"
      ]
     },
     "metadata": {},
     "output_type": "display_data"
    }
   ],
   "source": [
    "# Проверка на сбалансированность\n",
    "plt.figure(figsize=(8, 6))\n",
    "# sns.set_palette(\"bright\")\n",
    "sns.countplot(data=df, x='Activity', palette=['orangered', 'lightgreen'])\n",
    "stratify_df = round((df['Activity'].value_counts()[1]/ df['Activity'].value_counts()[0]-1),3)*100\n",
    "print(f'Разница соотношений: {stratify_df}%')"
   ]
  },
  {
   "cell_type": "markdown",
   "metadata": {},
   "source": [
    "При обучении выставим значение признака с одинаковым соотношением на тренировочной и тестовой выборке"
   ]
  },
  {
   "cell_type": "code",
   "execution_count": 4,
   "metadata": {},
   "outputs": [],
   "source": [
    "# Разделение выборки\n",
    "X = df.drop(['Activity'], axis=1)\n",
    "y = df['Activity'] \n",
    "X_train, X_test, y_train, y_test = train_test_split(X, y, stratify=y, random_state = 1, test_size = 0.2)"
   ]
  },
  {
   "cell_type": "code",
   "execution_count": 5,
   "metadata": {},
   "outputs": [],
   "source": [
    "# Зафиксируем:\n",
    "RS = 42 # random_state\n",
    "MI = 50 # max_iter\n",
    "\n",
    "# Создадим сборщик результатов обучения:\n",
    "results_learn = []"
   ]
  },
  {
   "cell_type": "markdown",
   "metadata": {},
   "source": [
    "<center><p style = \"background-color : white; border-radius: 2px 2px; padding : 3px\"><strong>\n",
    "<span style=\"color:#000\">Соберем все функции и создадим единый реестровый ориентир по ним</span>"
   ]
  },
  {
   "cell_type": "code",
   "execution_count": 6,
   "metadata": {},
   "outputs": [],
   "source": [
    "def o_metric(object_m, model_name, param, hp_time=None):\n",
    "    \"\"\"Функция вывода тренировочных и тестовых данных\n",
    "\n",
    "    Args:\n",
    "        object_m (object_m): Объект класса,\n",
    "        model_name (str) : Название модели,\n",
    "        param (grid_search): Оптимизация: 1) CV - GridSearchCV и RandomizedSearchCV;\n",
    "                                          2) H - Hyperopt;\n",
    "                                          3) O - Optune;\n",
    "        hp_time(hp_time): Время подбора гиперпараметров.\n",
    "        # Заметил, что много времени уходит на подбор гиперпараметров и захотелось взглянуть на эти цифры в общей таблице\n",
    "    \"\"\"\n",
    "\n",
    "    start_time = time.time()  # Записываем текущее время перед обучением модели\n",
    "    object_m.fit(X_train, y_train)\n",
    "\n",
    "    print(colored(f'\\n{model_name} результаты f1_score:', 'light_red'))\n",
    "    y_train_pred = object_m.predict(X_train)\n",
    "    m_train = metrics.f1_score(y_train, y_train_pred).round(3)\n",
    "    print(colored(f\"- Тренировочный набор: {m_train:.3f}\", 'cyan'))\n",
    "    y_test_pred = object_m.predict(X_test)\n",
    "    m_test = metrics.f1_score(y_test, y_test_pred).round(3)\n",
    "    print(colored(f\"- Тестовый набор: {m_test:.3f}\", 'cyan'))  \n",
    "\n",
    "    end_time = time.time()  # Записываем текущее время после получения результатов\n",
    "    execution_time = round(end_time - start_time, 3)  # Вычисляем время выполнения\n",
    "    \n",
    "    print(colored(f'\\nВремя выполнения (секунд): {execution_time:.2f}', 'yellow'))\n",
    "\n",
    "    # В случае использования  grid_search\n",
    "    if param is None:\n",
    "        pass\n",
    "    elif param is 'CV':\n",
    "        print(colored(f'\\nНаилучшие значения гиперпараметров: {object_m.best_params_}', 'light_green'))\n",
    "    elif param is 'H':\n",
    "        print(colored(f'\\nНаилучшие значения гиперпараметров: {best}', 'light_green'))\n",
    "    elif param is 'O':\n",
    "        print(colored(f'\\nНаилучшие значения гиперпараметров: {study.best_params}', 'light_green'))\n",
    "    else:\n",
    "        print('Введено не верное значение param, Выставлено стандартное значение param = None\\n',\n",
    "            '1) CV - GridSearchCV и RandomizedSearchCV;\\n',\n",
    "            '2) H - Hyperopt;\\n',\n",
    "            '3) O - Optune.')\n",
    "\n",
    "    # Сохраняем все данные\n",
    "    results_learn.append({'model_name': model_name,\n",
    "                          'train': m_train,\n",
    "                          'test': m_test,\n",
    "                          'time': execution_time,\n",
    "                          'hyper_time': hp_time if hp_time is not None else 0})\n",
    "    \n",
    "    # Условия для времени подбора параметров и вывод информации\n",
    "    if hp_time is None:\n",
    "        pass\n",
    "    else:\n",
    "         try:\n",
    "            print(colored(f'\\nВремя подбора гиперпараметров (секунд): {hp_time:.2f}', 'yellow'))\n",
    "         except ValueError:\n",
    "                    print(\"Не правильно указана переменная hp_time\")"
   ]
  },
  {
   "cell_type": "code",
   "execution_count": 7,
   "metadata": {},
   "outputs": [],
   "source": [
    "# HYPEROPT LogisticRegression\n",
    "def hyperopt_lg(params, cv=5, X=X_train, y=y_train, random_state=RS):\n",
    "    \"\"\"функция по HYPEROPT\n",
    "\n",
    "    Args:\n",
    "        params (params): параметры модели\n",
    "    \"\"\"    \n",
    "    model = linear_model.LogisticRegression(**params, random_state=RS, max_iter=MI)\n",
    "    # обучаем модель\n",
    "    model.fit(X, y)\n",
    "    score = metrics.f1_score(y, model.predict(X))\n",
    "    return -score \n",
    "\n",
    "# HYPEROPT LogisticRegression cross_val_score\n",
    "def hyperopt_lg_cross(params, cv=5, X=X_train, y=y_train, random_state=RS):\n",
    "    model = linear_model.LogisticRegression(**params, random_state=RS, max_iter=MI)\n",
    "    # обучаем модель\n",
    "    model.fit(X, y)\n",
    "    score = cross_val_score(model, X, y, cv=cv, scoring=\"f1\", n_jobs=-1).mean()\n",
    "    return -score\n",
    "\n",
    "# HYPEROPT RandomForestClassifier\n",
    "def hyperopt_rf(params, cv=5, X=X_train, y=y_train, random_state=RS):\n",
    "    model = ensemble.RandomForestClassifier(**params, random_state=RS)\n",
    "    # обучаем модель\n",
    "    model.fit(X, y)\n",
    "    score = metrics.f1_score(y, model.predict(X))\n",
    "    return -score \n",
    "\n",
    "# HYPEROPT RandomForestClassifier cross_val_score\n",
    "def hyperopt_rf_cross(params, cv=5, X=X_train, y=y_train, random_state=RS):\n",
    "    model = ensemble.RandomForestClassifier(**params, random_state=RS)\n",
    "    # обучаем модель\n",
    "    model.fit(X, y)\n",
    "    score = cross_val_score(model, X, y, cv=cv, scoring=\"f1\", n_jobs=-1).mean()\n",
    "    return -score"
   ]
  },
  {
   "cell_type": "code",
   "execution_count": 8,
   "metadata": {},
   "outputs": [],
   "source": [
    "def optuna_opt(m_type, valid, trial):\n",
    "    \"\"\"Поиск гиперпараметров optuna\n",
    "\n",
    "    Args:\n",
    "        trial (trial): Логирование;\n",
    "        m_type (str): Модель; (LR or RF)\n",
    "        valid (_type_): Есть кроссвалидация или нет (N or Y).\n",
    "\n",
    "    Returns:\n",
    "        score\n",
    "    \"\"\"    \n",
    "    if m_type == 'LR':\n",
    "        penalty = trial.suggest_categorical('penalty', ['l2', None])\n",
    "        solver = trial.suggest_categorical('solver', ['lbfgs', 'sag'])\n",
    "        C = trial.suggest_float('C', 0.1, 1.0)\n",
    "        \n",
    "        model = linear_model.LogisticRegression(\n",
    "            penalty=penalty,\n",
    "            solver=solver,\n",
    "            C=C,\n",
    "            random_state=RS,\n",
    "            n_jobs=-1\n",
    "        )\n",
    "\n",
    "    elif m_type == 'RF':\n",
    "        n_estimators = trial.suggest_int('n_estimators', 100, 310, step=10)\n",
    "        min_samples_leaf = trial.suggest_int('min_samples_leaf', 3, 7)\n",
    "        max_depth = trial.suggest_int('max_depth', 15, 40)\n",
    "\n",
    "        model = ensemble.RandomForestClassifier(\n",
    "            n_estimators=n_estimators,\n",
    "            max_depth=max_depth,\n",
    "            min_samples_leaf=min_samples_leaf,\n",
    "            random_state=RS,\n",
    "            n_jobs=-1\n",
    "        )\n",
    "\n",
    "    else:\n",
    "        raise ValueError(\"Invalid m_type, Выберите одну из:\\n\"\n",
    "                         \"1) LR - LogisticRegression;\\n\"\n",
    "                         \"2) RF - RandomForestClassifier.\")\n",
    "\n",
    "    model.fit(X_train, y_train)\n",
    "    if valid == 'N':\n",
    "        score = metrics.f1_score(y_test, model.predict(X_test))\n",
    "    elif valid == 'Y':\n",
    "        score = cross_val_score(model, X_train, y_train, cv=5, scoring=\"f1\", n_jobs=-1).mean()\n",
    "    else:\n",
    "        raise ValueError(\"Invalid valid, Выберите одну из:\\n\"\n",
    "                         \"1) N - No crossvalid;\\n\"\n",
    "                         \"2) Y - Yes crossvalid.\")\n",
    "\n",
    "    return score"
   ]
  },
  {
   "cell_type": "code",
   "execution_count": 9,
   "metadata": {},
   "outputs": [],
   "source": [
    "# Обобщим всё, на случай если забудем:\n",
    "def_list = ['o_metric(object_m, model_name, param, hp_time=None)',\n",
    "            'hyperopt_lg(params, cv=5, X=X_train, y=y_train, random_state=RS)',\n",
    "            'hyperopt_lg_cross(params, cv=5, X=X_train, y=y_train, random_state=RS)',\n",
    "            'hyperopt_rf(params, cv=5, X=X_train, y=y_train, random_state=RS)',\n",
    "            'hyperopt_rf_cross(params, cv=5, X=X_train, y=y_train, random_state=RS)',\n",
    "            'optuna_opt(m_type, valid, trial)']"
   ]
  },
  {
   "cell_type": "markdown",
   "metadata": {},
   "source": [
    "<p style = \"background-color : gold; border-radius: 2px 2px; padding : 3px\"><strong>\n",
    "<span style=\"color:#000\">LogisticRegression:</span>"
   ]
  },
  {
   "cell_type": "code",
   "execution_count": 10,
   "metadata": {},
   "outputs": [
    {
     "name": "stdout",
     "output_type": "stream",
     "text": [
      "\u001b[91m\n",
      "LogisticRegression результаты f1_score:\u001b[0m\n",
      "\u001b[36m- Тренировочный набор: 0.871\u001b[0m\n",
      "\u001b[36m- Тестовый набор: 0.786\u001b[0m\n",
      "\u001b[33m\n",
      "Время выполнения (секунд): 0.17\u001b[0m\n"
     ]
    }
   ],
   "source": [
    "#Создаем объект класса логистическая регрессия\n",
    "log_reg = linear_model.LogisticRegression(max_iter = MI)\n",
    "o_metric(log_reg, 'LogisticRegression', None)"
   ]
  },
  {
   "cell_type": "markdown",
   "metadata": {},
   "source": [
    "<p style = \"background-color : gold; border-radius: 2px 2px; padding : 3px\"><strong>\n",
    "<span style=\"color:#000\">RandomForestClassifier:</span>"
   ]
  },
  {
   "cell_type": "code",
   "execution_count": 11,
   "metadata": {},
   "outputs": [
    {
     "name": "stdout",
     "output_type": "stream",
     "text": [
      "\u001b[91m\n",
      "RandomForestClassifier результаты f1_score:\u001b[0m\n",
      "\u001b[36m- Тренировочный набор: 1.000\u001b[0m\n",
      "\u001b[36m- Тестовый набор: 0.813\u001b[0m\n",
      "\u001b[33m\n",
      "Время выполнения (секунд): 1.60\u001b[0m\n"
     ]
    }
   ],
   "source": [
    "rf = ensemble.RandomForestClassifier(random_state=RS)\n",
    "o_metric(rf, 'RandomForestClassifier', None)"
   ]
  },
  {
   "cell_type": "markdown",
   "metadata": {},
   "source": [
    "<center><p style = \"background-color : #59f068; border-radius: 5px 5px; padding : 10px\"><strong>\n",
    "<span style=\"color:#000\">GridSearchCV</span>"
   ]
  },
  {
   "cell_type": "markdown",
   "metadata": {},
   "source": [
    "<p style = \"background-color : gold; border-radius: 2px 2px; padding : 3px\"><strong>\n",
    "<span style=\"color:#000\">LogisticRegression:</span>"
   ]
  },
  {
   "cell_type": "code",
   "execution_count": 12,
   "metadata": {},
   "outputs": [],
   "source": [
    "param_grid = {'penalty': ['l2', None] ,\n",
    "              'solver': ['lbfgs', 'sag'],\n",
    "               'C': list(np.linspace(0.01, 10, 10, dtype=float))}\n",
    "\n",
    "time_s = time.time()\n",
    "grid_search_LR = GridSearchCV(\n",
    "    estimator=linear_model.LogisticRegression(random_state=RS, max_iter=MI), \n",
    "    param_grid=param_grid, \n",
    "    cv=5, \n",
    "    n_jobs = -1 \n",
    ")\n",
    "time_e = time.time()  # Записываем текущее время после получения результатов\n",
    "hp_time_G_LR = round(time_e - time_s, 3)  # Вычисляем время выполнения"
   ]
  },
  {
   "cell_type": "code",
   "execution_count": 13,
   "metadata": {},
   "outputs": [
    {
     "name": "stdout",
     "output_type": "stream",
     "text": [
      "\u001b[91m\n",
      "GridSearchCV LogisticRegression результаты f1_score:\u001b[0m\n",
      "\u001b[36m- Тренировочный набор: 0.817\u001b[0m\n",
      "\u001b[36m- Тестовый набор: 0.797\u001b[0m\n",
      "\u001b[33m\n",
      "Время выполнения (секунд): 16.93\u001b[0m\n",
      "\u001b[92m\n",
      "Наилучшие значения гиперпараметров: {'C': 0.01, 'penalty': 'l2', 'solver': 'sag'}\u001b[0m\n",
      "\u001b[33m\n",
      "Время подбора гиперпараметров (секунд): 0.00\u001b[0m\n"
     ]
    }
   ],
   "source": [
    "o_metric(grid_search_LR, 'GridSearchCV LogisticRegression', 'CV', hp_time_G_LR)"
   ]
  },
  {
   "cell_type": "markdown",
   "metadata": {},
   "source": [
    "<p style = \"background-color : gold; border-radius: 2px 2px; padding : 3px\"><strong>\n",
    "<span style=\"color:#000\">RandomForestClassifier:</span>"
   ]
  },
  {
   "cell_type": "code",
   "execution_count": 14,
   "metadata": {},
   "outputs": [
    {
     "name": "stdout",
     "output_type": "stream",
     "text": [
      "\u001b[91m\n",
      "GridSearchCV RandomForestClassifier результаты f1_score:\u001b[0m\n",
      "\u001b[36m- Тренировочный набор: 0.977\u001b[0m\n",
      "\u001b[36m- Тестовый набор: 0.824\u001b[0m\n",
      "\u001b[33m\n",
      "Время выполнения (секунд): 83.56\u001b[0m\n",
      "\u001b[92m\n",
      "Наилучшие значения гиперпараметров: {'max_depth': 21, 'min_samples_leaf': 3, 'n_estimators': 450}\u001b[0m\n",
      "\u001b[33m\n",
      "Время подбора гиперпараметров (секунд): 0.00\u001b[0m\n"
     ]
    }
   ],
   "source": [
    "param_grid = {'n_estimators': list(range(100, 500, 50)),\n",
    "              'min_samples_leaf': [3,5,7],\n",
    "              'max_depth': list(np.linspace(2, 40, 5, dtype=int))\n",
    "              }\n",
    "\n",
    "time_s = time.time()            \n",
    "grid_search_RF = GridSearchCV(\n",
    "    estimator=ensemble.RandomForestClassifier(random_state=RS), \n",
    "    param_grid=param_grid, \n",
    "    cv=5, \n",
    "    n_jobs = -1\n",
    ")\n",
    "time_e = time.time()  # Записываем текущее время после получения результатов\n",
    "hp_time_G_RF = round(time_e - time_s, 3)  # Вычисляем время выполнения\n",
    "\n",
    "o_metric(grid_search_RF, 'GridSearchCV RandomForestClassifier', 'CV', hp_time_G_RF)"
   ]
  },
  {
   "cell_type": "markdown",
   "metadata": {},
   "source": [
    "<center><p style = \"background-color : #59f068; border-radius: 5px 5px; padding : 10px\"><strong>\n",
    "<span style=\"color:#000\">RandomizedSearchCV:</span>"
   ]
  },
  {
   "cell_type": "markdown",
   "metadata": {},
   "source": [
    "<p style = \"background-color : gold; border-radius: 2px 2px; padding : 3px\"><strong>\n",
    "<span style=\"color:#000\">LogisticRegression:</span>"
   ]
  },
  {
   "cell_type": "code",
   "execution_count": 15,
   "metadata": {},
   "outputs": [
    {
     "name": "stdout",
     "output_type": "stream",
     "text": [
      "\u001b[91m\n",
      "RandomizedSearchCV LogisticRegression результаты f1_score:\u001b[0m\n",
      "\u001b[36m- Тренировочный набор: 0.851\u001b[0m\n",
      "\u001b[36m- Тестовый набор: 0.786\u001b[0m\n",
      "\u001b[33m\n",
      "Время выполнения (секунд): 14.98\u001b[0m\n",
      "\u001b[92m\n",
      "Наилучшие значения гиперпараметров: {'solver': 'sag', 'penalty': 'l2', 'C': 0.12}\u001b[0m\n",
      "\u001b[33m\n",
      "Время подбора гиперпараметров (секунд): 0.00\u001b[0m\n"
     ]
    }
   ],
   "source": [
    "param_distributions = {'penalty': ['l2', None] ,\n",
    "              'solver': ['lbfgs', 'sag'],\n",
    "               'C': list(np.linspace(0.01, 1, 10, dtype=float))}\n",
    "\n",
    "time_s = time.time()                  \n",
    "random_search_RF = RandomizedSearchCV(\n",
    "    estimator=linear_model.LogisticRegression(random_state=RS, max_iter=MI), \n",
    "    param_distributions=param_distributions, \n",
    "    cv=5, \n",
    "    n_iter = 50, \n",
    "    n_jobs = -1\n",
    ")\n",
    "time_e = time.time()  # Записываем текущее время после получения результатов\n",
    "hp_time_R_LR = round(time_e - time_s, 3)  # Вычисляем время выполнения\n",
    "\n",
    "o_metric(random_search_RF, 'RandomizedSearchCV LogisticRegression', 'CV', hp_time_R_LR)"
   ]
  },
  {
   "cell_type": "markdown",
   "metadata": {},
   "source": [
    "<p style = \"background-color : gold; border-radius: 2px 2px; padding : 3px\"><strong>\n",
    "<span style=\"color:#000\">RandomForestClassifier:</span>"
   ]
  },
  {
   "cell_type": "code",
   "execution_count": 16,
   "metadata": {},
   "outputs": [
    {
     "name": "stdout",
     "output_type": "stream",
     "text": [
      "\u001b[91m\n",
      "RandomizedSearchCV RandomForestClassifier результаты f1_score:\u001b[0m\n",
      "\u001b[36m- Тренировочный набор: 0.851\u001b[0m\n",
      "\u001b[36m- Тестовый набор: 0.786\u001b[0m\n",
      "\u001b[33m\n",
      "Время выполнения (секунд): 14.77\u001b[0m\n",
      "\u001b[92m\n",
      "Наилучшие значения гиперпараметров: {'solver': 'sag', 'penalty': 'l2', 'C': 0.12}\u001b[0m\n",
      "\u001b[33m\n",
      "Время подбора гиперпараметров (секунд): 0.00\u001b[0m\n"
     ]
    }
   ],
   "source": [
    "param_distributions = {'n_estimators': list(range(100, 500, 50)),\n",
    "              'min_samples_leaf': [3,5,7],\n",
    "              'max_depth': list(np.linspace(2, 40, 5, dtype=int))\n",
    "              }\n",
    "\n",
    "time_s = time.time()            \n",
    "random_search_forest = RandomizedSearchCV(\n",
    "    estimator = ensemble.RandomForestClassifier(random_state=RS), \n",
    "    param_distributions=param_distributions, \n",
    "    cv=5, \n",
    "    n_iter = 50, \n",
    "    n_jobs = -1\n",
    ")\n",
    "time_e = time.time()  # Записываем текущее время после получения результатов\n",
    "hp_time_R_RF = round(time_e - time_s, 3)  # Вычисляем время выполнения\n",
    "o_metric(random_search_RF, 'RandomizedSearchCV RandomForestClassifier', 'CV', hp_time_R_RF)"
   ]
  },
  {
   "cell_type": "markdown",
   "metadata": {},
   "source": [
    "<center><p style = \"background-color : #59f068; border-radius: 5px 5px; padding : 10px\"><strong>\n",
    "<span style=\"color:#000\">Hyperopt</span>"
   ]
  },
  {
   "cell_type": "markdown",
   "metadata": {},
   "source": [
    "<p style = \"background-color : gold; border-radius: 2px 2px; padding : 3px\"><strong>\n",
    "<span style=\"color:#000\">LogisticRegression:</span>"
   ]
  },
  {
   "cell_type": "code",
   "execution_count": 17,
   "metadata": {},
   "outputs": [],
   "source": [
    "pen = [None, 'l2']\n",
    "sol = ['lbfgs', 'sag']\n",
    "C = np.arange(.1,1.1,.1)\n",
    "space = {'penalty': hp.choice('penalty', pen),\n",
    "        'solver' : hp.choice('solver', sol),\n",
    "        'C': hp.choice('C', C)}"
   ]
  },
  {
   "cell_type": "code",
   "execution_count": 18,
   "metadata": {},
   "outputs": [
    {
     "name": "stdout",
     "output_type": "stream",
     "text": [
      "100%|██████████| 20/20 [00:15<00:00,  1.27trial/s, best loss: -0.8775698066891685]\n"
     ]
    }
   ],
   "source": [
    "trials = Trials() # используется для логирования результатов\n",
    "\n",
    "time_s = time.time()\n",
    "best=fmin(hyperopt_lg, # наша функция \n",
    "          space=space, # пространство гиперпараметров\n",
    "          algo=tpe.suggest, # алгоритм оптимизации, установлен по умолчанию, задавать необязательно\n",
    "          max_evals=20, # максимальное количество итераций\n",
    "          trials=trials, # логирование результатов\n",
    "          rstate=np.random.default_rng(RS)# фиксируем для повторяемости результата\n",
    ")\n",
    "time_e = time.time()  # Записываем текущее время после получения результатов\n",
    "hp_time_H_LG = round(time_e - time_s, 3)  # Вычисляем время выполнения"
   ]
  },
  {
   "cell_type": "code",
   "execution_count": 19,
   "metadata": {},
   "outputs": [
    {
     "name": "stdout",
     "output_type": "stream",
     "text": [
      "\u001b[91m\n",
      "Hyperopt LogisticRegression результаты f1_score:\u001b[0m\n",
      "\u001b[36m- Тренировочный набор: 0.910\u001b[0m\n",
      "\u001b[36m- Тестовый набор: 0.755\u001b[0m\n",
      "\u001b[33m\n",
      "Время выполнения (секунд): 0.22\u001b[0m\n",
      "\u001b[92m\n",
      "Наилучшие значения гиперпараметров: {'C': 2, 'penalty': 0, 'solver': 0}\u001b[0m\n",
      "\u001b[33m\n",
      "Время подбора гиперпараметров (секунд): 15.71\u001b[0m\n"
     ]
    }
   ],
   "source": [
    "hyperopt_logistic = linear_model.LogisticRegression(\n",
    "    random_state=RS, \n",
    "    penalty=pen[int(best['penalty'])],\n",
    "    solver=sol[int(best['solver'])],\n",
    "    C=C[int(best['C'])]\n",
    ")\n",
    "\n",
    "o_metric(hyperopt_logistic, 'Hyperopt LogisticRegression', 'H', hp_time_H_LG)"
   ]
  },
  {
   "cell_type": "markdown",
   "metadata": {},
   "source": [
    "<p style = \"background-color : gold; border-radius: 2px 2px; padding : 3px\"><strong>\n",
    "<span style=\"color:#000\">LogisticRegression with cross validation:</span>"
   ]
  },
  {
   "cell_type": "code",
   "execution_count": 20,
   "metadata": {},
   "outputs": [
    {
     "name": "stdout",
     "output_type": "stream",
     "text": [
      "100%|██████████| 20/20 [00:37<00:00,  1.85s/trial, best loss: -0.7817623180369621]\n"
     ]
    }
   ],
   "source": [
    "# cross\n",
    "trials = Trials() # используется для логирования результатов\n",
    "time_s = time.time()\n",
    "best=fmin(hyperopt_lg_cross, # наша функция \n",
    "          space=space, # пространство гиперпараметров\n",
    "          algo=tpe.suggest, # алгоритм оптимизации, установлен по умолчанию, задавать необязательно\n",
    "          max_evals=20, # максимальное количество итераций\n",
    "          trials=trials, # логирование результатов\n",
    "          rstate=np.random.default_rng(RS)# фиксируем для повторяемости результата\n",
    ")\n",
    "time_e = time.time()  # Записываем текущее время после получения результатов\n",
    "hp_time_H_LG_С = round(time_e - time_s, 3)  # Вычисляем время выполнения"
   ]
  },
  {
   "cell_type": "code",
   "execution_count": 21,
   "metadata": {},
   "outputs": [
    {
     "name": "stdout",
     "output_type": "stream",
     "text": [
      "\u001b[91m\n",
      "Hyperopt LogisticRegression with cross validation результаты f1_score:\u001b[0m\n",
      "\u001b[36m- Тренировочный набор: 0.849\u001b[0m\n",
      "\u001b[36m- Тестовый набор: 0.790\u001b[0m\n",
      "\u001b[33m\n",
      "Время выполнения (секунд): 2.77\u001b[0m\n",
      "\u001b[92m\n",
      "Наилучшие значения гиперпараметров: {'C': 0, 'penalty': 1, 'solver': 1}\u001b[0m\n",
      "\u001b[33m\n",
      "Время подбора гиперпараметров (секунд): 37.09\u001b[0m\n"
     ]
    }
   ],
   "source": [
    "hyperopt_logistic_cross = linear_model.LogisticRegression(\n",
    "    random_state=RS, \n",
    "    penalty=pen[int(best['penalty'])],\n",
    "    solver=sol[int(best['solver'])],\n",
    "    C=C[int(best['C'])]\n",
    ")\n",
    "o_metric(hyperopt_logistic_cross, 'Hyperopt LogisticRegression with cross validation', 'H', hp_time_H_LG_С)"
   ]
  },
  {
   "cell_type": "markdown",
   "metadata": {},
   "source": [
    "<p style = \"background-color : gold; border-radius: 2px 2px; padding : 3px\"><strong>\n",
    "<span style=\"color:#000\">RandomForestClassifier:</span>"
   ]
  },
  {
   "cell_type": "code",
   "execution_count": 22,
   "metadata": {},
   "outputs": [],
   "source": [
    "n_estimators = np.arange(100, 500, 2, dtype = int)\n",
    "max_depth = np.arange(15, 26, 1, dtype = int)\n",
    "min_samples_leaf = np.arange(2, 11, 1, dtype=int)\n",
    "\n",
    "# зададим пространство поиска гиперпараметров\n",
    "space={'n_estimators': hp.choice('n_estimators', n_estimators ),\n",
    "       'max_depth' : hp.choice('max_depth', max_depth),\n",
    "       'min_samples_leaf': hp.choice('min_samples_leaf', min_samples_leaf)\n",
    "      }"
   ]
  },
  {
   "cell_type": "code",
   "execution_count": 23,
   "metadata": {},
   "outputs": [
    {
     "name": "stdout",
     "output_type": "stream",
     "text": [
      "100%|██████████| 20/20 [01:02<00:00,  3.12s/trial, best loss: -0.9773976786805131]\n"
     ]
    }
   ],
   "source": [
    "trials = Trials()\n",
    "\n",
    "time_s = time.time()\n",
    "best = fmin(\n",
    "    fn=hyperopt_rf,\n",
    "    space = space, \n",
    "    algo=tpe.suggest, \n",
    "    max_evals=20, \n",
    "    trials=trials\n",
    ")\n",
    "time_e = time.time()  # Записываем текущее время после получения результатов\n",
    "hp_time_H_RF = round(time_e - time_s, 3)  # Вычисляем время выполнения"
   ]
  },
  {
   "cell_type": "code",
   "execution_count": 24,
   "metadata": {},
   "outputs": [
    {
     "name": "stdout",
     "output_type": "stream",
     "text": [
      "\u001b[91m\n",
      "Hyperopt RandomForestClassifier результаты f1_score:\u001b[0m\n",
      "\u001b[36m- Тренировочный набор: 0.977\u001b[0m\n",
      "\u001b[36m- Тестовый набор: 0.823\u001b[0m\n",
      "\u001b[33m\n",
      "Время выполнения (секунд): 4.51\u001b[0m\n",
      "\u001b[92m\n",
      "Наилучшие значения гиперпараметров: {'max_depth': 9, 'min_samples_leaf': 1, 'n_estimators': 122}\u001b[0m\n",
      "\u001b[33m\n",
      "Время подбора гиперпараметров (секунд): 62.50\u001b[0m\n"
     ]
    }
   ],
   "source": [
    "rf_Hyperopt = ensemble.RandomForestClassifier(\n",
    "    random_state=RS, \n",
    "    n_estimators=n_estimators[int(best['n_estimators'])],\n",
    "    max_depth=max_depth[int(best['max_depth'])],\n",
    "    min_samples_leaf=min_samples_leaf[int(best['min_samples_leaf'])],\n",
    ")\n",
    "o_metric(rf_Hyperopt,'Hyperopt RandomForestClassifier', 'H', hp_time_H_RF)"
   ]
  },
  {
   "cell_type": "markdown",
   "metadata": {},
   "source": [
    "<p style = \"background-color : gold; border-radius: 2px 2px; padding : 3px\"><strong>\n",
    "<span style=\"color:#000\">RandomForestClassifier with cross validation:</span>"
   ]
  },
  {
   "cell_type": "code",
   "execution_count": 25,
   "metadata": {},
   "outputs": [
    {
     "name": "stdout",
     "output_type": "stream",
     "text": [
      "100%|██████████| 20/20 [02:00<00:00,  6.05s/trial, best loss: -0.814994863687837] \n"
     ]
    }
   ],
   "source": [
    "trials = Trials()\n",
    "\n",
    "time_s = time.time()\n",
    "best = fmin(\n",
    "    fn=hyperopt_rf_cross,\n",
    "    space = space, \n",
    "    algo=tpe.suggest, \n",
    "    max_evals=20, \n",
    "    trials=trials\n",
    ")\n",
    "time_e = time.time()  # Записываем текущее время после получения результатов\n",
    "hp_time_H_RF_С = round(time_e - time_s, 3)  # Вычисляем время выполнения"
   ]
  },
  {
   "cell_type": "code",
   "execution_count": 26,
   "metadata": {},
   "outputs": [
    {
     "name": "stdout",
     "output_type": "stream",
     "text": [
      "\u001b[91m\n",
      "Hyperopt RandomForestClassifier with cross validation результаты f1_score:\u001b[0m\n",
      "\u001b[36m- Тренировочный набор: 0.989\u001b[0m\n",
      "\u001b[36m- Тестовый набор: 0.818\u001b[0m\n",
      "\u001b[33m\n",
      "Время выполнения (секунд): 3.59\u001b[0m\n",
      "\u001b[92m\n",
      "Наилучшие значения гиперпараметров: {'max_depth': 3, 'min_samples_leaf': 0, 'n_estimators': 83}\u001b[0m\n",
      "\u001b[33m\n",
      "Время подбора гиперпараметров (секунд): 120.94\u001b[0m\n"
     ]
    }
   ],
   "source": [
    "rf_Hyperopt_cross = ensemble.RandomForestClassifier(\n",
    "    random_state=RS, \n",
    "    n_estimators=n_estimators[int(best['n_estimators'])],\n",
    "    max_depth=max_depth[int(best['max_depth'])],\n",
    "    min_samples_leaf=min_samples_leaf[int(best['min_samples_leaf'])],\n",
    ")\n",
    "o_metric(rf_Hyperopt_cross, 'Hyperopt RandomForestClassifier with cross validation', 'H', hp_time_H_RF_С)"
   ]
  },
  {
   "cell_type": "markdown",
   "metadata": {},
   "source": [
    "<center><p style = \"background-color : #59f068; border-radius: 5px 5px; padding : 10px\"><strong>\n",
    "<span style=\"color:#000\">Optuna</span>"
   ]
  },
  {
   "cell_type": "markdown",
   "metadata": {},
   "source": [
    "<p style = \"background-color : gold; border-radius: 2px 2px; padding : 3px\"><strong>\n",
    "<span style=\"color:#000\">LogisticRegression:</span>"
   ]
  },
  {
   "cell_type": "code",
   "execution_count": 27,
   "metadata": {},
   "outputs": [
    {
     "name": "stderr",
     "output_type": "stream",
     "text": [
      "[I 2024-07-17 20:25:32,456] A new study created in memory with name: no-name-88990aa0-7f2b-4f03-b690-f70277ed238e\n",
      "[I 2024-07-17 20:25:35,693] Trial 0 finished with value: 0.7788461538461539 and parameters: {'penalty': None, 'solver': 'sag', 'C': 0.4706856333441305}. Best is trial 0 with value: 0.7788461538461539.\n",
      "[I 2024-07-17 20:25:37,359] Trial 1 finished with value: 0.7870036101083032 and parameters: {'penalty': 'l2', 'solver': 'lbfgs', 'C': 0.643111863866539}. Best is trial 1 with value: 0.7870036101083032.\n",
      "[I 2024-07-17 20:25:39,007] Trial 2 finished with value: 0.7827130852340937 and parameters: {'penalty': 'l2', 'solver': 'lbfgs', 'C': 0.32938678211644834}. Best is trial 1 with value: 0.7870036101083032.\n",
      "[I 2024-07-17 20:25:42,171] Trial 3 finished with value: 0.7788461538461539 and parameters: {'penalty': None, 'solver': 'sag', 'C': 0.5981711207821332}. Best is trial 1 with value: 0.7870036101083032.\n",
      "[I 2024-07-17 20:25:44,831] Trial 4 finished with value: 0.784688995215311 and parameters: {'penalty': 'l2', 'solver': 'sag', 'C': 0.5442945023910363}. Best is trial 1 with value: 0.7870036101083032.\n",
      "[I 2024-07-17 20:25:46,443] Trial 5 finished with value: 0.7827130852340937 and parameters: {'penalty': 'l2', 'solver': 'lbfgs', 'C': 0.8244949299515216}. Best is trial 1 with value: 0.7870036101083032.\n",
      "[I 2024-07-17 20:25:49,617] Trial 6 finished with value: 0.787515006002401 and parameters: {'penalty': 'l2', 'solver': 'sag', 'C': 0.9127853108330631}. Best is trial 6 with value: 0.787515006002401.\n",
      "[I 2024-07-17 20:25:52,695] Trial 7 finished with value: 0.7788461538461539 and parameters: {'penalty': None, 'solver': 'sag', 'C': 0.38773199620536336}. Best is trial 6 with value: 0.787515006002401.\n",
      "[I 2024-07-17 20:25:54,310] Trial 8 finished with value: 0.7870036101083032 and parameters: {'penalty': 'l2', 'solver': 'lbfgs', 'C': 0.7312419762838297}. Best is trial 6 with value: 0.787515006002401.\n",
      "[I 2024-07-17 20:25:57,467] Trial 9 finished with value: 0.7899159663865546 and parameters: {'penalty': 'l2', 'solver': 'sag', 'C': 0.8479976926291043}. Best is trial 9 with value: 0.7899159663865546.\n",
      "[I 2024-07-17 20:26:00,588] Trial 10 finished with value: 0.7788461538461539 and parameters: {'penalty': None, 'solver': 'sag', 'C': 0.14039232919492106}. Best is trial 9 with value: 0.7899159663865546.\n",
      "[I 2024-07-17 20:26:03,829] Trial 11 finished with value: 0.787515006002401 and parameters: {'penalty': 'l2', 'solver': 'sag', 'C': 0.9868907922553382}. Best is trial 9 with value: 0.7899159663865546.\n",
      "[I 2024-07-17 20:26:07,385] Trial 12 finished with value: 0.787515006002401 and parameters: {'penalty': 'l2', 'solver': 'sag', 'C': 0.9902006804584159}. Best is trial 9 with value: 0.7899159663865546.\n",
      "[I 2024-07-17 20:26:10,291] Trial 13 finished with value: 0.7899159663865546 and parameters: {'penalty': 'l2', 'solver': 'sag', 'C': 0.8248279332333015}. Best is trial 9 with value: 0.7899159663865546.\n",
      "[I 2024-07-17 20:26:13,966] Trial 14 finished with value: 0.7899159663865546 and parameters: {'penalty': 'l2', 'solver': 'sag', 'C': 0.7969557846386541}. Best is trial 9 with value: 0.7899159663865546.\n",
      "[I 2024-07-17 20:26:17,231] Trial 15 finished with value: 0.7899159663865546 and parameters: {'penalty': 'l2', 'solver': 'sag', 'C': 0.7047600883997165}. Best is trial 9 with value: 0.7899159663865546.\n",
      "[I 2024-07-17 20:26:20,206] Trial 16 finished with value: 0.7884615384615384 and parameters: {'penalty': 'l2', 'solver': 'sag', 'C': 0.871855417829555}. Best is trial 9 with value: 0.7899159663865546.\n",
      "[I 2024-07-17 20:26:23,239] Trial 17 finished with value: 0.7899159663865546 and parameters: {'penalty': 'l2', 'solver': 'sag', 'C': 0.7531514192143193}. Best is trial 9 with value: 0.7899159663865546.\n",
      "[I 2024-07-17 20:26:24,907] Trial 18 finished with value: 0.75453446191052 and parameters: {'penalty': None, 'solver': 'lbfgs', 'C': 0.8974068399042044}. Best is trial 9 with value: 0.7899159663865546.\n",
      "[I 2024-07-17 20:26:28,270] Trial 19 finished with value: 0.7870813397129187 and parameters: {'penalty': 'l2', 'solver': 'sag', 'C': 0.6758210891623644}. Best is trial 9 with value: 0.7899159663865546.\n"
     ]
    }
   ],
   "source": [
    "# выводим результаты на обучающей выборке\n",
    "time_s = time.time()\n",
    "study = optuna.create_study(direction=\"maximize\")\n",
    "study.optimize(lambda trial: optuna_opt('LR', 'N', trial), n_trials=20)\n",
    "model = linear_model.LogisticRegression(**study.best_params,random_state=RS)\n",
    "time_e = time.time()  # Записываем текущее время после получения результатов\n",
    "hp_time_O_LR = round(time_e - time_s, 3)  # Вычисляем время выполнения"
   ]
  },
  {
   "cell_type": "code",
   "execution_count": 28,
   "metadata": {},
   "outputs": [
    {
     "name": "stdout",
     "output_type": "stream",
     "text": [
      "\u001b[91m\n",
      "Optuna LogisticRegression результаты f1_score:\u001b[0m\n",
      "\u001b[36m- Тренировочный набор: 0.877\u001b[0m\n",
      "\u001b[36m- Тестовый набор: 0.790\u001b[0m\n",
      "\u001b[33m\n",
      "Время выполнения (секунд): 3.38\u001b[0m\n",
      "\u001b[92m\n",
      "Наилучшие значения гиперпараметров: {'penalty': 'l2', 'solver': 'sag', 'C': 0.8479976926291043}\u001b[0m\n",
      "\u001b[33m\n",
      "Время подбора гиперпараметров (секунд): 55.81\u001b[0m\n"
     ]
    }
   ],
   "source": [
    "o_metric(model,'Optuna LogisticRegression', 'O', hp_time_O_LR)"
   ]
  },
  {
   "cell_type": "markdown",
   "metadata": {},
   "source": [
    "<p style = \"background-color : gold; border-radius: 2px 2px; padding : 3px\"><strong>\n",
    "<span style=\"color:#000\">LogisticRegression with cross validation:</span>"
   ]
  },
  {
   "cell_type": "code",
   "execution_count": 29,
   "metadata": {},
   "outputs": [
    {
     "name": "stderr",
     "output_type": "stream",
     "text": [
      "[I 2024-07-17 20:26:31,677] A new study created in memory with name: no-name-0967d227-82e9-430f-aa65-9719b923eb7d\n",
      "[I 2024-07-17 20:26:37,740] Trial 0 finished with value: 0.7665205856775353 and parameters: {'penalty': None, 'solver': 'sag', 'C': 0.10763839551748805}. Best is trial 0 with value: 0.7665205856775353.\n",
      "[I 2024-07-17 20:26:40,413] Trial 1 finished with value: 0.7475536741581407 and parameters: {'penalty': None, 'solver': 'lbfgs', 'C': 0.8342353994474094}. Best is trial 0 with value: 0.7665205856775353.\n",
      "[I 2024-07-17 20:26:45,512] Trial 2 finished with value: 0.7665205856775353 and parameters: {'penalty': None, 'solver': 'sag', 'C': 0.4051620096844578}. Best is trial 0 with value: 0.7665205856775353.\n",
      "[I 2024-07-17 20:26:48,061] Trial 3 finished with value: 0.7794642423999079 and parameters: {'penalty': 'l2', 'solver': 'lbfgs', 'C': 0.24693983771682101}. Best is trial 3 with value: 0.7794642423999079.\n",
      "[I 2024-07-17 20:26:54,461] Trial 4 finished with value: 0.7773958323184009 and parameters: {'penalty': 'l2', 'solver': 'sag', 'C': 0.46502267150749976}. Best is trial 3 with value: 0.7794642423999079.\n",
      "[I 2024-07-17 20:27:00,055] Trial 5 finished with value: 0.7665205856775353 and parameters: {'penalty': None, 'solver': 'sag', 'C': 0.9906422255856038}. Best is trial 3 with value: 0.7794642423999079.\n",
      "[I 2024-07-17 20:27:05,703] Trial 6 finished with value: 0.780159670120105 and parameters: {'penalty': 'l2', 'solver': 'sag', 'C': 0.203705035965433}. Best is trial 6 with value: 0.780159670120105.\n",
      "[I 2024-07-17 20:27:08,217] Trial 7 finished with value: 0.7475536741581407 and parameters: {'penalty': None, 'solver': 'lbfgs', 'C': 0.9134963744737029}. Best is trial 6 with value: 0.780159670120105.\n",
      "[I 2024-07-17 20:27:14,381] Trial 8 finished with value: 0.7733879088050886 and parameters: {'penalty': 'l2', 'solver': 'sag', 'C': 0.6172473545700757}. Best is trial 6 with value: 0.780159670120105.\n",
      "[I 2024-07-17 20:27:20,565] Trial 9 finished with value: 0.7665205856775353 and parameters: {'penalty': None, 'solver': 'sag', 'C': 0.6477505251497607}. Best is trial 6 with value: 0.780159670120105.\n",
      "[I 2024-07-17 20:27:23,174] Trial 10 finished with value: 0.7788776847819283 and parameters: {'penalty': 'l2', 'solver': 'lbfgs', 'C': 0.2669558910572136}. Best is trial 6 with value: 0.780159670120105.\n",
      "[I 2024-07-17 20:27:25,886] Trial 11 finished with value: 0.7816511656086778 and parameters: {'penalty': 'l2', 'solver': 'lbfgs', 'C': 0.11135916043967536}. Best is trial 11 with value: 0.7816511656086778.\n",
      "[I 2024-07-17 20:27:28,649] Trial 12 finished with value: 0.7805386035801489 and parameters: {'penalty': 'l2', 'solver': 'lbfgs', 'C': 0.21813581548030042}. Best is trial 11 with value: 0.7816511656086778.\n",
      "[I 2024-07-17 20:27:31,304] Trial 13 finished with value: 0.7818760097919568 and parameters: {'penalty': 'l2', 'solver': 'lbfgs', 'C': 0.10345219417611408}. Best is trial 13 with value: 0.7818760097919568.\n",
      "[I 2024-07-17 20:27:33,948] Trial 14 finished with value: 0.781557207019963 and parameters: {'penalty': 'l2', 'solver': 'lbfgs', 'C': 0.12129421375679951}. Best is trial 13 with value: 0.7818760097919568.\n",
      "[I 2024-07-17 20:27:36,664] Trial 15 finished with value: 0.7780316117573942 and parameters: {'penalty': 'l2', 'solver': 'lbfgs', 'C': 0.36858175356193523}. Best is trial 13 with value: 0.7818760097919568.\n",
      "[I 2024-07-17 20:27:39,304] Trial 16 finished with value: 0.7719033037604001 and parameters: {'penalty': 'l2', 'solver': 'lbfgs', 'C': 0.72947809588977}. Best is trial 13 with value: 0.7818760097919568.\n",
      "[I 2024-07-17 20:27:42,066] Trial 17 finished with value: 0.774497379991814 and parameters: {'penalty': 'l2', 'solver': 'lbfgs', 'C': 0.5065426376324382}. Best is trial 13 with value: 0.7818760097919568.\n",
      "[I 2024-07-17 20:27:44,840] Trial 18 finished with value: 0.7787419499970276 and parameters: {'penalty': 'l2', 'solver': 'lbfgs', 'C': 0.3145130722732783}. Best is trial 13 with value: 0.7818760097919568.\n",
      "[I 2024-07-17 20:27:47,439] Trial 19 finished with value: 0.7802037848792932 and parameters: {'penalty': 'l2', 'solver': 'lbfgs', 'C': 0.1034969115497617}. Best is trial 13 with value: 0.7818760097919568.\n"
     ]
    }
   ],
   "source": [
    "time_s = time.time()\n",
    "study = optuna.create_study(direction=\"maximize\")\n",
    "study.optimize(lambda trial: optuna_opt('LR', 'Y', trial), n_trials=20)\n",
    "model = linear_model.LogisticRegression(**study.best_params,random_state=RS)\n",
    "time_e = time.time()  # Записываем текущее время после получения результатов\n",
    "hp_time_O_LR_C = round(time_e - time_s, 3)  # Вычисляем время выполнения"
   ]
  },
  {
   "cell_type": "code",
   "execution_count": 30,
   "metadata": {},
   "outputs": [
    {
     "name": "stdout",
     "output_type": "stream",
     "text": [
      "\u001b[91m\n",
      "Optuna LogisticRegression with cross validation результаты f1_score:\u001b[0m\n",
      "\u001b[36m- Тренировочный набор: 0.850\u001b[0m\n",
      "\u001b[36m- Тестовый набор: 0.788\u001b[0m\n",
      "\u001b[33m\n",
      "Время выполнения (секунд): 0.24\u001b[0m\n",
      "\u001b[92m\n",
      "Наилучшие значения гиперпараметров: {'penalty': 'l2', 'solver': 'lbfgs', 'C': 0.10345219417611408}\u001b[0m\n",
      "\u001b[33m\n",
      "Время подбора гиперпараметров (секунд): 75.76\u001b[0m\n"
     ]
    }
   ],
   "source": [
    "o_metric(model,'Optuna LogisticRegression with cross validation', 'O', hp_time_O_LR_C)"
   ]
  },
  {
   "cell_type": "markdown",
   "metadata": {},
   "source": [
    "<p style = \"background-color : gold; border-radius: 2px 2px; padding : 3px\"><strong>\n",
    "<span style=\"color:#000\">RandomForestClassifier:</span>"
   ]
  },
  {
   "cell_type": "code",
   "execution_count": 31,
   "metadata": {},
   "outputs": [
    {
     "name": "stderr",
     "output_type": "stream",
     "text": [
      "[I 2024-07-17 20:27:47,724] A new study created in memory with name: no-name-113dc625-89ad-4346-9fd9-ae535746ce4a\n",
      "[I 2024-07-17 20:27:48,118] Trial 0 finished with value: 0.8263473053892215 and parameters: {'n_estimators': 240, 'min_samples_leaf': 3, 'max_depth': 33}. Best is trial 0 with value: 0.8263473053892215.\n",
      "[I 2024-07-17 20:27:48,562] Trial 1 finished with value: 0.821301775147929 and parameters: {'n_estimators': 280, 'min_samples_leaf': 7, 'max_depth': 20}. Best is trial 0 with value: 0.8263473053892215.\n",
      "[I 2024-07-17 20:27:48,975] Trial 2 finished with value: 0.8270142180094787 and parameters: {'n_estimators': 260, 'min_samples_leaf': 4, 'max_depth': 39}. Best is trial 2 with value: 0.8270142180094787.\n",
      "[I 2024-07-17 20:27:49,434] Trial 3 finished with value: 0.8264462809917356 and parameters: {'n_estimators': 300, 'min_samples_leaf': 5, 'max_depth': 31}. Best is trial 2 with value: 0.8270142180094787.\n",
      "[I 2024-07-17 20:27:49,767] Trial 4 finished with value: 0.8243727598566308 and parameters: {'n_estimators': 190, 'min_samples_leaf': 3, 'max_depth': 36}. Best is trial 2 with value: 0.8270142180094787.\n",
      "[I 2024-07-17 20:27:50,164] Trial 5 finished with value: 0.8208778173190985 and parameters: {'n_estimators': 240, 'min_samples_leaf': 7, 'max_depth': 22}. Best is trial 2 with value: 0.8270142180094787.\n",
      "[I 2024-07-17 20:27:50,463] Trial 6 finished with value: 0.8261904761904761 and parameters: {'n_estimators': 160, 'min_samples_leaf': 5, 'max_depth': 36}. Best is trial 2 with value: 0.8270142180094787.\n",
      "[I 2024-07-17 20:27:50,847] Trial 7 finished with value: 0.8253588516746412 and parameters: {'n_estimators': 220, 'min_samples_leaf': 3, 'max_depth': 32}. Best is trial 2 with value: 0.8270142180094787.\n",
      "[I 2024-07-17 20:27:51,097] Trial 8 finished with value: 0.830952380952381 and parameters: {'n_estimators': 110, 'min_samples_leaf': 5, 'max_depth': 17}. Best is trial 8 with value: 0.830952380952381.\n",
      "[I 2024-07-17 20:27:51,463] Trial 9 finished with value: 0.8279952550415184 and parameters: {'n_estimators': 220, 'min_samples_leaf': 5, 'max_depth': 40}. Best is trial 8 with value: 0.830952380952381.\n",
      "[I 2024-07-17 20:27:51,681] Trial 10 finished with value: 0.8172043010752689 and parameters: {'n_estimators': 100, 'min_samples_leaf': 6, 'max_depth': 17}. Best is trial 8 with value: 0.830952380952381.\n",
      "[I 2024-07-17 20:27:51,903] Trial 11 finished with value: 0.8114558472553699 and parameters: {'n_estimators': 110, 'min_samples_leaf': 6, 'max_depth': 27}. Best is trial 8 with value: 0.830952380952381.\n",
      "[I 2024-07-17 20:27:52,223] Trial 12 finished with value: 0.8271752085816448 and parameters: {'n_estimators': 170, 'min_samples_leaf': 4, 'max_depth': 25}. Best is trial 8 with value: 0.830952380952381.\n",
      "[I 2024-07-17 20:27:52,510] Trial 13 finished with value: 0.8156956004756243 and parameters: {'n_estimators': 130, 'min_samples_leaf': 6, 'max_depth': 16}. Best is trial 8 with value: 0.830952380952381.\n",
      "[I 2024-07-17 20:27:52,808] Trial 14 finished with value: 0.825511432009627 and parameters: {'n_estimators': 150, 'min_samples_leaf': 4, 'max_depth': 22}. Best is trial 8 with value: 0.830952380952381.\n",
      "[I 2024-07-17 20:27:53,158] Trial 15 finished with value: 0.8293838862559242 and parameters: {'n_estimators': 200, 'min_samples_leaf': 5, 'max_depth': 40}. Best is trial 8 with value: 0.830952380952381.\n",
      "[I 2024-07-17 20:27:53,489] Trial 16 finished with value: 0.8197115384615384 and parameters: {'n_estimators': 190, 'min_samples_leaf': 6, 'max_depth': 29}. Best is trial 8 with value: 0.830952380952381.\n",
      "[I 2024-07-17 20:27:53,760] Trial 17 finished with value: 0.8186157517899761 and parameters: {'n_estimators': 130, 'min_samples_leaf': 4, 'max_depth': 15}. Best is trial 8 with value: 0.830952380952381.\n",
      "[I 2024-07-17 20:27:54,269] Trial 18 finished with value: 0.8274231678486997 and parameters: {'n_estimators': 310, 'min_samples_leaf': 5, 'max_depth': 25}. Best is trial 8 with value: 0.830952380952381.\n",
      "[I 2024-07-17 20:27:54,539] Trial 19 finished with value: 0.8176400476758046 and parameters: {'n_estimators': 140, 'min_samples_leaf': 6, 'max_depth': 19}. Best is trial 8 with value: 0.830952380952381.\n"
     ]
    }
   ],
   "source": [
    "time_s = time.time()\n",
    "study = optuna.create_study(direction=\"maximize\")\n",
    "study.optimize(lambda trial: optuna_opt('RF', 'N', trial), n_trials=20)\n",
    "model = ensemble.RandomForestClassifier(**study.best_params,random_state=RS)\n",
    "time_e = time.time()  # Записываем текущее время после получения результатов\n",
    "hp_time_O_RF = round(time_e - time_s, 3)  # Вычисляем время выполнения"
   ]
  },
  {
   "cell_type": "code",
   "execution_count": 32,
   "metadata": {},
   "outputs": [
    {
     "name": "stdout",
     "output_type": "stream",
     "text": [
      "\u001b[91m\n",
      "Optuna RandomForestClassifier результаты f1_score:\u001b[0m\n",
      "\u001b[36m- Тренировочный набор: 0.943\u001b[0m\n",
      "\u001b[36m- Тестовый набор: 0.831\u001b[0m\n",
      "\u001b[33m\n",
      "Время выполнения (секунд): 1.37\u001b[0m\n",
      "\u001b[92m\n",
      "Наилучшие значения гиперпараметров: {'n_estimators': 110, 'min_samples_leaf': 5, 'max_depth': 17}\u001b[0m\n",
      "\u001b[33m\n",
      "Время подбора гиперпараметров (секунд): 6.82\u001b[0m\n"
     ]
    }
   ],
   "source": [
    "o_metric(model,'Optuna RandomForestClassifier', 'O', hp_time_O_RF)"
   ]
  },
  {
   "cell_type": "markdown",
   "metadata": {},
   "source": [
    "<p style = \"background-color : gold; border-radius: 2px 2px; padding : 3px\"><strong>\n",
    "<span style=\"color:#000\">RandomForestClassifier with cross validation:</span>"
   ]
  },
  {
   "cell_type": "code",
   "execution_count": 33,
   "metadata": {},
   "outputs": [
    {
     "name": "stderr",
     "output_type": "stream",
     "text": [
      "[I 2024-07-17 20:27:55,940] A new study created in memory with name: no-name-74efd7d4-bfc6-4cda-9f5c-a1dd0b680cb8\n",
      "[I 2024-07-17 20:27:56,758] Trial 0 finished with value: 0.8051584732004293 and parameters: {'n_estimators': 100, 'min_samples_leaf': 3, 'max_depth': 19}. Best is trial 0 with value: 0.8051584732004293.\n",
      "[I 2024-07-17 20:27:57,779] Trial 1 finished with value: 0.8006446698240822 and parameters: {'n_estimators': 180, 'min_samples_leaf': 6, 'max_depth': 31}. Best is trial 0 with value: 0.8051584732004293.\n",
      "[I 2024-07-17 20:27:58,726] Trial 2 finished with value: 0.799697838341408 and parameters: {'n_estimators': 160, 'min_samples_leaf': 7, 'max_depth': 20}. Best is trial 0 with value: 0.8051584732004293.\n",
      "[I 2024-07-17 20:27:59,818] Trial 3 finished with value: 0.8073958276649849 and parameters: {'n_estimators': 180, 'min_samples_leaf': 3, 'max_depth': 31}. Best is trial 3 with value: 0.8073958276649849.\n",
      "[I 2024-07-17 20:28:00,896] Trial 4 finished with value: 0.8014619044812467 and parameters: {'n_estimators': 200, 'min_samples_leaf': 6, 'max_depth': 20}. Best is trial 3 with value: 0.8073958276649849.\n",
      "[I 2024-07-17 20:28:02,425] Trial 5 finished with value: 0.8110040650120924 and parameters: {'n_estimators': 300, 'min_samples_leaf': 3, 'max_depth': 37}. Best is trial 5 with value: 0.8110040650120924.\n",
      "[I 2024-07-17 20:28:04,144] Trial 6 finished with value: 0.8100212165798049 and parameters: {'n_estimators': 310, 'min_samples_leaf': 3, 'max_depth': 28}. Best is trial 5 with value: 0.8110040650120924.\n",
      "[I 2024-07-17 20:28:04,930] Trial 7 finished with value: 0.8064721018387868 and parameters: {'n_estimators': 110, 'min_samples_leaf': 3, 'max_depth': 27}. Best is trial 5 with value: 0.8110040650120924.\n",
      "[I 2024-07-17 20:28:05,977] Trial 8 finished with value: 0.8009979345863375 and parameters: {'n_estimators': 190, 'min_samples_leaf': 6, 'max_depth': 31}. Best is trial 5 with value: 0.8110040650120924.\n",
      "[I 2024-07-17 20:28:06,847] Trial 9 finished with value: 0.8066807495839031 and parameters: {'n_estimators': 120, 'min_samples_leaf': 3, 'max_depth': 37}. Best is trial 5 with value: 0.8110040650120924.\n",
      "[I 2024-07-17 20:28:08,306] Trial 10 finished with value: 0.8072457760181857 and parameters: {'n_estimators': 290, 'min_samples_leaf': 4, 'max_depth': 40}. Best is trial 5 with value: 0.8110040650120924.\n",
      "[I 2024-07-17 20:28:09,842] Trial 11 finished with value: 0.8071499850845492 and parameters: {'n_estimators': 310, 'min_samples_leaf': 4, 'max_depth': 26}. Best is trial 5 with value: 0.8110040650120924.\n",
      "[I 2024-07-17 20:28:11,221] Trial 12 finished with value: 0.8071492294874828 and parameters: {'n_estimators': 260, 'min_samples_leaf': 4, 'max_depth': 36}. Best is trial 5 with value: 0.8110040650120924.\n",
      "[I 2024-07-17 20:28:12,524] Trial 13 finished with value: 0.8003978307952639 and parameters: {'n_estimators': 250, 'min_samples_leaf': 5, 'max_depth': 24}. Best is trial 5 with value: 0.8110040650120924.\n",
      "[I 2024-07-17 20:28:13,916] Trial 14 finished with value: 0.8066529095253114 and parameters: {'n_estimators': 250, 'min_samples_leaf': 4, 'max_depth': 35}. Best is trial 5 with value: 0.8110040650120924.\n",
      "[I 2024-07-17 20:28:15,289] Trial 15 finished with value: 0.8027284363478493 and parameters: {'n_estimators': 280, 'min_samples_leaf': 5, 'max_depth': 23}. Best is trial 5 with value: 0.8110040650120924.\n",
      "[I 2024-07-17 20:28:16,903] Trial 16 finished with value: 0.8073300679971671 and parameters: {'n_estimators': 310, 'min_samples_leaf': 3, 'max_depth': 15}. Best is trial 5 with value: 0.8110040650120924.\n",
      "[I 2024-07-17 20:28:18,166] Trial 17 finished with value: 0.8055166628690567 and parameters: {'n_estimators': 230, 'min_samples_leaf': 4, 'max_depth': 33}. Best is trial 5 with value: 0.8110040650120924.\n",
      "[I 2024-07-17 20:28:19,553] Trial 18 finished with value: 0.8046905036934835 and parameters: {'n_estimators': 280, 'min_samples_leaf': 5, 'max_depth': 40}. Best is trial 5 with value: 0.8110040650120924.\n",
      "[I 2024-07-17 20:28:20,815] Trial 19 finished with value: 0.8098777273332392 and parameters: {'n_estimators': 220, 'min_samples_leaf': 3, 'max_depth': 29}. Best is trial 5 with value: 0.8110040650120924.\n"
     ]
    }
   ],
   "source": [
    "time_s = time.time()\n",
    "study = optuna.create_study(direction=\"maximize\")\n",
    "study.optimize(lambda trial: optuna_opt('RF', 'Y', trial), n_trials=20)\n",
    "model = ensemble.RandomForestClassifier(**study.best_params,random_state=RS)\n",
    "time_e = time.time()  # Записываем текущее время после получения результатов\n",
    "hp_time_O_RF_C = round(time_e - time_s, 3)  # Вычисляем время выполнения"
   ]
  },
  {
   "cell_type": "code",
   "execution_count": 34,
   "metadata": {},
   "outputs": [
    {
     "name": "stdout",
     "output_type": "stream",
     "text": [
      "\u001b[91m\n",
      "Optuna RandomForestClassifier with cross validation результаты f1_score:\u001b[0m\n",
      "\u001b[36m- Тренировочный набор: 0.978\u001b[0m\n",
      "\u001b[36m- Тестовый набор: 0.821\u001b[0m\n",
      "\u001b[33m\n",
      "Время выполнения (секунд): 3.88\u001b[0m\n",
      "\u001b[92m\n",
      "Наилучшие значения гиперпараметров: {'n_estimators': 300, 'min_samples_leaf': 3, 'max_depth': 37}\u001b[0m\n",
      "\u001b[33m\n",
      "Время подбора гиперпараметров (секунд): 24.88\u001b[0m\n"
     ]
    }
   ],
   "source": [
    "o_metric(model,'Optuna RandomForestClassifier with cross validation', 'O', hp_time_O_RF_C)"
   ]
  },
  {
   "cell_type": "markdown",
   "metadata": {},
   "source": [
    "<p style = \"background-color : red; border-radius: 5px 5px; padding : 2px\"><strong>\n",
    "<span style=\"color:#000\">Код в качестве примера визуализация оптимизации optuna #закоментил#</span>"
   ]
  },
  {
   "cell_type": "code",
   "execution_count": 35,
   "metadata": {},
   "outputs": [],
   "source": [
    "# optuna.visualization.is_available()"
   ]
  },
  {
   "cell_type": "code",
   "execution_count": 36,
   "metadata": {},
   "outputs": [],
   "source": [
    "# optuna.visualization.plot_optimization_history(study, target_name=\"f1_score\")"
   ]
  },
  {
   "cell_type": "code",
   "execution_count": 37,
   "metadata": {},
   "outputs": [],
   "source": [
    "# optuna.visualization.plot_param_importances(study, target_name=\"f1_score\")"
   ]
  },
  {
   "cell_type": "code",
   "execution_count": 38,
   "metadata": {},
   "outputs": [],
   "source": [
    "# optuna.visualization.plot_contour(study, params=[\"max_depth\", \"min_samples_leaf\"],\n",
    "#                                   target_name=\"f1_score\")"
   ]
  },
  {
   "cell_type": "markdown",
   "metadata": {},
   "source": [
    "<center><p style = \"background-color : #59f068; border-radius: 5px 5px; padding : 10px\"><strong>\n",
    "<span style=\"color:#000\">Создадим DataFrame из полученных результатов, визуализируем и подытожим полученные результаты</span>"
   ]
  },
  {
   "cell_type": "code",
   "execution_count": 39,
   "metadata": {},
   "outputs": [
    {
     "data": {
      "text/html": [
       "<div>\n",
       "<style scoped>\n",
       "    .dataframe tbody tr th:only-of-type {\n",
       "        vertical-align: middle;\n",
       "    }\n",
       "\n",
       "    .dataframe tbody tr th {\n",
       "        vertical-align: top;\n",
       "    }\n",
       "\n",
       "    .dataframe thead th {\n",
       "        text-align: right;\n",
       "    }\n",
       "</style>\n",
       "<table border=\"1\" class=\"dataframe\">\n",
       "  <thead>\n",
       "    <tr style=\"text-align: right;\">\n",
       "      <th></th>\n",
       "      <th>model_name</th>\n",
       "      <th>train</th>\n",
       "      <th>test</th>\n",
       "      <th>time</th>\n",
       "      <th>hyper_time</th>\n",
       "    </tr>\n",
       "  </thead>\n",
       "  <tbody>\n",
       "    <tr>\n",
       "      <th>0</th>\n",
       "      <td>LogisticRegression</td>\n",
       "      <td>0.871</td>\n",
       "      <td>0.786</td>\n",
       "      <td>0.170</td>\n",
       "      <td>0.000</td>\n",
       "    </tr>\n",
       "    <tr>\n",
       "      <th>1</th>\n",
       "      <td>RandomForestClassifier</td>\n",
       "      <td>1.000</td>\n",
       "      <td>0.813</td>\n",
       "      <td>1.599</td>\n",
       "      <td>0.000</td>\n",
       "    </tr>\n",
       "    <tr>\n",
       "      <th>2</th>\n",
       "      <td>GridSearchCV LogisticRegression</td>\n",
       "      <td>0.817</td>\n",
       "      <td>0.797</td>\n",
       "      <td>16.935</td>\n",
       "      <td>0.000</td>\n",
       "    </tr>\n",
       "    <tr>\n",
       "      <th>3</th>\n",
       "      <td>GridSearchCV RandomForestClassifier</td>\n",
       "      <td>0.977</td>\n",
       "      <td>0.824</td>\n",
       "      <td>83.562</td>\n",
       "      <td>0.000</td>\n",
       "    </tr>\n",
       "    <tr>\n",
       "      <th>4</th>\n",
       "      <td>RandomizedSearchCV LogisticRegression</td>\n",
       "      <td>0.851</td>\n",
       "      <td>0.786</td>\n",
       "      <td>14.977</td>\n",
       "      <td>0.000</td>\n",
       "    </tr>\n",
       "    <tr>\n",
       "      <th>5</th>\n",
       "      <td>RandomizedSearchCV RandomForestClassifier</td>\n",
       "      <td>0.851</td>\n",
       "      <td>0.786</td>\n",
       "      <td>14.767</td>\n",
       "      <td>0.000</td>\n",
       "    </tr>\n",
       "    <tr>\n",
       "      <th>6</th>\n",
       "      <td>Hyperopt LogisticRegression</td>\n",
       "      <td>0.910</td>\n",
       "      <td>0.755</td>\n",
       "      <td>0.216</td>\n",
       "      <td>15.709</td>\n",
       "    </tr>\n",
       "    <tr>\n",
       "      <th>7</th>\n",
       "      <td>Hyperopt LogisticRegression with cross validation</td>\n",
       "      <td>0.849</td>\n",
       "      <td>0.790</td>\n",
       "      <td>2.771</td>\n",
       "      <td>37.089</td>\n",
       "    </tr>\n",
       "    <tr>\n",
       "      <th>8</th>\n",
       "      <td>Hyperopt RandomForestClassifier</td>\n",
       "      <td>0.977</td>\n",
       "      <td>0.823</td>\n",
       "      <td>4.514</td>\n",
       "      <td>62.501</td>\n",
       "    </tr>\n",
       "    <tr>\n",
       "      <th>9</th>\n",
       "      <td>Hyperopt RandomForestClassifier with cross val...</td>\n",
       "      <td>0.989</td>\n",
       "      <td>0.818</td>\n",
       "      <td>3.591</td>\n",
       "      <td>120.938</td>\n",
       "    </tr>\n",
       "    <tr>\n",
       "      <th>10</th>\n",
       "      <td>Optuna LogisticRegression</td>\n",
       "      <td>0.877</td>\n",
       "      <td>0.790</td>\n",
       "      <td>3.375</td>\n",
       "      <td>55.815</td>\n",
       "    </tr>\n",
       "    <tr>\n",
       "      <th>11</th>\n",
       "      <td>Optuna LogisticRegression with cross validation</td>\n",
       "      <td>0.850</td>\n",
       "      <td>0.788</td>\n",
       "      <td>0.239</td>\n",
       "      <td>75.763</td>\n",
       "    </tr>\n",
       "    <tr>\n",
       "      <th>12</th>\n",
       "      <td>Optuna RandomForestClassifier</td>\n",
       "      <td>0.943</td>\n",
       "      <td>0.831</td>\n",
       "      <td>1.371</td>\n",
       "      <td>6.816</td>\n",
       "    </tr>\n",
       "    <tr>\n",
       "      <th>13</th>\n",
       "      <td>Optuna RandomForestClassifier with cross valid...</td>\n",
       "      <td>0.978</td>\n",
       "      <td>0.821</td>\n",
       "      <td>3.877</td>\n",
       "      <td>24.879</td>\n",
       "    </tr>\n",
       "  </tbody>\n",
       "</table>\n",
       "</div>"
      ],
      "text/plain": [
       "                                           model_name  train   test    time  \\\n",
       "0                                  LogisticRegression  0.871  0.786   0.170   \n",
       "1                              RandomForestClassifier  1.000  0.813   1.599   \n",
       "2                     GridSearchCV LogisticRegression  0.817  0.797  16.935   \n",
       "3                 GridSearchCV RandomForestClassifier  0.977  0.824  83.562   \n",
       "4               RandomizedSearchCV LogisticRegression  0.851  0.786  14.977   \n",
       "5           RandomizedSearchCV RandomForestClassifier  0.851  0.786  14.767   \n",
       "6                         Hyperopt LogisticRegression  0.910  0.755   0.216   \n",
       "7   Hyperopt LogisticRegression with cross validation  0.849  0.790   2.771   \n",
       "8                     Hyperopt RandomForestClassifier  0.977  0.823   4.514   \n",
       "9   Hyperopt RandomForestClassifier with cross val...  0.989  0.818   3.591   \n",
       "10                          Optuna LogisticRegression  0.877  0.790   3.375   \n",
       "11    Optuna LogisticRegression with cross validation  0.850  0.788   0.239   \n",
       "12                      Optuna RandomForestClassifier  0.943  0.831   1.371   \n",
       "13  Optuna RandomForestClassifier with cross valid...  0.978  0.821   3.877   \n",
       "\n",
       "    hyper_time  \n",
       "0        0.000  \n",
       "1        0.000  \n",
       "2        0.000  \n",
       "3        0.000  \n",
       "4        0.000  \n",
       "5        0.000  \n",
       "6       15.709  \n",
       "7       37.089  \n",
       "8       62.501  \n",
       "9      120.938  \n",
       "10      55.815  \n",
       "11      75.763  \n",
       "12       6.816  \n",
       "13      24.879  "
      ]
     },
     "execution_count": 39,
     "metadata": {},
     "output_type": "execute_result"
    }
   ],
   "source": [
    "results_learn = pd.DataFrame(results_learn)\n",
    "results_learn"
   ]
  },
  {
   "cell_type": "code",
   "execution_count": 40,
   "metadata": {},
   "outputs": [
    {
     "data": {
      "application/vnd.plotly.v1+json": {
       "config": {
        "plotlyServerURL": "https://plot.ly"
       },
       "data": [
        {
         "alignmentgroup": "True",
         "hovertemplate": "f1_score: %{x}",
         "legendgroup": "train",
         "marker": {
          "color": "#636efa",
          "line": {
           "color": "black",
           "width": 1
          },
          "pattern": {
           "shape": ""
          }
         },
         "name": "train",
         "offsetgroup": "train",
         "opacity": 0.75,
         "orientation": "h",
         "showlegend": true,
         "textposition": "auto",
         "type": "bar",
         "x": [
          0.91,
          0.871,
          0.851,
          0.851,
          0.85,
          0.849,
          0.877,
          0.817,
          1,
          0.989,
          0.978,
          0.977,
          0.977,
          0.943
         ],
         "xaxis": "x",
         "y": [
          "Hyperopt LogisticRegression",
          "LogisticRegression",
          "RandomizedSearchCV LogisticRegression",
          "RandomizedSearchCV RandomForestClassifier",
          "Optuna LogisticRegression with cross validation",
          "Hyperopt LogisticRegression with cross validation",
          "Optuna LogisticRegression",
          "GridSearchCV LogisticRegression",
          "RandomForestClassifier",
          "Hyperopt RandomForestClassifier with cross validation",
          "Optuna RandomForestClassifier with cross validation",
          "Hyperopt RandomForestClassifier",
          "GridSearchCV RandomForestClassifier",
          "Optuna RandomForestClassifier"
         ],
         "yaxis": "y"
        },
        {
         "alignmentgroup": "True",
         "hovertemplate": "f1_score: %{x}",
         "legendgroup": "test",
         "marker": {
          "color": "#EF553B",
          "line": {
           "color": "black",
           "width": 1
          },
          "pattern": {
           "shape": ""
          }
         },
         "name": "test",
         "offsetgroup": "test",
         "opacity": 0.75,
         "orientation": "h",
         "showlegend": true,
         "textposition": "auto",
         "type": "bar",
         "x": [
          0.755,
          0.786,
          0.786,
          0.786,
          0.788,
          0.79,
          0.79,
          0.797,
          0.813,
          0.818,
          0.821,
          0.823,
          0.824,
          0.831
         ],
         "xaxis": "x",
         "y": [
          "Hyperopt LogisticRegression",
          "LogisticRegression",
          "RandomizedSearchCV LogisticRegression",
          "RandomizedSearchCV RandomForestClassifier",
          "Optuna LogisticRegression with cross validation",
          "Hyperopt LogisticRegression with cross validation",
          "Optuna LogisticRegression",
          "GridSearchCV LogisticRegression",
          "RandomForestClassifier",
          "Hyperopt RandomForestClassifier with cross validation",
          "Optuna RandomForestClassifier with cross validation",
          "Hyperopt RandomForestClassifier",
          "GridSearchCV RandomForestClassifier",
          "Optuna RandomForestClassifier"
         ],
         "yaxis": "y"
        }
       ],
       "layout": {
        "barmode": "group",
        "height": 1000,
        "legend": {
         "title": {
          "text": "variable"
         },
         "tracegroupgap": 0
        },
        "margin": {
         "b": 0,
         "l": 0,
         "r": 0,
         "t": 30
        },
        "template": {
         "data": {
          "bar": [
           {
            "error_x": {
             "color": "#2a3f5f"
            },
            "error_y": {
             "color": "#2a3f5f"
            },
            "marker": {
             "line": {
              "color": "#E5ECF6",
              "width": 0.5
             },
             "pattern": {
              "fillmode": "overlay",
              "size": 10,
              "solidity": 0.2
             }
            },
            "type": "bar"
           }
          ],
          "barpolar": [
           {
            "marker": {
             "line": {
              "color": "#E5ECF6",
              "width": 0.5
             },
             "pattern": {
              "fillmode": "overlay",
              "size": 10,
              "solidity": 0.2
             }
            },
            "type": "barpolar"
           }
          ],
          "carpet": [
           {
            "aaxis": {
             "endlinecolor": "#2a3f5f",
             "gridcolor": "white",
             "linecolor": "white",
             "minorgridcolor": "white",
             "startlinecolor": "#2a3f5f"
            },
            "baxis": {
             "endlinecolor": "#2a3f5f",
             "gridcolor": "white",
             "linecolor": "white",
             "minorgridcolor": "white",
             "startlinecolor": "#2a3f5f"
            },
            "type": "carpet"
           }
          ],
          "choropleth": [
           {
            "colorbar": {
             "outlinewidth": 0,
             "ticks": ""
            },
            "type": "choropleth"
           }
          ],
          "contour": [
           {
            "colorbar": {
             "outlinewidth": 0,
             "ticks": ""
            },
            "colorscale": [
             [
              0,
              "#0d0887"
             ],
             [
              0.1111111111111111,
              "#46039f"
             ],
             [
              0.2222222222222222,
              "#7201a8"
             ],
             [
              0.3333333333333333,
              "#9c179e"
             ],
             [
              0.4444444444444444,
              "#bd3786"
             ],
             [
              0.5555555555555556,
              "#d8576b"
             ],
             [
              0.6666666666666666,
              "#ed7953"
             ],
             [
              0.7777777777777778,
              "#fb9f3a"
             ],
             [
              0.8888888888888888,
              "#fdca26"
             ],
             [
              1,
              "#f0f921"
             ]
            ],
            "type": "contour"
           }
          ],
          "contourcarpet": [
           {
            "colorbar": {
             "outlinewidth": 0,
             "ticks": ""
            },
            "type": "contourcarpet"
           }
          ],
          "heatmap": [
           {
            "colorbar": {
             "outlinewidth": 0,
             "ticks": ""
            },
            "colorscale": [
             [
              0,
              "#0d0887"
             ],
             [
              0.1111111111111111,
              "#46039f"
             ],
             [
              0.2222222222222222,
              "#7201a8"
             ],
             [
              0.3333333333333333,
              "#9c179e"
             ],
             [
              0.4444444444444444,
              "#bd3786"
             ],
             [
              0.5555555555555556,
              "#d8576b"
             ],
             [
              0.6666666666666666,
              "#ed7953"
             ],
             [
              0.7777777777777778,
              "#fb9f3a"
             ],
             [
              0.8888888888888888,
              "#fdca26"
             ],
             [
              1,
              "#f0f921"
             ]
            ],
            "type": "heatmap"
           }
          ],
          "heatmapgl": [
           {
            "colorbar": {
             "outlinewidth": 0,
             "ticks": ""
            },
            "colorscale": [
             [
              0,
              "#0d0887"
             ],
             [
              0.1111111111111111,
              "#46039f"
             ],
             [
              0.2222222222222222,
              "#7201a8"
             ],
             [
              0.3333333333333333,
              "#9c179e"
             ],
             [
              0.4444444444444444,
              "#bd3786"
             ],
             [
              0.5555555555555556,
              "#d8576b"
             ],
             [
              0.6666666666666666,
              "#ed7953"
             ],
             [
              0.7777777777777778,
              "#fb9f3a"
             ],
             [
              0.8888888888888888,
              "#fdca26"
             ],
             [
              1,
              "#f0f921"
             ]
            ],
            "type": "heatmapgl"
           }
          ],
          "histogram": [
           {
            "marker": {
             "pattern": {
              "fillmode": "overlay",
              "size": 10,
              "solidity": 0.2
             }
            },
            "type": "histogram"
           }
          ],
          "histogram2d": [
           {
            "colorbar": {
             "outlinewidth": 0,
             "ticks": ""
            },
            "colorscale": [
             [
              0,
              "#0d0887"
             ],
             [
              0.1111111111111111,
              "#46039f"
             ],
             [
              0.2222222222222222,
              "#7201a8"
             ],
             [
              0.3333333333333333,
              "#9c179e"
             ],
             [
              0.4444444444444444,
              "#bd3786"
             ],
             [
              0.5555555555555556,
              "#d8576b"
             ],
             [
              0.6666666666666666,
              "#ed7953"
             ],
             [
              0.7777777777777778,
              "#fb9f3a"
             ],
             [
              0.8888888888888888,
              "#fdca26"
             ],
             [
              1,
              "#f0f921"
             ]
            ],
            "type": "histogram2d"
           }
          ],
          "histogram2dcontour": [
           {
            "colorbar": {
             "outlinewidth": 0,
             "ticks": ""
            },
            "colorscale": [
             [
              0,
              "#0d0887"
             ],
             [
              0.1111111111111111,
              "#46039f"
             ],
             [
              0.2222222222222222,
              "#7201a8"
             ],
             [
              0.3333333333333333,
              "#9c179e"
             ],
             [
              0.4444444444444444,
              "#bd3786"
             ],
             [
              0.5555555555555556,
              "#d8576b"
             ],
             [
              0.6666666666666666,
              "#ed7953"
             ],
             [
              0.7777777777777778,
              "#fb9f3a"
             ],
             [
              0.8888888888888888,
              "#fdca26"
             ],
             [
              1,
              "#f0f921"
             ]
            ],
            "type": "histogram2dcontour"
           }
          ],
          "mesh3d": [
           {
            "colorbar": {
             "outlinewidth": 0,
             "ticks": ""
            },
            "type": "mesh3d"
           }
          ],
          "parcoords": [
           {
            "line": {
             "colorbar": {
              "outlinewidth": 0,
              "ticks": ""
             }
            },
            "type": "parcoords"
           }
          ],
          "pie": [
           {
            "automargin": true,
            "type": "pie"
           }
          ],
          "scatter": [
           {
            "fillpattern": {
             "fillmode": "overlay",
             "size": 10,
             "solidity": 0.2
            },
            "type": "scatter"
           }
          ],
          "scatter3d": [
           {
            "line": {
             "colorbar": {
              "outlinewidth": 0,
              "ticks": ""
             }
            },
            "marker": {
             "colorbar": {
              "outlinewidth": 0,
              "ticks": ""
             }
            },
            "type": "scatter3d"
           }
          ],
          "scattercarpet": [
           {
            "marker": {
             "colorbar": {
              "outlinewidth": 0,
              "ticks": ""
             }
            },
            "type": "scattercarpet"
           }
          ],
          "scattergeo": [
           {
            "marker": {
             "colorbar": {
              "outlinewidth": 0,
              "ticks": ""
             }
            },
            "type": "scattergeo"
           }
          ],
          "scattergl": [
           {
            "marker": {
             "colorbar": {
              "outlinewidth": 0,
              "ticks": ""
             }
            },
            "type": "scattergl"
           }
          ],
          "scattermapbox": [
           {
            "marker": {
             "colorbar": {
              "outlinewidth": 0,
              "ticks": ""
             }
            },
            "type": "scattermapbox"
           }
          ],
          "scatterpolar": [
           {
            "marker": {
             "colorbar": {
              "outlinewidth": 0,
              "ticks": ""
             }
            },
            "type": "scatterpolar"
           }
          ],
          "scatterpolargl": [
           {
            "marker": {
             "colorbar": {
              "outlinewidth": 0,
              "ticks": ""
             }
            },
            "type": "scatterpolargl"
           }
          ],
          "scatterternary": [
           {
            "marker": {
             "colorbar": {
              "outlinewidth": 0,
              "ticks": ""
             }
            },
            "type": "scatterternary"
           }
          ],
          "surface": [
           {
            "colorbar": {
             "outlinewidth": 0,
             "ticks": ""
            },
            "colorscale": [
             [
              0,
              "#0d0887"
             ],
             [
              0.1111111111111111,
              "#46039f"
             ],
             [
              0.2222222222222222,
              "#7201a8"
             ],
             [
              0.3333333333333333,
              "#9c179e"
             ],
             [
              0.4444444444444444,
              "#bd3786"
             ],
             [
              0.5555555555555556,
              "#d8576b"
             ],
             [
              0.6666666666666666,
              "#ed7953"
             ],
             [
              0.7777777777777778,
              "#fb9f3a"
             ],
             [
              0.8888888888888888,
              "#fdca26"
             ],
             [
              1,
              "#f0f921"
             ]
            ],
            "type": "surface"
           }
          ],
          "table": [
           {
            "cells": {
             "fill": {
              "color": "#EBF0F8"
             },
             "line": {
              "color": "white"
             }
            },
            "header": {
             "fill": {
              "color": "#C8D4E3"
             },
             "line": {
              "color": "white"
             }
            },
            "type": "table"
           }
          ]
         },
         "layout": {
          "annotationdefaults": {
           "arrowcolor": "#2a3f5f",
           "arrowhead": 0,
           "arrowwidth": 1
          },
          "autotypenumbers": "strict",
          "coloraxis": {
           "colorbar": {
            "outlinewidth": 0,
            "ticks": ""
           }
          },
          "colorscale": {
           "diverging": [
            [
             0,
             "#8e0152"
            ],
            [
             0.1,
             "#c51b7d"
            ],
            [
             0.2,
             "#de77ae"
            ],
            [
             0.3,
             "#f1b6da"
            ],
            [
             0.4,
             "#fde0ef"
            ],
            [
             0.5,
             "#f7f7f7"
            ],
            [
             0.6,
             "#e6f5d0"
            ],
            [
             0.7,
             "#b8e186"
            ],
            [
             0.8,
             "#7fbc41"
            ],
            [
             0.9,
             "#4d9221"
            ],
            [
             1,
             "#276419"
            ]
           ],
           "sequential": [
            [
             0,
             "#0d0887"
            ],
            [
             0.1111111111111111,
             "#46039f"
            ],
            [
             0.2222222222222222,
             "#7201a8"
            ],
            [
             0.3333333333333333,
             "#9c179e"
            ],
            [
             0.4444444444444444,
             "#bd3786"
            ],
            [
             0.5555555555555556,
             "#d8576b"
            ],
            [
             0.6666666666666666,
             "#ed7953"
            ],
            [
             0.7777777777777778,
             "#fb9f3a"
            ],
            [
             0.8888888888888888,
             "#fdca26"
            ],
            [
             1,
             "#f0f921"
            ]
           ],
           "sequentialminus": [
            [
             0,
             "#0d0887"
            ],
            [
             0.1111111111111111,
             "#46039f"
            ],
            [
             0.2222222222222222,
             "#7201a8"
            ],
            [
             0.3333333333333333,
             "#9c179e"
            ],
            [
             0.4444444444444444,
             "#bd3786"
            ],
            [
             0.5555555555555556,
             "#d8576b"
            ],
            [
             0.6666666666666666,
             "#ed7953"
            ],
            [
             0.7777777777777778,
             "#fb9f3a"
            ],
            [
             0.8888888888888888,
             "#fdca26"
            ],
            [
             1,
             "#f0f921"
            ]
           ]
          },
          "colorway": [
           "#636efa",
           "#EF553B",
           "#00cc96",
           "#ab63fa",
           "#FFA15A",
           "#19d3f3",
           "#FF6692",
           "#B6E880",
           "#FF97FF",
           "#FECB52"
          ],
          "font": {
           "color": "#2a3f5f"
          },
          "geo": {
           "bgcolor": "white",
           "lakecolor": "white",
           "landcolor": "#E5ECF6",
           "showlakes": true,
           "showland": true,
           "subunitcolor": "white"
          },
          "hoverlabel": {
           "align": "left"
          },
          "hovermode": "closest",
          "mapbox": {
           "style": "light"
          },
          "paper_bgcolor": "white",
          "plot_bgcolor": "#E5ECF6",
          "polar": {
           "angularaxis": {
            "gridcolor": "white",
            "linecolor": "white",
            "ticks": ""
           },
           "bgcolor": "#E5ECF6",
           "radialaxis": {
            "gridcolor": "white",
            "linecolor": "white",
            "ticks": ""
           }
          },
          "scene": {
           "xaxis": {
            "backgroundcolor": "#E5ECF6",
            "gridcolor": "white",
            "gridwidth": 2,
            "linecolor": "white",
            "showbackground": true,
            "ticks": "",
            "zerolinecolor": "white"
           },
           "yaxis": {
            "backgroundcolor": "#E5ECF6",
            "gridcolor": "white",
            "gridwidth": 2,
            "linecolor": "white",
            "showbackground": true,
            "ticks": "",
            "zerolinecolor": "white"
           },
           "zaxis": {
            "backgroundcolor": "#E5ECF6",
            "gridcolor": "white",
            "gridwidth": 2,
            "linecolor": "white",
            "showbackground": true,
            "ticks": "",
            "zerolinecolor": "white"
           }
          },
          "shapedefaults": {
           "line": {
            "color": "#2a3f5f"
           }
          },
          "ternary": {
           "aaxis": {
            "gridcolor": "white",
            "linecolor": "white",
            "ticks": ""
           },
           "baxis": {
            "gridcolor": "white",
            "linecolor": "white",
            "ticks": ""
           },
           "bgcolor": "#E5ECF6",
           "caxis": {
            "gridcolor": "white",
            "linecolor": "white",
            "ticks": ""
           }
          },
          "title": {
           "x": 0.05
          },
          "xaxis": {
           "automargin": true,
           "gridcolor": "white",
           "linecolor": "white",
           "ticks": "",
           "title": {
            "standoff": 15
           },
           "zerolinecolor": "white",
           "zerolinewidth": 2
          },
          "yaxis": {
           "automargin": true,
           "gridcolor": "white",
           "linecolor": "white",
           "ticks": "",
           "title": {
            "standoff": 15
           },
           "zerolinecolor": "white",
           "zerolinewidth": 2
          }
         }
        },
        "title": {
         "text": "Сравнительный график f1_score моделей",
         "x": 0.5,
         "xanchor": "center"
        },
        "width": 1200,
        "xaxis": {
         "anchor": "y",
         "domain": [
          0,
          1
         ],
         "gridcolor": "black",
         "gridwidth": 2,
         "showgrid": true,
         "title": {
          "text": "f1_score"
         }
        },
        "yaxis": {
         "anchor": "x",
         "domain": [
          0,
          1
         ],
         "title": {
          "text": ""
         }
        }
       }
      }
     },
     "metadata": {},
     "output_type": "display_data"
    }
   ],
   "source": [
    "#Отсортируем данные для лучшей наглядности\n",
    "result_test = results_learn.sort_values(by='test')\n",
    "\n",
    "# Построение графика\n",
    "fig = px.bar(result_test,\n",
    "             y='model_name',\n",
    "             x=['train', 'test'],\n",
    "             barmode='group',\n",
    "             title = 'Сравнительный график f1_score моделей',\n",
    "             width=1200,\n",
    "             height=1000)\n",
    "\n",
    "# Настройка осей графика:\n",
    "fig.update_layout(\n",
    "    title = dict(x = .5, xanchor = \"center\"),\n",
    "    xaxis_title = \"f1_score\",\n",
    "    yaxis_title=\"\",\n",
    "    margin=dict(l=0, r=0, t=30, b=0)\n",
    "    )\n",
    "\n",
    "# Настройка информации при наведении курсора:\n",
    "fig.update_traces(\n",
    "    hovertemplate=\"f1_score: %{x}\", #Информация при наведении курсора на колонку\n",
    "    marker_line_color='black',   # Цвет линии колонки\n",
    "    marker_line_width=1.0,       # Толщина линии колонки\n",
    "    opacity=0.75            # Прозрачность колонки\n",
    ")\n",
    "\n",
    "# Добавление сетки на график для улучшения визуального восприятия информации\n",
    "fig.update_xaxes(showgrid=True, gridwidth=2, gridcolor='black')\n",
    "# fig.update_yaxes(showgrid=True, gridwidth=2, gridcolor='black')\n",
    "\n",
    "# Отображение графика\n",
    "fig.show()"
   ]
  },
  {
   "cell_type": "code",
   "execution_count": 41,
   "metadata": {},
   "outputs": [
    {
     "data": {
      "application/vnd.plotly.v1+json": {
       "config": {
        "plotlyServerURL": "https://plot.ly"
       },
       "data": [
        {
         "alignmentgroup": "True",
         "hovertemplate": "Время обучения: %{y} сек",
         "legendgroup": "LogisticRegression",
         "marker": {
          "color": "#636efa",
          "line": {
           "color": "black",
           "width": 2.5
          },
          "pattern": {
           "shape": ""
          }
         },
         "name": "LogisticRegression",
         "offsetgroup": "LogisticRegression",
         "opacity": 0.75,
         "orientation": "v",
         "showlegend": true,
         "textposition": "auto",
         "type": "bar",
         "x": [
          "LogisticRegression"
         ],
         "xaxis": "x",
         "y": [
          0.17
         ],
         "yaxis": "y"
        },
        {
         "alignmentgroup": "True",
         "hovertemplate": "Время обучения: %{y} сек",
         "legendgroup": "Hyperopt LogisticRegression",
         "marker": {
          "color": "#EF553B",
          "line": {
           "color": "black",
           "width": 2.5
          },
          "pattern": {
           "shape": ""
          }
         },
         "name": "Hyperopt LogisticRegression",
         "offsetgroup": "Hyperopt LogisticRegression",
         "opacity": 0.75,
         "orientation": "v",
         "showlegend": true,
         "textposition": "auto",
         "type": "bar",
         "x": [
          "Hyperopt LogisticRegression"
         ],
         "xaxis": "x",
         "y": [
          0.216
         ],
         "yaxis": "y"
        },
        {
         "alignmentgroup": "True",
         "hovertemplate": "Время обучения: %{y} сек",
         "legendgroup": "Optuna LogisticRegression with cross validation",
         "marker": {
          "color": "#00cc96",
          "line": {
           "color": "black",
           "width": 2.5
          },
          "pattern": {
           "shape": ""
          }
         },
         "name": "Optuna LogisticRegression with cross validation",
         "offsetgroup": "Optuna LogisticRegression with cross validation",
         "opacity": 0.75,
         "orientation": "v",
         "showlegend": true,
         "textposition": "auto",
         "type": "bar",
         "x": [
          "Optuna LogisticRegression with cross validation"
         ],
         "xaxis": "x",
         "y": [
          0.239
         ],
         "yaxis": "y"
        },
        {
         "alignmentgroup": "True",
         "hovertemplate": "Время обучения: %{y} сек",
         "legendgroup": "Optuna RandomForestClassifier",
         "marker": {
          "color": "#ab63fa",
          "line": {
           "color": "black",
           "width": 2.5
          },
          "pattern": {
           "shape": ""
          }
         },
         "name": "Optuna RandomForestClassifier",
         "offsetgroup": "Optuna RandomForestClassifier",
         "opacity": 0.75,
         "orientation": "v",
         "showlegend": true,
         "textposition": "auto",
         "type": "bar",
         "x": [
          "Optuna RandomForestClassifier"
         ],
         "xaxis": "x",
         "y": [
          1.371
         ],
         "yaxis": "y"
        },
        {
         "alignmentgroup": "True",
         "hovertemplate": "Время обучения: %{y} сек",
         "legendgroup": "RandomForestClassifier",
         "marker": {
          "color": "#FFA15A",
          "line": {
           "color": "black",
           "width": 2.5
          },
          "pattern": {
           "shape": ""
          }
         },
         "name": "RandomForestClassifier",
         "offsetgroup": "RandomForestClassifier",
         "opacity": 0.75,
         "orientation": "v",
         "showlegend": true,
         "textposition": "auto",
         "type": "bar",
         "x": [
          "RandomForestClassifier"
         ],
         "xaxis": "x",
         "y": [
          1.599
         ],
         "yaxis": "y"
        },
        {
         "alignmentgroup": "True",
         "hovertemplate": "Время обучения: %{y} сек",
         "legendgroup": "Hyperopt LogisticRegression with cross validation",
         "marker": {
          "color": "#19d3f3",
          "line": {
           "color": "black",
           "width": 2.5
          },
          "pattern": {
           "shape": ""
          }
         },
         "name": "Hyperopt LogisticRegression with cross validation",
         "offsetgroup": "Hyperopt LogisticRegression with cross validation",
         "opacity": 0.75,
         "orientation": "v",
         "showlegend": true,
         "textposition": "auto",
         "type": "bar",
         "x": [
          "Hyperopt LogisticRegression with cross validation"
         ],
         "xaxis": "x",
         "y": [
          2.771
         ],
         "yaxis": "y"
        },
        {
         "alignmentgroup": "True",
         "hovertemplate": "Время обучения: %{y} сек",
         "legendgroup": "Optuna LogisticRegression",
         "marker": {
          "color": "#FF6692",
          "line": {
           "color": "black",
           "width": 2.5
          },
          "pattern": {
           "shape": ""
          }
         },
         "name": "Optuna LogisticRegression",
         "offsetgroup": "Optuna LogisticRegression",
         "opacity": 0.75,
         "orientation": "v",
         "showlegend": true,
         "textposition": "auto",
         "type": "bar",
         "x": [
          "Optuna LogisticRegression"
         ],
         "xaxis": "x",
         "y": [
          3.375
         ],
         "yaxis": "y"
        },
        {
         "alignmentgroup": "True",
         "hovertemplate": "Время обучения: %{y} сек",
         "legendgroup": "Hyperopt RandomForestClassifier with cross validation",
         "marker": {
          "color": "#B6E880",
          "line": {
           "color": "black",
           "width": 2.5
          },
          "pattern": {
           "shape": ""
          }
         },
         "name": "Hyperopt RandomForestClassifier with cross validation",
         "offsetgroup": "Hyperopt RandomForestClassifier with cross validation",
         "opacity": 0.75,
         "orientation": "v",
         "showlegend": true,
         "textposition": "auto",
         "type": "bar",
         "x": [
          "Hyperopt RandomForestClassifier with cross validation"
         ],
         "xaxis": "x",
         "y": [
          3.591
         ],
         "yaxis": "y"
        },
        {
         "alignmentgroup": "True",
         "hovertemplate": "Время обучения: %{y} сек",
         "legendgroup": "Optuna RandomForestClassifier with cross validation",
         "marker": {
          "color": "#FF97FF",
          "line": {
           "color": "black",
           "width": 2.5
          },
          "pattern": {
           "shape": ""
          }
         },
         "name": "Optuna RandomForestClassifier with cross validation",
         "offsetgroup": "Optuna RandomForestClassifier with cross validation",
         "opacity": 0.75,
         "orientation": "v",
         "showlegend": true,
         "textposition": "auto",
         "type": "bar",
         "x": [
          "Optuna RandomForestClassifier with cross validation"
         ],
         "xaxis": "x",
         "y": [
          3.877
         ],
         "yaxis": "y"
        },
        {
         "alignmentgroup": "True",
         "hovertemplate": "Время обучения: %{y} сек",
         "legendgroup": "Hyperopt RandomForestClassifier",
         "marker": {
          "color": "#FECB52",
          "line": {
           "color": "black",
           "width": 2.5
          },
          "pattern": {
           "shape": ""
          }
         },
         "name": "Hyperopt RandomForestClassifier",
         "offsetgroup": "Hyperopt RandomForestClassifier",
         "opacity": 0.75,
         "orientation": "v",
         "showlegend": true,
         "textposition": "auto",
         "type": "bar",
         "x": [
          "Hyperopt RandomForestClassifier"
         ],
         "xaxis": "x",
         "y": [
          4.514
         ],
         "yaxis": "y"
        },
        {
         "alignmentgroup": "True",
         "hovertemplate": "Время обучения: %{y} сек",
         "legendgroup": "RandomizedSearchCV RandomForestClassifier",
         "marker": {
          "color": "#636efa",
          "line": {
           "color": "black",
           "width": 2.5
          },
          "pattern": {
           "shape": ""
          }
         },
         "name": "RandomizedSearchCV RandomForestClassifier",
         "offsetgroup": "RandomizedSearchCV RandomForestClassifier",
         "opacity": 0.75,
         "orientation": "v",
         "showlegend": true,
         "textposition": "auto",
         "type": "bar",
         "x": [
          "RandomizedSearchCV RandomForestClassifier"
         ],
         "xaxis": "x",
         "y": [
          14.767
         ],
         "yaxis": "y"
        },
        {
         "alignmentgroup": "True",
         "hovertemplate": "Время обучения: %{y} сек",
         "legendgroup": "RandomizedSearchCV LogisticRegression",
         "marker": {
          "color": "#EF553B",
          "line": {
           "color": "black",
           "width": 2.5
          },
          "pattern": {
           "shape": ""
          }
         },
         "name": "RandomizedSearchCV LogisticRegression",
         "offsetgroup": "RandomizedSearchCV LogisticRegression",
         "opacity": 0.75,
         "orientation": "v",
         "showlegend": true,
         "textposition": "auto",
         "type": "bar",
         "x": [
          "RandomizedSearchCV LogisticRegression"
         ],
         "xaxis": "x",
         "y": [
          14.977
         ],
         "yaxis": "y"
        },
        {
         "alignmentgroup": "True",
         "hovertemplate": "Время обучения: %{y} сек",
         "legendgroup": "GridSearchCV LogisticRegression",
         "marker": {
          "color": "#00cc96",
          "line": {
           "color": "black",
           "width": 2.5
          },
          "pattern": {
           "shape": ""
          }
         },
         "name": "GridSearchCV LogisticRegression",
         "offsetgroup": "GridSearchCV LogisticRegression",
         "opacity": 0.75,
         "orientation": "v",
         "showlegend": true,
         "textposition": "auto",
         "type": "bar",
         "x": [
          "GridSearchCV LogisticRegression"
         ],
         "xaxis": "x",
         "y": [
          16.935
         ],
         "yaxis": "y"
        },
        {
         "alignmentgroup": "True",
         "hovertemplate": "Время обучения: %{y} сек",
         "legendgroup": "GridSearchCV RandomForestClassifier",
         "marker": {
          "color": "#ab63fa",
          "line": {
           "color": "black",
           "width": 2.5
          },
          "pattern": {
           "shape": ""
          }
         },
         "name": "GridSearchCV RandomForestClassifier",
         "offsetgroup": "GridSearchCV RandomForestClassifier",
         "opacity": 0.75,
         "orientation": "v",
         "showlegend": true,
         "textposition": "auto",
         "type": "bar",
         "x": [
          "GridSearchCV RandomForestClassifier"
         ],
         "xaxis": "x",
         "y": [
          83.562
         ],
         "yaxis": "y"
        }
       ],
       "layout": {
        "barmode": "relative",
        "height": 1000,
        "legend": {
         "title": {
          "text": "model_name"
         },
         "tracegroupgap": 0
        },
        "margin": {
         "b": 0,
         "l": 0,
         "r": 0,
         "t": 30
        },
        "template": {
         "data": {
          "bar": [
           {
            "error_x": {
             "color": "#2a3f5f"
            },
            "error_y": {
             "color": "#2a3f5f"
            },
            "marker": {
             "line": {
              "color": "#E5ECF6",
              "width": 0.5
             },
             "pattern": {
              "fillmode": "overlay",
              "size": 10,
              "solidity": 0.2
             }
            },
            "type": "bar"
           }
          ],
          "barpolar": [
           {
            "marker": {
             "line": {
              "color": "#E5ECF6",
              "width": 0.5
             },
             "pattern": {
              "fillmode": "overlay",
              "size": 10,
              "solidity": 0.2
             }
            },
            "type": "barpolar"
           }
          ],
          "carpet": [
           {
            "aaxis": {
             "endlinecolor": "#2a3f5f",
             "gridcolor": "white",
             "linecolor": "white",
             "minorgridcolor": "white",
             "startlinecolor": "#2a3f5f"
            },
            "baxis": {
             "endlinecolor": "#2a3f5f",
             "gridcolor": "white",
             "linecolor": "white",
             "minorgridcolor": "white",
             "startlinecolor": "#2a3f5f"
            },
            "type": "carpet"
           }
          ],
          "choropleth": [
           {
            "colorbar": {
             "outlinewidth": 0,
             "ticks": ""
            },
            "type": "choropleth"
           }
          ],
          "contour": [
           {
            "colorbar": {
             "outlinewidth": 0,
             "ticks": ""
            },
            "colorscale": [
             [
              0,
              "#0d0887"
             ],
             [
              0.1111111111111111,
              "#46039f"
             ],
             [
              0.2222222222222222,
              "#7201a8"
             ],
             [
              0.3333333333333333,
              "#9c179e"
             ],
             [
              0.4444444444444444,
              "#bd3786"
             ],
             [
              0.5555555555555556,
              "#d8576b"
             ],
             [
              0.6666666666666666,
              "#ed7953"
             ],
             [
              0.7777777777777778,
              "#fb9f3a"
             ],
             [
              0.8888888888888888,
              "#fdca26"
             ],
             [
              1,
              "#f0f921"
             ]
            ],
            "type": "contour"
           }
          ],
          "contourcarpet": [
           {
            "colorbar": {
             "outlinewidth": 0,
             "ticks": ""
            },
            "type": "contourcarpet"
           }
          ],
          "heatmap": [
           {
            "colorbar": {
             "outlinewidth": 0,
             "ticks": ""
            },
            "colorscale": [
             [
              0,
              "#0d0887"
             ],
             [
              0.1111111111111111,
              "#46039f"
             ],
             [
              0.2222222222222222,
              "#7201a8"
             ],
             [
              0.3333333333333333,
              "#9c179e"
             ],
             [
              0.4444444444444444,
              "#bd3786"
             ],
             [
              0.5555555555555556,
              "#d8576b"
             ],
             [
              0.6666666666666666,
              "#ed7953"
             ],
             [
              0.7777777777777778,
              "#fb9f3a"
             ],
             [
              0.8888888888888888,
              "#fdca26"
             ],
             [
              1,
              "#f0f921"
             ]
            ],
            "type": "heatmap"
           }
          ],
          "heatmapgl": [
           {
            "colorbar": {
             "outlinewidth": 0,
             "ticks": ""
            },
            "colorscale": [
             [
              0,
              "#0d0887"
             ],
             [
              0.1111111111111111,
              "#46039f"
             ],
             [
              0.2222222222222222,
              "#7201a8"
             ],
             [
              0.3333333333333333,
              "#9c179e"
             ],
             [
              0.4444444444444444,
              "#bd3786"
             ],
             [
              0.5555555555555556,
              "#d8576b"
             ],
             [
              0.6666666666666666,
              "#ed7953"
             ],
             [
              0.7777777777777778,
              "#fb9f3a"
             ],
             [
              0.8888888888888888,
              "#fdca26"
             ],
             [
              1,
              "#f0f921"
             ]
            ],
            "type": "heatmapgl"
           }
          ],
          "histogram": [
           {
            "marker": {
             "pattern": {
              "fillmode": "overlay",
              "size": 10,
              "solidity": 0.2
             }
            },
            "type": "histogram"
           }
          ],
          "histogram2d": [
           {
            "colorbar": {
             "outlinewidth": 0,
             "ticks": ""
            },
            "colorscale": [
             [
              0,
              "#0d0887"
             ],
             [
              0.1111111111111111,
              "#46039f"
             ],
             [
              0.2222222222222222,
              "#7201a8"
             ],
             [
              0.3333333333333333,
              "#9c179e"
             ],
             [
              0.4444444444444444,
              "#bd3786"
             ],
             [
              0.5555555555555556,
              "#d8576b"
             ],
             [
              0.6666666666666666,
              "#ed7953"
             ],
             [
              0.7777777777777778,
              "#fb9f3a"
             ],
             [
              0.8888888888888888,
              "#fdca26"
             ],
             [
              1,
              "#f0f921"
             ]
            ],
            "type": "histogram2d"
           }
          ],
          "histogram2dcontour": [
           {
            "colorbar": {
             "outlinewidth": 0,
             "ticks": ""
            },
            "colorscale": [
             [
              0,
              "#0d0887"
             ],
             [
              0.1111111111111111,
              "#46039f"
             ],
             [
              0.2222222222222222,
              "#7201a8"
             ],
             [
              0.3333333333333333,
              "#9c179e"
             ],
             [
              0.4444444444444444,
              "#bd3786"
             ],
             [
              0.5555555555555556,
              "#d8576b"
             ],
             [
              0.6666666666666666,
              "#ed7953"
             ],
             [
              0.7777777777777778,
              "#fb9f3a"
             ],
             [
              0.8888888888888888,
              "#fdca26"
             ],
             [
              1,
              "#f0f921"
             ]
            ],
            "type": "histogram2dcontour"
           }
          ],
          "mesh3d": [
           {
            "colorbar": {
             "outlinewidth": 0,
             "ticks": ""
            },
            "type": "mesh3d"
           }
          ],
          "parcoords": [
           {
            "line": {
             "colorbar": {
              "outlinewidth": 0,
              "ticks": ""
             }
            },
            "type": "parcoords"
           }
          ],
          "pie": [
           {
            "automargin": true,
            "type": "pie"
           }
          ],
          "scatter": [
           {
            "fillpattern": {
             "fillmode": "overlay",
             "size": 10,
             "solidity": 0.2
            },
            "type": "scatter"
           }
          ],
          "scatter3d": [
           {
            "line": {
             "colorbar": {
              "outlinewidth": 0,
              "ticks": ""
             }
            },
            "marker": {
             "colorbar": {
              "outlinewidth": 0,
              "ticks": ""
             }
            },
            "type": "scatter3d"
           }
          ],
          "scattercarpet": [
           {
            "marker": {
             "colorbar": {
              "outlinewidth": 0,
              "ticks": ""
             }
            },
            "type": "scattercarpet"
           }
          ],
          "scattergeo": [
           {
            "marker": {
             "colorbar": {
              "outlinewidth": 0,
              "ticks": ""
             }
            },
            "type": "scattergeo"
           }
          ],
          "scattergl": [
           {
            "marker": {
             "colorbar": {
              "outlinewidth": 0,
              "ticks": ""
             }
            },
            "type": "scattergl"
           }
          ],
          "scattermapbox": [
           {
            "marker": {
             "colorbar": {
              "outlinewidth": 0,
              "ticks": ""
             }
            },
            "type": "scattermapbox"
           }
          ],
          "scatterpolar": [
           {
            "marker": {
             "colorbar": {
              "outlinewidth": 0,
              "ticks": ""
             }
            },
            "type": "scatterpolar"
           }
          ],
          "scatterpolargl": [
           {
            "marker": {
             "colorbar": {
              "outlinewidth": 0,
              "ticks": ""
             }
            },
            "type": "scatterpolargl"
           }
          ],
          "scatterternary": [
           {
            "marker": {
             "colorbar": {
              "outlinewidth": 0,
              "ticks": ""
             }
            },
            "type": "scatterternary"
           }
          ],
          "surface": [
           {
            "colorbar": {
             "outlinewidth": 0,
             "ticks": ""
            },
            "colorscale": [
             [
              0,
              "#0d0887"
             ],
             [
              0.1111111111111111,
              "#46039f"
             ],
             [
              0.2222222222222222,
              "#7201a8"
             ],
             [
              0.3333333333333333,
              "#9c179e"
             ],
             [
              0.4444444444444444,
              "#bd3786"
             ],
             [
              0.5555555555555556,
              "#d8576b"
             ],
             [
              0.6666666666666666,
              "#ed7953"
             ],
             [
              0.7777777777777778,
              "#fb9f3a"
             ],
             [
              0.8888888888888888,
              "#fdca26"
             ],
             [
              1,
              "#f0f921"
             ]
            ],
            "type": "surface"
           }
          ],
          "table": [
           {
            "cells": {
             "fill": {
              "color": "#EBF0F8"
             },
             "line": {
              "color": "white"
             }
            },
            "header": {
             "fill": {
              "color": "#C8D4E3"
             },
             "line": {
              "color": "white"
             }
            },
            "type": "table"
           }
          ]
         },
         "layout": {
          "annotationdefaults": {
           "arrowcolor": "#2a3f5f",
           "arrowhead": 0,
           "arrowwidth": 1
          },
          "autotypenumbers": "strict",
          "coloraxis": {
           "colorbar": {
            "outlinewidth": 0,
            "ticks": ""
           }
          },
          "colorscale": {
           "diverging": [
            [
             0,
             "#8e0152"
            ],
            [
             0.1,
             "#c51b7d"
            ],
            [
             0.2,
             "#de77ae"
            ],
            [
             0.3,
             "#f1b6da"
            ],
            [
             0.4,
             "#fde0ef"
            ],
            [
             0.5,
             "#f7f7f7"
            ],
            [
             0.6,
             "#e6f5d0"
            ],
            [
             0.7,
             "#b8e186"
            ],
            [
             0.8,
             "#7fbc41"
            ],
            [
             0.9,
             "#4d9221"
            ],
            [
             1,
             "#276419"
            ]
           ],
           "sequential": [
            [
             0,
             "#0d0887"
            ],
            [
             0.1111111111111111,
             "#46039f"
            ],
            [
             0.2222222222222222,
             "#7201a8"
            ],
            [
             0.3333333333333333,
             "#9c179e"
            ],
            [
             0.4444444444444444,
             "#bd3786"
            ],
            [
             0.5555555555555556,
             "#d8576b"
            ],
            [
             0.6666666666666666,
             "#ed7953"
            ],
            [
             0.7777777777777778,
             "#fb9f3a"
            ],
            [
             0.8888888888888888,
             "#fdca26"
            ],
            [
             1,
             "#f0f921"
            ]
           ],
           "sequentialminus": [
            [
             0,
             "#0d0887"
            ],
            [
             0.1111111111111111,
             "#46039f"
            ],
            [
             0.2222222222222222,
             "#7201a8"
            ],
            [
             0.3333333333333333,
             "#9c179e"
            ],
            [
             0.4444444444444444,
             "#bd3786"
            ],
            [
             0.5555555555555556,
             "#d8576b"
            ],
            [
             0.6666666666666666,
             "#ed7953"
            ],
            [
             0.7777777777777778,
             "#fb9f3a"
            ],
            [
             0.8888888888888888,
             "#fdca26"
            ],
            [
             1,
             "#f0f921"
            ]
           ]
          },
          "colorway": [
           "#636efa",
           "#EF553B",
           "#00cc96",
           "#ab63fa",
           "#FFA15A",
           "#19d3f3",
           "#FF6692",
           "#B6E880",
           "#FF97FF",
           "#FECB52"
          ],
          "font": {
           "color": "#2a3f5f"
          },
          "geo": {
           "bgcolor": "white",
           "lakecolor": "white",
           "landcolor": "#E5ECF6",
           "showlakes": true,
           "showland": true,
           "subunitcolor": "white"
          },
          "hoverlabel": {
           "align": "left"
          },
          "hovermode": "closest",
          "mapbox": {
           "style": "light"
          },
          "paper_bgcolor": "white",
          "plot_bgcolor": "#E5ECF6",
          "polar": {
           "angularaxis": {
            "gridcolor": "white",
            "linecolor": "white",
            "ticks": ""
           },
           "bgcolor": "#E5ECF6",
           "radialaxis": {
            "gridcolor": "white",
            "linecolor": "white",
            "ticks": ""
           }
          },
          "scene": {
           "xaxis": {
            "backgroundcolor": "#E5ECF6",
            "gridcolor": "white",
            "gridwidth": 2,
            "linecolor": "white",
            "showbackground": true,
            "ticks": "",
            "zerolinecolor": "white"
           },
           "yaxis": {
            "backgroundcolor": "#E5ECF6",
            "gridcolor": "white",
            "gridwidth": 2,
            "linecolor": "white",
            "showbackground": true,
            "ticks": "",
            "zerolinecolor": "white"
           },
           "zaxis": {
            "backgroundcolor": "#E5ECF6",
            "gridcolor": "white",
            "gridwidth": 2,
            "linecolor": "white",
            "showbackground": true,
            "ticks": "",
            "zerolinecolor": "white"
           }
          },
          "shapedefaults": {
           "line": {
            "color": "#2a3f5f"
           }
          },
          "ternary": {
           "aaxis": {
            "gridcolor": "white",
            "linecolor": "white",
            "ticks": ""
           },
           "baxis": {
            "gridcolor": "white",
            "linecolor": "white",
            "ticks": ""
           },
           "bgcolor": "#E5ECF6",
           "caxis": {
            "gridcolor": "white",
            "linecolor": "white",
            "ticks": ""
           }
          },
          "title": {
           "x": 0.05
          },
          "xaxis": {
           "automargin": true,
           "gridcolor": "white",
           "linecolor": "white",
           "ticks": "",
           "title": {
            "standoff": 15
           },
           "zerolinecolor": "white",
           "zerolinewidth": 2
          },
          "yaxis": {
           "automargin": true,
           "gridcolor": "white",
           "linecolor": "white",
           "ticks": "",
           "title": {
            "standoff": 15
           },
           "zerolinecolor": "white",
           "zerolinewidth": 2
          }
         }
        },
        "title": {
         "text": "Сравнительный график времени обучения моделей",
         "x": 0.5,
         "xanchor": "center"
        },
        "width": 1500,
        "xaxis": {
         "anchor": "y",
         "categoryarray": [
          "LogisticRegression",
          "Hyperopt LogisticRegression",
          "Optuna LogisticRegression with cross validation",
          "Optuna RandomForestClassifier",
          "RandomForestClassifier",
          "Hyperopt LogisticRegression with cross validation",
          "Optuna LogisticRegression",
          "Hyperopt RandomForestClassifier with cross validation",
          "Optuna RandomForestClassifier with cross validation",
          "Hyperopt RandomForestClassifier",
          "RandomizedSearchCV RandomForestClassifier",
          "RandomizedSearchCV LogisticRegression",
          "GridSearchCV LogisticRegression",
          "GridSearchCV RandomForestClassifier"
         ],
         "categoryorder": "array",
         "domain": [
          0,
          1
         ],
         "title": {
          "text": ""
         }
        },
        "yaxis": {
         "anchor": "x",
         "domain": [
          0,
          1
         ],
         "tickformat": ",.2f",
         "title": {
          "text": "Время, сек"
         }
        }
       }
      }
     },
     "metadata": {},
     "output_type": "display_data"
    }
   ],
   "source": [
    "#Отсортируем данные для лучшей наглядности\n",
    "result_time = results_learn.sort_values(by='time')\n",
    "\n",
    "# Строим график\n",
    "fig = px.bar(\n",
    "    result_time,\n",
    "    x = 'model_name',\n",
    "    y = 'time',\n",
    "    title = 'Сравнительный график времени обучения моделей',\n",
    "    color = 'model_name',\n",
    "    width=1500,\n",
    "    height=1000\n",
    ")\n",
    "\n",
    "# Настройка осей графика:\n",
    "fig.update_layout(\n",
    "    title = dict(x = .5, xanchor = \"center\"),\n",
    "    xaxis_title = \"\",\n",
    "    yaxis_title=\"Время, сек\",\n",
    "    yaxis_tickformat=',.2f',\n",
    "    margin=dict(l=0, r=0, t=30, b=0)\n",
    "    )\n",
    "\n",
    "# Настройка информации при наведении курсора:\n",
    "fig.update_traces(\n",
    "    hovertemplate=\"Время обучения: %{y} сек\", #Информация при наведении курсора на колонку\n",
    "    marker_line_color='black',   # Цвет линии колонки\n",
    "    marker_line_width=2.5,       # Толщина линии колонки\n",
    "    opacity=0.75            # Прозрачность колонки\n",
    ")\n",
    "fig.show();"
   ]
  },
  {
   "cell_type": "code",
   "execution_count": 42,
   "metadata": {},
   "outputs": [
    {
     "data": {
      "application/vnd.plotly.v1+json": {
       "config": {
        "plotlyServerURL": "https://plot.ly"
       },
       "data": [
        {
         "alignmentgroup": "True",
         "hovertemplate": "Время нахождения лучших гипперпараметров: %{y} сек",
         "legendgroup": "LogisticRegression",
         "marker": {
          "color": "#636efa",
          "line": {
           "color": "black",
           "width": 2.5
          },
          "pattern": {
           "shape": ""
          }
         },
         "name": "LogisticRegression",
         "offsetgroup": "LogisticRegression",
         "opacity": 0.75,
         "orientation": "v",
         "showlegend": true,
         "textposition": "auto",
         "type": "bar",
         "x": [
          "LogisticRegression"
         ],
         "xaxis": "x",
         "y": [
          0
         ],
         "yaxis": "y"
        },
        {
         "alignmentgroup": "True",
         "hovertemplate": "Время нахождения лучших гипперпараметров: %{y} сек",
         "legendgroup": "RandomForestClassifier",
         "marker": {
          "color": "#EF553B",
          "line": {
           "color": "black",
           "width": 2.5
          },
          "pattern": {
           "shape": ""
          }
         },
         "name": "RandomForestClassifier",
         "offsetgroup": "RandomForestClassifier",
         "opacity": 0.75,
         "orientation": "v",
         "showlegend": true,
         "textposition": "auto",
         "type": "bar",
         "x": [
          "RandomForestClassifier"
         ],
         "xaxis": "x",
         "y": [
          0
         ],
         "yaxis": "y"
        },
        {
         "alignmentgroup": "True",
         "hovertemplate": "Время нахождения лучших гипперпараметров: %{y} сек",
         "legendgroup": "GridSearchCV LogisticRegression",
         "marker": {
          "color": "#00cc96",
          "line": {
           "color": "black",
           "width": 2.5
          },
          "pattern": {
           "shape": ""
          }
         },
         "name": "GridSearchCV LogisticRegression",
         "offsetgroup": "GridSearchCV LogisticRegression",
         "opacity": 0.75,
         "orientation": "v",
         "showlegend": true,
         "textposition": "auto",
         "type": "bar",
         "x": [
          "GridSearchCV LogisticRegression"
         ],
         "xaxis": "x",
         "y": [
          0
         ],
         "yaxis": "y"
        },
        {
         "alignmentgroup": "True",
         "hovertemplate": "Время нахождения лучших гипперпараметров: %{y} сек",
         "legendgroup": "GridSearchCV RandomForestClassifier",
         "marker": {
          "color": "#ab63fa",
          "line": {
           "color": "black",
           "width": 2.5
          },
          "pattern": {
           "shape": ""
          }
         },
         "name": "GridSearchCV RandomForestClassifier",
         "offsetgroup": "GridSearchCV RandomForestClassifier",
         "opacity": 0.75,
         "orientation": "v",
         "showlegend": true,
         "textposition": "auto",
         "type": "bar",
         "x": [
          "GridSearchCV RandomForestClassifier"
         ],
         "xaxis": "x",
         "y": [
          0
         ],
         "yaxis": "y"
        },
        {
         "alignmentgroup": "True",
         "hovertemplate": "Время нахождения лучших гипперпараметров: %{y} сек",
         "legendgroup": "RandomizedSearchCV LogisticRegression",
         "marker": {
          "color": "#FFA15A",
          "line": {
           "color": "black",
           "width": 2.5
          },
          "pattern": {
           "shape": ""
          }
         },
         "name": "RandomizedSearchCV LogisticRegression",
         "offsetgroup": "RandomizedSearchCV LogisticRegression",
         "opacity": 0.75,
         "orientation": "v",
         "showlegend": true,
         "textposition": "auto",
         "type": "bar",
         "x": [
          "RandomizedSearchCV LogisticRegression"
         ],
         "xaxis": "x",
         "y": [
          0
         ],
         "yaxis": "y"
        },
        {
         "alignmentgroup": "True",
         "hovertemplate": "Время нахождения лучших гипперпараметров: %{y} сек",
         "legendgroup": "RandomizedSearchCV RandomForestClassifier",
         "marker": {
          "color": "#19d3f3",
          "line": {
           "color": "black",
           "width": 2.5
          },
          "pattern": {
           "shape": ""
          }
         },
         "name": "RandomizedSearchCV RandomForestClassifier",
         "offsetgroup": "RandomizedSearchCV RandomForestClassifier",
         "opacity": 0.75,
         "orientation": "v",
         "showlegend": true,
         "textposition": "auto",
         "type": "bar",
         "x": [
          "RandomizedSearchCV RandomForestClassifier"
         ],
         "xaxis": "x",
         "y": [
          0
         ],
         "yaxis": "y"
        },
        {
         "alignmentgroup": "True",
         "hovertemplate": "Время нахождения лучших гипперпараметров: %{y} сек",
         "legendgroup": "Optuna RandomForestClassifier",
         "marker": {
          "color": "#FF6692",
          "line": {
           "color": "black",
           "width": 2.5
          },
          "pattern": {
           "shape": ""
          }
         },
         "name": "Optuna RandomForestClassifier",
         "offsetgroup": "Optuna RandomForestClassifier",
         "opacity": 0.75,
         "orientation": "v",
         "showlegend": true,
         "textposition": "auto",
         "type": "bar",
         "x": [
          "Optuna RandomForestClassifier"
         ],
         "xaxis": "x",
         "y": [
          6.816
         ],
         "yaxis": "y"
        },
        {
         "alignmentgroup": "True",
         "hovertemplate": "Время нахождения лучших гипперпараметров: %{y} сек",
         "legendgroup": "Hyperopt LogisticRegression",
         "marker": {
          "color": "#B6E880",
          "line": {
           "color": "black",
           "width": 2.5
          },
          "pattern": {
           "shape": ""
          }
         },
         "name": "Hyperopt LogisticRegression",
         "offsetgroup": "Hyperopt LogisticRegression",
         "opacity": 0.75,
         "orientation": "v",
         "showlegend": true,
         "textposition": "auto",
         "type": "bar",
         "x": [
          "Hyperopt LogisticRegression"
         ],
         "xaxis": "x",
         "y": [
          15.709
         ],
         "yaxis": "y"
        },
        {
         "alignmentgroup": "True",
         "hovertemplate": "Время нахождения лучших гипперпараметров: %{y} сек",
         "legendgroup": "Optuna RandomForestClassifier with cross validation",
         "marker": {
          "color": "#FF97FF",
          "line": {
           "color": "black",
           "width": 2.5
          },
          "pattern": {
           "shape": ""
          }
         },
         "name": "Optuna RandomForestClassifier with cross validation",
         "offsetgroup": "Optuna RandomForestClassifier with cross validation",
         "opacity": 0.75,
         "orientation": "v",
         "showlegend": true,
         "textposition": "auto",
         "type": "bar",
         "x": [
          "Optuna RandomForestClassifier with cross validation"
         ],
         "xaxis": "x",
         "y": [
          24.879
         ],
         "yaxis": "y"
        },
        {
         "alignmentgroup": "True",
         "hovertemplate": "Время нахождения лучших гипперпараметров: %{y} сек",
         "legendgroup": "Hyperopt LogisticRegression with cross validation",
         "marker": {
          "color": "#FECB52",
          "line": {
           "color": "black",
           "width": 2.5
          },
          "pattern": {
           "shape": ""
          }
         },
         "name": "Hyperopt LogisticRegression with cross validation",
         "offsetgroup": "Hyperopt LogisticRegression with cross validation",
         "opacity": 0.75,
         "orientation": "v",
         "showlegend": true,
         "textposition": "auto",
         "type": "bar",
         "x": [
          "Hyperopt LogisticRegression with cross validation"
         ],
         "xaxis": "x",
         "y": [
          37.089
         ],
         "yaxis": "y"
        },
        {
         "alignmentgroup": "True",
         "hovertemplate": "Время нахождения лучших гипперпараметров: %{y} сек",
         "legendgroup": "Optuna LogisticRegression",
         "marker": {
          "color": "#636efa",
          "line": {
           "color": "black",
           "width": 2.5
          },
          "pattern": {
           "shape": ""
          }
         },
         "name": "Optuna LogisticRegression",
         "offsetgroup": "Optuna LogisticRegression",
         "opacity": 0.75,
         "orientation": "v",
         "showlegend": true,
         "textposition": "auto",
         "type": "bar",
         "x": [
          "Optuna LogisticRegression"
         ],
         "xaxis": "x",
         "y": [
          55.815
         ],
         "yaxis": "y"
        },
        {
         "alignmentgroup": "True",
         "hovertemplate": "Время нахождения лучших гипперпараметров: %{y} сек",
         "legendgroup": "Hyperopt RandomForestClassifier",
         "marker": {
          "color": "#EF553B",
          "line": {
           "color": "black",
           "width": 2.5
          },
          "pattern": {
           "shape": ""
          }
         },
         "name": "Hyperopt RandomForestClassifier",
         "offsetgroup": "Hyperopt RandomForestClassifier",
         "opacity": 0.75,
         "orientation": "v",
         "showlegend": true,
         "textposition": "auto",
         "type": "bar",
         "x": [
          "Hyperopt RandomForestClassifier"
         ],
         "xaxis": "x",
         "y": [
          62.501
         ],
         "yaxis": "y"
        },
        {
         "alignmentgroup": "True",
         "hovertemplate": "Время нахождения лучших гипперпараметров: %{y} сек",
         "legendgroup": "Optuna LogisticRegression with cross validation",
         "marker": {
          "color": "#00cc96",
          "line": {
           "color": "black",
           "width": 2.5
          },
          "pattern": {
           "shape": ""
          }
         },
         "name": "Optuna LogisticRegression with cross validation",
         "offsetgroup": "Optuna LogisticRegression with cross validation",
         "opacity": 0.75,
         "orientation": "v",
         "showlegend": true,
         "textposition": "auto",
         "type": "bar",
         "x": [
          "Optuna LogisticRegression with cross validation"
         ],
         "xaxis": "x",
         "y": [
          75.763
         ],
         "yaxis": "y"
        },
        {
         "alignmentgroup": "True",
         "hovertemplate": "Время нахождения лучших гипперпараметров: %{y} сек",
         "legendgroup": "Hyperopt RandomForestClassifier with cross validation",
         "marker": {
          "color": "#ab63fa",
          "line": {
           "color": "black",
           "width": 2.5
          },
          "pattern": {
           "shape": ""
          }
         },
         "name": "Hyperopt RandomForestClassifier with cross validation",
         "offsetgroup": "Hyperopt RandomForestClassifier with cross validation",
         "opacity": 0.75,
         "orientation": "v",
         "showlegend": true,
         "textposition": "auto",
         "type": "bar",
         "x": [
          "Hyperopt RandomForestClassifier with cross validation"
         ],
         "xaxis": "x",
         "y": [
          120.938
         ],
         "yaxis": "y"
        }
       ],
       "layout": {
        "barmode": "relative",
        "height": 1000,
        "legend": {
         "title": {
          "text": "model_name"
         },
         "tracegroupgap": 0
        },
        "margin": {
         "b": 0,
         "l": 0,
         "r": 0,
         "t": 30
        },
        "template": {
         "data": {
          "bar": [
           {
            "error_x": {
             "color": "#2a3f5f"
            },
            "error_y": {
             "color": "#2a3f5f"
            },
            "marker": {
             "line": {
              "color": "#E5ECF6",
              "width": 0.5
             },
             "pattern": {
              "fillmode": "overlay",
              "size": 10,
              "solidity": 0.2
             }
            },
            "type": "bar"
           }
          ],
          "barpolar": [
           {
            "marker": {
             "line": {
              "color": "#E5ECF6",
              "width": 0.5
             },
             "pattern": {
              "fillmode": "overlay",
              "size": 10,
              "solidity": 0.2
             }
            },
            "type": "barpolar"
           }
          ],
          "carpet": [
           {
            "aaxis": {
             "endlinecolor": "#2a3f5f",
             "gridcolor": "white",
             "linecolor": "white",
             "minorgridcolor": "white",
             "startlinecolor": "#2a3f5f"
            },
            "baxis": {
             "endlinecolor": "#2a3f5f",
             "gridcolor": "white",
             "linecolor": "white",
             "minorgridcolor": "white",
             "startlinecolor": "#2a3f5f"
            },
            "type": "carpet"
           }
          ],
          "choropleth": [
           {
            "colorbar": {
             "outlinewidth": 0,
             "ticks": ""
            },
            "type": "choropleth"
           }
          ],
          "contour": [
           {
            "colorbar": {
             "outlinewidth": 0,
             "ticks": ""
            },
            "colorscale": [
             [
              0,
              "#0d0887"
             ],
             [
              0.1111111111111111,
              "#46039f"
             ],
             [
              0.2222222222222222,
              "#7201a8"
             ],
             [
              0.3333333333333333,
              "#9c179e"
             ],
             [
              0.4444444444444444,
              "#bd3786"
             ],
             [
              0.5555555555555556,
              "#d8576b"
             ],
             [
              0.6666666666666666,
              "#ed7953"
             ],
             [
              0.7777777777777778,
              "#fb9f3a"
             ],
             [
              0.8888888888888888,
              "#fdca26"
             ],
             [
              1,
              "#f0f921"
             ]
            ],
            "type": "contour"
           }
          ],
          "contourcarpet": [
           {
            "colorbar": {
             "outlinewidth": 0,
             "ticks": ""
            },
            "type": "contourcarpet"
           }
          ],
          "heatmap": [
           {
            "colorbar": {
             "outlinewidth": 0,
             "ticks": ""
            },
            "colorscale": [
             [
              0,
              "#0d0887"
             ],
             [
              0.1111111111111111,
              "#46039f"
             ],
             [
              0.2222222222222222,
              "#7201a8"
             ],
             [
              0.3333333333333333,
              "#9c179e"
             ],
             [
              0.4444444444444444,
              "#bd3786"
             ],
             [
              0.5555555555555556,
              "#d8576b"
             ],
             [
              0.6666666666666666,
              "#ed7953"
             ],
             [
              0.7777777777777778,
              "#fb9f3a"
             ],
             [
              0.8888888888888888,
              "#fdca26"
             ],
             [
              1,
              "#f0f921"
             ]
            ],
            "type": "heatmap"
           }
          ],
          "heatmapgl": [
           {
            "colorbar": {
             "outlinewidth": 0,
             "ticks": ""
            },
            "colorscale": [
             [
              0,
              "#0d0887"
             ],
             [
              0.1111111111111111,
              "#46039f"
             ],
             [
              0.2222222222222222,
              "#7201a8"
             ],
             [
              0.3333333333333333,
              "#9c179e"
             ],
             [
              0.4444444444444444,
              "#bd3786"
             ],
             [
              0.5555555555555556,
              "#d8576b"
             ],
             [
              0.6666666666666666,
              "#ed7953"
             ],
             [
              0.7777777777777778,
              "#fb9f3a"
             ],
             [
              0.8888888888888888,
              "#fdca26"
             ],
             [
              1,
              "#f0f921"
             ]
            ],
            "type": "heatmapgl"
           }
          ],
          "histogram": [
           {
            "marker": {
             "pattern": {
              "fillmode": "overlay",
              "size": 10,
              "solidity": 0.2
             }
            },
            "type": "histogram"
           }
          ],
          "histogram2d": [
           {
            "colorbar": {
             "outlinewidth": 0,
             "ticks": ""
            },
            "colorscale": [
             [
              0,
              "#0d0887"
             ],
             [
              0.1111111111111111,
              "#46039f"
             ],
             [
              0.2222222222222222,
              "#7201a8"
             ],
             [
              0.3333333333333333,
              "#9c179e"
             ],
             [
              0.4444444444444444,
              "#bd3786"
             ],
             [
              0.5555555555555556,
              "#d8576b"
             ],
             [
              0.6666666666666666,
              "#ed7953"
             ],
             [
              0.7777777777777778,
              "#fb9f3a"
             ],
             [
              0.8888888888888888,
              "#fdca26"
             ],
             [
              1,
              "#f0f921"
             ]
            ],
            "type": "histogram2d"
           }
          ],
          "histogram2dcontour": [
           {
            "colorbar": {
             "outlinewidth": 0,
             "ticks": ""
            },
            "colorscale": [
             [
              0,
              "#0d0887"
             ],
             [
              0.1111111111111111,
              "#46039f"
             ],
             [
              0.2222222222222222,
              "#7201a8"
             ],
             [
              0.3333333333333333,
              "#9c179e"
             ],
             [
              0.4444444444444444,
              "#bd3786"
             ],
             [
              0.5555555555555556,
              "#d8576b"
             ],
             [
              0.6666666666666666,
              "#ed7953"
             ],
             [
              0.7777777777777778,
              "#fb9f3a"
             ],
             [
              0.8888888888888888,
              "#fdca26"
             ],
             [
              1,
              "#f0f921"
             ]
            ],
            "type": "histogram2dcontour"
           }
          ],
          "mesh3d": [
           {
            "colorbar": {
             "outlinewidth": 0,
             "ticks": ""
            },
            "type": "mesh3d"
           }
          ],
          "parcoords": [
           {
            "line": {
             "colorbar": {
              "outlinewidth": 0,
              "ticks": ""
             }
            },
            "type": "parcoords"
           }
          ],
          "pie": [
           {
            "automargin": true,
            "type": "pie"
           }
          ],
          "scatter": [
           {
            "fillpattern": {
             "fillmode": "overlay",
             "size": 10,
             "solidity": 0.2
            },
            "type": "scatter"
           }
          ],
          "scatter3d": [
           {
            "line": {
             "colorbar": {
              "outlinewidth": 0,
              "ticks": ""
             }
            },
            "marker": {
             "colorbar": {
              "outlinewidth": 0,
              "ticks": ""
             }
            },
            "type": "scatter3d"
           }
          ],
          "scattercarpet": [
           {
            "marker": {
             "colorbar": {
              "outlinewidth": 0,
              "ticks": ""
             }
            },
            "type": "scattercarpet"
           }
          ],
          "scattergeo": [
           {
            "marker": {
             "colorbar": {
              "outlinewidth": 0,
              "ticks": ""
             }
            },
            "type": "scattergeo"
           }
          ],
          "scattergl": [
           {
            "marker": {
             "colorbar": {
              "outlinewidth": 0,
              "ticks": ""
             }
            },
            "type": "scattergl"
           }
          ],
          "scattermapbox": [
           {
            "marker": {
             "colorbar": {
              "outlinewidth": 0,
              "ticks": ""
             }
            },
            "type": "scattermapbox"
           }
          ],
          "scatterpolar": [
           {
            "marker": {
             "colorbar": {
              "outlinewidth": 0,
              "ticks": ""
             }
            },
            "type": "scatterpolar"
           }
          ],
          "scatterpolargl": [
           {
            "marker": {
             "colorbar": {
              "outlinewidth": 0,
              "ticks": ""
             }
            },
            "type": "scatterpolargl"
           }
          ],
          "scatterternary": [
           {
            "marker": {
             "colorbar": {
              "outlinewidth": 0,
              "ticks": ""
             }
            },
            "type": "scatterternary"
           }
          ],
          "surface": [
           {
            "colorbar": {
             "outlinewidth": 0,
             "ticks": ""
            },
            "colorscale": [
             [
              0,
              "#0d0887"
             ],
             [
              0.1111111111111111,
              "#46039f"
             ],
             [
              0.2222222222222222,
              "#7201a8"
             ],
             [
              0.3333333333333333,
              "#9c179e"
             ],
             [
              0.4444444444444444,
              "#bd3786"
             ],
             [
              0.5555555555555556,
              "#d8576b"
             ],
             [
              0.6666666666666666,
              "#ed7953"
             ],
             [
              0.7777777777777778,
              "#fb9f3a"
             ],
             [
              0.8888888888888888,
              "#fdca26"
             ],
             [
              1,
              "#f0f921"
             ]
            ],
            "type": "surface"
           }
          ],
          "table": [
           {
            "cells": {
             "fill": {
              "color": "#EBF0F8"
             },
             "line": {
              "color": "white"
             }
            },
            "header": {
             "fill": {
              "color": "#C8D4E3"
             },
             "line": {
              "color": "white"
             }
            },
            "type": "table"
           }
          ]
         },
         "layout": {
          "annotationdefaults": {
           "arrowcolor": "#2a3f5f",
           "arrowhead": 0,
           "arrowwidth": 1
          },
          "autotypenumbers": "strict",
          "coloraxis": {
           "colorbar": {
            "outlinewidth": 0,
            "ticks": ""
           }
          },
          "colorscale": {
           "diverging": [
            [
             0,
             "#8e0152"
            ],
            [
             0.1,
             "#c51b7d"
            ],
            [
             0.2,
             "#de77ae"
            ],
            [
             0.3,
             "#f1b6da"
            ],
            [
             0.4,
             "#fde0ef"
            ],
            [
             0.5,
             "#f7f7f7"
            ],
            [
             0.6,
             "#e6f5d0"
            ],
            [
             0.7,
             "#b8e186"
            ],
            [
             0.8,
             "#7fbc41"
            ],
            [
             0.9,
             "#4d9221"
            ],
            [
             1,
             "#276419"
            ]
           ],
           "sequential": [
            [
             0,
             "#0d0887"
            ],
            [
             0.1111111111111111,
             "#46039f"
            ],
            [
             0.2222222222222222,
             "#7201a8"
            ],
            [
             0.3333333333333333,
             "#9c179e"
            ],
            [
             0.4444444444444444,
             "#bd3786"
            ],
            [
             0.5555555555555556,
             "#d8576b"
            ],
            [
             0.6666666666666666,
             "#ed7953"
            ],
            [
             0.7777777777777778,
             "#fb9f3a"
            ],
            [
             0.8888888888888888,
             "#fdca26"
            ],
            [
             1,
             "#f0f921"
            ]
           ],
           "sequentialminus": [
            [
             0,
             "#0d0887"
            ],
            [
             0.1111111111111111,
             "#46039f"
            ],
            [
             0.2222222222222222,
             "#7201a8"
            ],
            [
             0.3333333333333333,
             "#9c179e"
            ],
            [
             0.4444444444444444,
             "#bd3786"
            ],
            [
             0.5555555555555556,
             "#d8576b"
            ],
            [
             0.6666666666666666,
             "#ed7953"
            ],
            [
             0.7777777777777778,
             "#fb9f3a"
            ],
            [
             0.8888888888888888,
             "#fdca26"
            ],
            [
             1,
             "#f0f921"
            ]
           ]
          },
          "colorway": [
           "#636efa",
           "#EF553B",
           "#00cc96",
           "#ab63fa",
           "#FFA15A",
           "#19d3f3",
           "#FF6692",
           "#B6E880",
           "#FF97FF",
           "#FECB52"
          ],
          "font": {
           "color": "#2a3f5f"
          },
          "geo": {
           "bgcolor": "white",
           "lakecolor": "white",
           "landcolor": "#E5ECF6",
           "showlakes": true,
           "showland": true,
           "subunitcolor": "white"
          },
          "hoverlabel": {
           "align": "left"
          },
          "hovermode": "closest",
          "mapbox": {
           "style": "light"
          },
          "paper_bgcolor": "white",
          "plot_bgcolor": "#E5ECF6",
          "polar": {
           "angularaxis": {
            "gridcolor": "white",
            "linecolor": "white",
            "ticks": ""
           },
           "bgcolor": "#E5ECF6",
           "radialaxis": {
            "gridcolor": "white",
            "linecolor": "white",
            "ticks": ""
           }
          },
          "scene": {
           "xaxis": {
            "backgroundcolor": "#E5ECF6",
            "gridcolor": "white",
            "gridwidth": 2,
            "linecolor": "white",
            "showbackground": true,
            "ticks": "",
            "zerolinecolor": "white"
           },
           "yaxis": {
            "backgroundcolor": "#E5ECF6",
            "gridcolor": "white",
            "gridwidth": 2,
            "linecolor": "white",
            "showbackground": true,
            "ticks": "",
            "zerolinecolor": "white"
           },
           "zaxis": {
            "backgroundcolor": "#E5ECF6",
            "gridcolor": "white",
            "gridwidth": 2,
            "linecolor": "white",
            "showbackground": true,
            "ticks": "",
            "zerolinecolor": "white"
           }
          },
          "shapedefaults": {
           "line": {
            "color": "#2a3f5f"
           }
          },
          "ternary": {
           "aaxis": {
            "gridcolor": "white",
            "linecolor": "white",
            "ticks": ""
           },
           "baxis": {
            "gridcolor": "white",
            "linecolor": "white",
            "ticks": ""
           },
           "bgcolor": "#E5ECF6",
           "caxis": {
            "gridcolor": "white",
            "linecolor": "white",
            "ticks": ""
           }
          },
          "title": {
           "x": 0.05
          },
          "xaxis": {
           "automargin": true,
           "gridcolor": "white",
           "linecolor": "white",
           "ticks": "",
           "title": {
            "standoff": 15
           },
           "zerolinecolor": "white",
           "zerolinewidth": 2
          },
          "yaxis": {
           "automargin": true,
           "gridcolor": "white",
           "linecolor": "white",
           "ticks": "",
           "title": {
            "standoff": 15
           },
           "zerolinecolor": "white",
           "zerolinewidth": 2
          }
         }
        },
        "title": {
         "text": "Сравнительный график времени нахождения лучших гипперпараметров",
         "x": 0.5,
         "xanchor": "center"
        },
        "width": 1500,
        "xaxis": {
         "anchor": "y",
         "categoryarray": [
          "LogisticRegression",
          "RandomForestClassifier",
          "GridSearchCV LogisticRegression",
          "GridSearchCV RandomForestClassifier",
          "RandomizedSearchCV LogisticRegression",
          "RandomizedSearchCV RandomForestClassifier",
          "Optuna RandomForestClassifier",
          "Hyperopt LogisticRegression",
          "Optuna RandomForestClassifier with cross validation",
          "Hyperopt LogisticRegression with cross validation",
          "Optuna LogisticRegression",
          "Hyperopt RandomForestClassifier",
          "Optuna LogisticRegression with cross validation",
          "Hyperopt RandomForestClassifier with cross validation"
         ],
         "categoryorder": "array",
         "domain": [
          0,
          1
         ],
         "title": {
          "text": ""
         }
        },
        "yaxis": {
         "anchor": "x",
         "domain": [
          0,
          1
         ],
         "tickformat": ",.2f",
         "title": {
          "text": "Время, сек"
         }
        }
       }
      }
     },
     "metadata": {},
     "output_type": "display_data"
    }
   ],
   "source": [
    "#Отсортируем данные для лучшей наглядности\n",
    "result_hyper = results_learn.sort_values(by='hyper_time')\n",
    "\n",
    "# Строим график\n",
    "fig = px.bar(\n",
    "    result_hyper,\n",
    "    x = 'model_name',\n",
    "    y = 'hyper_time',\n",
    "    title = 'Сравнительный график времени нахождения лучших гипперпараметров',\n",
    "    color = 'model_name',\n",
    "    width=1500,\n",
    "    height=1000\n",
    ")\n",
    "\n",
    "# Настройка осей графика:\n",
    "fig.update_layout(\n",
    "    title = dict(x = .5, xanchor = \"center\"),\n",
    "    xaxis_title = \"\",\n",
    "    yaxis_title=\"Время, сек\",\n",
    "    yaxis_tickformat=',.2f',\n",
    "    margin=dict(l=0, r=0, t=30, b=0)\n",
    "    )\n",
    "\n",
    "# Настройка информации при наведении курсора:\n",
    "fig.update_traces(\n",
    "    hovertemplate=\"Время нахождения лучших гипперпараметров: %{y} сек\", #Информация при наведении курсора на колонку\n",
    "    marker_line_color='black',   # Цвет линии колонки\n",
    "    marker_line_width=2.5,       # Толщина линии колонки\n",
    "    opacity=0.75            # Прозрачность колонки\n",
    ")\n",
    "fig.show();"
   ]
  },
  {
   "cell_type": "markdown",
   "metadata": {},
   "source": [
    "Сравнительный график <span style=\"color:#ff0600\">**f1_score**</span> показывает, что не всегда дополнительная оптимизация может улучшить модель, в некоторых местах даже привести к переобучению, поэтому необходимо сравнивать и анализировать с подбором наилучшей модели.\n",
    "\n",
    "А вообще как вариант, при сборе всех данных, можно написать функцию, которая будет определять самый благоприятный тип модели для изучаемых данных. Возможно эти уже модели или функции есть, но на данном этапе обучения и основываясь на собственные знания сегодняшнего дня, предложил бы создать такую функцию, которая будет определять наименьшую процентную разницу между этими двумя показателями (<span style=\"color:#009cff\">**train** и **test**</span>).\n",
    "\n",
    "Визуально, могу предположить, что лучшие модели среди полученных, это те у которых train и test находятся практически с равным высоким результатом, выделим 5:\n",
    "\n",
    "<span style=\"color:#00ff00\">**1. GridSearchCV LogisticRegression;**</span>\n",
    "\n",
    "<span style=\"color:#00ff00\">**2. Hyperopt LogisticRegression with cross validation;**</span>\n",
    "\n",
    "<span style=\"color:#00ff00\">**3. Optuna LogisticRegression with cross validation;**</span>\n",
    "\n",
    "<span style=\"color:#00ff00\">**4. RandomizedSearchCV RandomForestClassifier;**</span>\n",
    "\n",
    "<span style=\"color:#00ff00\">**5. RandomizedSearchCV LogisticRegressionn.**</span>\n",
    "\n",
    "\n",
    "\n",
    "\n",
    "\n",
    "\n",
    "\n",
    "При этом <span style=\"color:#00ff00\">**GridSearchCV LogisticRegression**</span> требует много времени на обучение, но ему нет необходимости много затрачивать время на подбор лучших гиперпараметров, что сумарно в сравнении с методами <span style=\"color:#adff2f\">**Hyperopt**</span> и <span style=\"color:#dc143c\">**Optuna**</span> это хороший результат.\n",
    "\n",
    "Поэтому в некоторых случаях стоит обратить внимание на то - а стоил ли заниматься <span style=\"color:#adff2f\">**Hyperopt**</span> и <span style=\"color:#dc143c\">**Optuna**</span> оптимизацией с поиском тех самых супер параметров для модели, есть ли у нас ресурс и время на это?\n",
    "\n",
    "Стоит отметить момент, что cross validation не всегда может повысить качество модели, в некоторых моментах даже ухудшить результат, довести его до переобучения.\n",
    "\n",
    "А также необходимо обратить внимание, что обычной <span style=\"color:#00fa9a\">**LogisticRegressionn**</span> может хватить модели и, не всегда есть необходимость в дополнительных улучшениях.\n",
    "\n",
    "**Касательно выбора лучшей модели:**\n",
    "\n",
    "- Всё ситуативно; \n",
    "- Необходимо понимать требования заказчика;\n",
    "- Грамотно распределять временные и энергетические ресурсы и т.д.\n",
    "\n",
    "<span style=\"color:#00ffff\">*Поэтому нельзя сказать, что необходимо выбирать определённый метод улучшения модели всегда*</span>\n",
    "\n",
    "Можно представить данные как продукты, а методы улучшения моделей своего рода рецепты и в зависимости от блюда которое мы хотим получить на выходе, с каким вкусом и т.п. будем выбирать рецепт его приготовления."
   ]
  }
 ],
 "metadata": {
  "kernelspec": {
   "display_name": "Python 3",
   "language": "python",
   "name": "python3"
  },
  "language_info": {
   "codemirror_mode": {
    "name": "ipython",
    "version": 3
   },
   "file_extension": ".py",
   "mimetype": "text/x-python",
   "name": "python",
   "nbconvert_exporter": "python",
   "pygments_lexer": "ipython3",
   "version": "3.10.11"
  }
 },
 "nbformat": 4,
 "nbformat_minor": 2
}
