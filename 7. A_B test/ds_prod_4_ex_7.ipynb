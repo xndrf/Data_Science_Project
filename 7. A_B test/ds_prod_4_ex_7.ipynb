{
 "cells": [
  {
   "cell_type": "markdown",
   "id": "e5f71738",
   "metadata": {},
   "source": [
    "<p style = \"background-color : #0090ff; border-radius: 5px 5px; padding : 15px\"><strong>\n",
    "\n",
    "# АНАЛИЗ ЭФФЕКТИВНОСТИ ДВУХ ВАРИАНТОВ ПОСАДОЧНОЙ СТРАНИЦЫ\n",
    "\n",
    "<p style = \"background-color : #0090ff; border-radius: 5px 5px; padding : 15px\"><strong>\n",
    "\n"
   ]
  },
  {
   "cell_type": "markdown",
   "id": "0340fefe",
   "metadata": {},
   "source": [
    "<div class='alert alert-info'>\n",
    "\n",
    "Компания планирует запустить новую акцию, чтобы продать как можно больше туров. Команда разработала два варианта посадочной страницы официального сайта и провела A/B-тестирование. В результате эксперимента были собраны данные — скачайте их по ссылке ниже.\n",
    "\n",
    "**Задача:**\n",
    "Проанализировать эффективность обоих вариантов посадочной страницы сразу по двум критериям — конверсии покупки и ежедневному среднему чеку.\n",
    "\n",
    "**Признаки:**\n",
    "\n",
    "- user_id — идентификатор пользователя, зашедшего на сайт;\n",
    "- data — дата посещения сайта;\n",
    "- group — группа теста (контрольная — А или тестовая — B);\n",
    "- purchase — признак покупки: совершил ли пользователь покупку тура (1 — да, 0 — нет);\n",
    "- price — цена купленного тура (если покупка не состоялась, цена равна 0)."
   ]
  },
  {
   "cell_type": "code",
   "execution_count": 1,
   "id": "511ac655",
   "metadata": {},
   "outputs": [],
   "source": [
    "# Загрузка необходимых библиотек\n",
    "import pandas as pd\n",
    "import seaborn as sns\n",
    "import matplotlib.pyplot as plt\n",
    "from statsmodels.stats.proportion import proportions_ztest\n",
    "from scipy.stats import shapiro, ttest_ind, norm, t"
   ]
  },
  {
   "cell_type": "code",
   "execution_count": 2,
   "id": "29ab2a93",
   "metadata": {},
   "outputs": [
    {
     "data": {
      "application/vnd.microsoft.datawrangler.viewer.v0+json": {
       "columns": [
        {
         "name": "index",
         "rawType": "int64",
         "type": "integer"
        },
        {
         "name": "user_id",
         "rawType": "int64",
         "type": "integer"
        },
        {
         "name": "date",
         "rawType": "object",
         "type": "string"
        },
        {
         "name": "group",
         "rawType": "object",
         "type": "string"
        },
        {
         "name": "purchase",
         "rawType": "int64",
         "type": "integer"
        },
        {
         "name": "price",
         "rawType": "int64",
         "type": "integer"
        }
       ],
       "ref": "c1b97df5-1cfb-4645-8dc9-6544d1dfeee5",
       "rows": [
        [
         "0",
         "851104",
         "2021-01-21",
         "A",
         "0",
         "0"
        ],
        [
         "1",
         "804228",
         "2021-01-12",
         "A",
         "0",
         "0"
        ],
        [
         "2",
         "661590",
         "2021-01-11",
         "B",
         "0",
         "0"
        ],
        [
         "3",
         "853541",
         "2021-01-08",
         "B",
         "0",
         "0"
        ],
        [
         "4",
         "864975",
         "2021-01-21",
         "A",
         "1",
         "150000"
        ]
       ],
       "shape": {
        "columns": 5,
        "rows": 5
       }
      },
      "text/html": [
       "<div>\n",
       "<style scoped>\n",
       "    .dataframe tbody tr th:only-of-type {\n",
       "        vertical-align: middle;\n",
       "    }\n",
       "\n",
       "    .dataframe tbody tr th {\n",
       "        vertical-align: top;\n",
       "    }\n",
       "\n",
       "    .dataframe thead th {\n",
       "        text-align: right;\n",
       "    }\n",
       "</style>\n",
       "<table border=\"1\" class=\"dataframe\">\n",
       "  <thead>\n",
       "    <tr style=\"text-align: right;\">\n",
       "      <th></th>\n",
       "      <th>user_id</th>\n",
       "      <th>date</th>\n",
       "      <th>group</th>\n",
       "      <th>purchase</th>\n",
       "      <th>price</th>\n",
       "    </tr>\n",
       "  </thead>\n",
       "  <tbody>\n",
       "    <tr>\n",
       "      <th>0</th>\n",
       "      <td>851104</td>\n",
       "      <td>2021-01-21</td>\n",
       "      <td>A</td>\n",
       "      <td>0</td>\n",
       "      <td>0</td>\n",
       "    </tr>\n",
       "    <tr>\n",
       "      <th>1</th>\n",
       "      <td>804228</td>\n",
       "      <td>2021-01-12</td>\n",
       "      <td>A</td>\n",
       "      <td>0</td>\n",
       "      <td>0</td>\n",
       "    </tr>\n",
       "    <tr>\n",
       "      <th>2</th>\n",
       "      <td>661590</td>\n",
       "      <td>2021-01-11</td>\n",
       "      <td>B</td>\n",
       "      <td>0</td>\n",
       "      <td>0</td>\n",
       "    </tr>\n",
       "    <tr>\n",
       "      <th>3</th>\n",
       "      <td>853541</td>\n",
       "      <td>2021-01-08</td>\n",
       "      <td>B</td>\n",
       "      <td>0</td>\n",
       "      <td>0</td>\n",
       "    </tr>\n",
       "    <tr>\n",
       "      <th>4</th>\n",
       "      <td>864975</td>\n",
       "      <td>2021-01-21</td>\n",
       "      <td>A</td>\n",
       "      <td>1</td>\n",
       "      <td>150000</td>\n",
       "    </tr>\n",
       "  </tbody>\n",
       "</table>\n",
       "</div>"
      ],
      "text/plain": [
       "   user_id        date group  purchase   price\n",
       "0   851104  2021-01-21     A         0       0\n",
       "1   804228  2021-01-12     A         0       0\n",
       "2   661590  2021-01-11     B         0       0\n",
       "3   853541  2021-01-08     B         0       0\n",
       "4   864975  2021-01-21     A         1  150000"
      ]
     },
     "execution_count": 2,
     "metadata": {},
     "output_type": "execute_result"
    }
   ],
   "source": [
    "data = pd.read_csv('ab_data_tourist.csv')\n",
    "data.head()"
   ]
  },
  {
   "cell_type": "markdown",
   "id": "c7154c95",
   "metadata": {},
   "source": [
    "<p style = \"background-color : #0090ff; border-radius: 5px 5px; padding : 10px\"><strong>\n",
    "<span style=\"color:#000\">1. Анализ структуры данных и проведение предобработки: </span>\n"
   ]
  },
  {
   "cell_type": "code",
   "execution_count": 3,
   "id": "43d1888d",
   "metadata": {},
   "outputs": [
    {
     "name": "stdout",
     "output_type": "stream",
     "text": [
      "<class 'pandas.core.frame.DataFrame'>\n",
      "RangeIndex: 294478 entries, 0 to 294477\n",
      "Data columns (total 5 columns):\n",
      " #   Column    Non-Null Count   Dtype \n",
      "---  ------    --------------   ----- \n",
      " 0   user_id   294478 non-null  int64 \n",
      " 1   date      294478 non-null  object\n",
      " 2   group     294478 non-null  object\n",
      " 3   purchase  294478 non-null  int64 \n",
      " 4   price     294478 non-null  int64 \n",
      "dtypes: int64(3), object(2)\n",
      "memory usage: 11.2+ MB\n"
     ]
    }
   ],
   "source": [
    "# исследуем структуру данных\n",
    "data.info()"
   ]
  },
  {
   "cell_type": "code",
   "execution_count": 4,
   "id": "1088a22f",
   "metadata": {},
   "outputs": [],
   "source": [
    "# преобразуем столбцы к необходимым типам данных\n",
    "data['date'] = pd.to_datetime(data['date'], format='%Y-%m-%d')"
   ]
  },
  {
   "cell_type": "code",
   "execution_count": 5,
   "id": "950bdbe0",
   "metadata": {},
   "outputs": [
    {
     "data": {
      "application/vnd.microsoft.datawrangler.viewer.v0+json": {
       "columns": [
        {
         "name": "group",
         "rawType": "object",
         "type": "string"
        },
        {
         "name": "date",
         "rawType": "timedelta64[ns]",
         "type": "unknown"
        }
       ],
       "ref": "91bb2177-87df-4a35-a405-b17dba1f793c",
       "rows": [
        [
         "A",
         "22 days 00:00:00"
        ],
        [
         "B",
         "22 days 00:00:00"
        ]
       ],
       "shape": {
        "columns": 1,
        "rows": 2
       }
      },
      "text/plain": [
       "group\n",
       "A   22 days\n",
       "B   22 days\n",
       "Name: date, dtype: timedelta64[ns]"
      ]
     },
     "execution_count": 5,
     "metadata": {},
     "output_type": "execute_result"
    }
   ],
   "source": [
    "# убедимся в одинаковой длительности проведения A/B-тестирования в каждой из групп\n",
    "period = data.groupby(by='group')['date'].max() - data.groupby(by='group')['date'].min()\n",
    "period"
   ]
  },
  {
   "cell_type": "code",
   "execution_count": 6,
   "id": "692b8514",
   "metadata": {},
   "outputs": [
    {
     "data": {
      "application/vnd.microsoft.datawrangler.viewer.v0+json": {
       "columns": [
        {
         "name": "index",
         "rawType": "object",
         "type": "string"
        },
        {
         "name": "0",
         "rawType": "int64",
         "type": "integer"
        }
       ],
       "ref": "14b39b46-c870-4c2a-bd6d-05b9bd050d48",
       "rows": [
        [
         "user_id",
         "0"
        ],
        [
         "date",
         "0"
        ],
        [
         "group",
         "0"
        ],
        [
         "purchase",
         "0"
        ],
        [
         "price",
         "0"
        ]
       ],
       "shape": {
        "columns": 1,
        "rows": 5
       }
      },
      "text/plain": [
       "user_id     0\n",
       "date        0\n",
       "group       0\n",
       "purchase    0\n",
       "price       0\n",
       "dtype: int64"
      ]
     },
     "execution_count": 6,
     "metadata": {},
     "output_type": "execute_result"
    }
   ],
   "source": [
    "# Проверем данные на наличие пропусков\n",
    "data.isna().sum()"
   ]
  },
  {
   "cell_type": "code",
   "execution_count": 7,
   "id": "37b912e9",
   "metadata": {},
   "outputs": [
    {
     "name": "stdout",
     "output_type": "stream",
     "text": [
      "Пользователи попавшие в обе группы: [843786, 868364, 737298, 843797, 630805, 843802, 761882, 933918, 688167, 827432, 835630, 860206, 778288, 843832, 802877, 745536, 663619, 680003, 811077, 811079, 639059, 720982, 630871, 835673, 835675, 630887, 721002, 761965, 639090, 819318, 786565, 778375, 712853, 868503, 934040, 671902, 811196, 934076, 770242, 917708, 680144, 811222, 893145, 631008, 712930, 852215, 778488, 884985, 901376, 663810, 827654, 917767, 688390, 942353, 860441, 745756, 721188, 917799, 942375, 844083, 721208, 680251, 655678, 704832, 835905, 696642, 803145, 639310, 844114, 737626, 827741, 942436, 704870, 754022, 909678, 786808, 909688, 639366, 737675, 844173, 680343, 778649, 885146, 639386, 770459, 713119, 639407, 803248, 917936, 737712, 754102, 795063, 688568, 647609, 917949, 901567, 647615, 762307, 778692, 680390, 696791, 745943, 664025, 664030, 844263, 811497, 836084, 655860, 680436, 778743, 918023, 942600, 860683, 729611, 795157, 934424, 877083, 934436, 631337, 934444, 639533, 672309, 786999, 909881, 844346, 868922, 926270, 688722, 778837, 721496, 688730, 713313, 705123, 860781, 795252, 828024, 860798, 885380, 893583, 819858, 639635, 762515, 828057, 746137, 778909, 795297, 754337, 631459, 647844, 877223, 811689, 926379, 778923, 844466, 828083, 819896, 934586, 844475, 705210, 869056, 885440, 672455, 656073, 705230, 672467, 680662, 672470, 877272, 910059, 844524, 664304, 811775, 729859, 647940, 746245, 819974, 762633, 779023, 754449, 664347, 844572, 803613, 877341, 762664, 852777, 779052, 901935, 934707, 770869, 942903, 754488, 770876, 762688, 828228, 885572, 787270, 828230, 639817, 861005, 754509, 861010, 729939, 729942, 795479, 844638, 926559, 787305, 893808, 738167, 795519, 746367, 770945, 844675, 820102, 779142, 828302, 885649, 762769, 664475, 648096, 697253, 795558, 648102, 943016, 697261, 787382, 885703, 902088, 861129, 828368, 910291, 656339, 754652, 918493, 721885, 697315, 836587, 803823, 877551, 754673, 934903, 672759, 828410, 918531, 771082, 664598, 869401, 689180, 631838, 934943, 926752, 926754, 664630, 861242, 918592, 689228, 918607, 722004, 689237, 803928, 689247, 844898, 771170, 803942, 803949, 746606, 640111, 746610, 935042, 705666, 828548, 664708, 861322, 787598, 713884, 894109, 763044, 672934, 795815, 902315, 672947, 656568, 697530, 713915, 804050, 738516, 804065, 935138, 656613, 763109, 861420, 894188, 918767, 648437, 910584, 673016, 926971, 640253, 730365, 632069, 869647, 754960, 861460, 763158, 812316, 943391, 787745, 697635, 886060, 918829, 902446, 927024, 779572, 738614, 730429, 902463, 640320, 697668, 714060, 722256, 894289, 664919, 812376, 886109, 869729, 705894, 673131, 877938, 705907, 689526, 886135, 796031, 648576, 804226, 943492, 927109, 812433, 918945, 902563, 886189, 910765, 796079, 673201, 648631, 886201, 820681, 894409, 648650, 656849, 845267, 689621, 796121, 804317, 689637, 919031, 648699, 689663, 779778, 689668, 730634, 943627, 722443, 779792, 697873, 861721, 927257, 706077, 837151, 656935, 648746, 730666, 738864, 747056, 878133, 845366, 656951, 828985, 894536, 878153, 902730, 656969, 689745, 796246, 910935, 706145, 738925, 706170, 673404, 632464, 771733, 706204, 837280, 648869, 820905, 788138, 804532, 927412, 886454, 689850, 911040, 902849, 894671, 870096, 739028, 820951, 763616, 796390, 894700, 837359, 689905, 648947, 804597, 714496, 861953, 681732, 714506, 935691, 796430, 657167, 632592, 755480, 780057, 739103, 739115, 911153, 821050, 657213, 632642, 845636, 722761, 853835, 878413, 665422, 788305, 862035, 681813, 640854, 714583, 714585, 853850, 845661, 853857, 935777, 698216, 632690, 870259, 870264, 804732, 788353, 903048, 722827, 870284, 640909, 681872, 804758, 780194, 935846, 722854, 853936, 829361, 690102, 731069, 722882, 657353, 935883, 829390, 690127, 763863, 632794, 640989, 903141, 706537, 755701, 657401, 698364, 657407, 788484, 649232, 870418, 763923, 682005, 944152, 657440, 665652, 649274, 854075, 903227, 682051, 698436, 854086, 895046, 788552, 821320, 755787, 665679, 936018, 714840, 804968, 747626, 755830, 837751, 755838, 764034, 878725, 878735, 919699, 927909, 682153, 657586, 886965, 772277, 870587, 805054, 886981, 673993, 706764, 731349, 764120, 805082, 706778, 821473, 911590, 919789, 895216, 788721, 747761, 805110, 764160, 895243, 690449, 911642, 796965, 682285, 919856, 764213, 657725, 706878, 944456, 821589, 854362, 813406, 854367, 690528, 698722, 723311, 870780, 739712, 846209, 657797, 878984, 674191, 944533, 633243, 821661, 723357, 764321, 936355, 821678, 666032, 928177, 706994, 690618, 846269, 780734, 911808, 829900, 690637, 879056, 879057, 756176, 805339, 682461, 780770, 895459, 748012, 805365, 805368, 797177, 682491, 707070, 789006, 641570, 789038, 870963, 797237, 649781, 887357, 698943, 764484, 666187, 649806, 879184, 715349, 879195, 871004, 658016, 895585, 805474, 944742, 715367, 666219, 821876, 780924, 756353, 944777, 772745, 780942, 780949, 797335, 682649, 707225, 682653, 723615, 846500, 748197, 830124, 838320, 920245, 658117, 936646, 674513, 707283, 699093, 846550, 641751, 772828, 764640, 821985, 731873, 764644, 748263, 781038, 740080, 764658, 748275, 920313, 928506, 936705, 772865, 928521, 854795, 920335, 666385, 854809, 912168, 666412, 764717, 789302, 666424, 748345, 691006, 740162, 772938, 936780, 944979, 895835, 633692, 764776, 764779, 805743, 641906, 789366, 773007, 682898, 904083, 813978, 846754, 846755, 748451, 805804, 871356, 805821, 814013, 781247, 920529, 945125, 732137, 650225, 797683, 773112, 863232, 855041, 781315, 748570, 822309, 633897, 887850, 822315, 805932, 724010, 814127, 805952, 699462, 715847, 863304, 945227, 822354, 691288, 691291, 633949, 855134, 822371, 724073, 830573, 879725, 715890, 945272, 674938, 846972, 650369, 937090, 863362, 642182, 846985, 666767, 789652, 822422, 715927, 945308, 765088, 814242, 674994, 904376, 896194, 937158, 789706, 699599, 871641, 945369, 847067, 740572, 773339, 699614, 888039, 945387, 634098, 855286, 781562, 748795, 683261, 830724, 707856, 838932, 806165, 929053, 757033, 904493, 855344, 912689, 912690, 912694, 781627, 879932, 912701, 716093, 863552, 912705, 642372, 798021, 716103, 798029, 757070, 879952, 732496, 642390, 740695, 781656, 822618, 634203, 888156, 757085, 642405, 650598, 757093, 699757, 666995, 634230, 839043, 773508, 650629, 789898, 699786, 724367, 929176, 757145, 929178, 708009, 691630, 757166, 806324, 732600, 806332, 781769, 798157, 880078, 847311, 937422, 798162, 650709, 806358, 814551, 667093, 806362, 667099, 945627, 699866, 896512, 683521, 822805, 732699, 904735, 847395, 773670, 724525, 880174, 929326, 937519, 765511, 831048, 814669, 716366, 757328, 675410, 765524, 667225, 650846, 798304, 724579, 896614, 855662, 749171, 863863, 896635, 749179, 700033, 667277, 757407, 904864, 716454, 765610, 749234, 716469, 634552, 732856, 888508, 822973, 904904, 700108, 822996, 650981, 634598, 872167, 634605, 741102, 749293, 634611, 904948, 782073, 823045, 741134, 855823, 667416, 872218, 814881, 896802, 700194, 855844, 724772, 667431, 880442, 675663, 913232, 839506, 683859, 921429, 683872, 929637, 749415, 724841, 872300, 757617, 880498, 683903, 855940, 905093, 667529, 847768, 929689, 642972, 642975, 724906, 937901, 749488, 651185, 855991, 790456, 643001, 708544, 708548, 831435, 888780, 733132, 847832, 864223, 741353, 905197, 929781, 700408, 651258, 847867, 806913, 798722, 872451, 643076, 667654, 634888, 716808, 749577, 815115, 856078, 684046, 823312, 856084, 643092, 733205, 823319, 757780, 929817, 675867, 667684, 774180, 725035, 667692, 741432, 766031, 716890, 634971, 938077, 921693, 757854, 938083, 749678, 684144, 823414, 635003, 880764, 880766, 651392, 749697, 684166, 741512, 815246, 684176, 725144, 913561, 872607, 807074, 635048, 643244, 815289, 905401, 684222, 913603, 889036, 659660, 807120, 700634, 913627, 692446, 913631, 848099, 921829, 766181, 872682, 659695, 774383, 921841, 684279, 823547, 823549, 782591, 733440, 692496, 839954, 880921, 733466, 872738, 905507, 880932, 839982, 880948, 905524, 667959, 921922, 725320, 643404, 659797, 889175, 717156, 799090, 913794, 684419, 635269, 905609, 758153, 692620, 897431, 831900, 864676, 799141, 692644, 676265, 733611, 815537, 848305, 668087, 692674, 938435, 717257, 651735, 684503, 872928, 856546, 881123, 930274, 668134, 766439, 840170, 905706, 766442, 864749, 922095, 750066, 758265, 684541, 897534, 782848, 864771, 684560, 889363, 700950, 717343, 872995, 643619, 791080, 913960, 782888, 733739, 856621, 660015, 889392, 643634, 864821, 676410, 791100, 651850, 913995, 651862, 782935, 873049, 782943, 832098, 733794, 782946, 840302, 643701, 766585, 815738, 823938, 856708, 914055, 873096, 750217, 881291, 684685, 782997, 791192, 922276, 791211, 660139, 873135, 660148, 807609, 864957, 750276, 881351, 766685, 758507, 897772, 692977, 905975, 856827, 807677, 774917, 783120, 733972, 807701, 725781, 733976, 865053, 725792, 914213, 701225, 652075, 881453, 684851, 742202, 906045, 725830, 832328, 783176, 856917, 635737, 709466, 791392, 922466, 652134, 848746, 922479, 643963, 856965, 635787, 734091, 717723, 742299, 856990, 635809, 775080, 824233, 897961, 799659, 807860, 709558, 750518, 766910, 693189, 734158, 848848, 775121, 709596, 750556, 791523, 758757, 881640, 832490, 783362, 693254, 758790, 857115, 775201, 873507, 676899, 767017, 857133, 734258, 816179, 660532, 726069, 824397, 635984, 832593, 775250, 709715, 685143, 832603, 840797, 644190, 873567, 857184, 660578, 816228, 636027, 906367, 750719, 644225, 775300, 890001, 775314, 644246, 906396, 775340, 808116, 668854, 898232, 652473, 898238, 816320, 758977, 824516, 890056, 824521, 906449, 849114, 750819, 824548, 709860, 849131, 652529, 783603, 677109, 652542, 693506, 816395, 693518, 685329, 931095, 750872, 816409, 742690, 939304, 636205, 922926, 881978, 685375, 660803, 742726, 644426, 922957, 882002, 914773, 898394, 898395, 775514, 783710, 750950, 849257, 939370, 865643, 783725, 922992, 636280, 742781, 710015, 677255, 890254, 890263, 931226, 685466, 644510, 890277, 636332, 865709, 660913, 751025, 931254, 652728, 644541, 677313, 865735, 832968, 914887, 685515, 841167, 800210, 726486, 660951, 677345, 841186, 759277, 865776, 914932, 734712, 841210, 759292, 800263, 873994, 849419, 890378, 734732, 742933, 677398, 669209, 742937, 808481, 734754, 833064, 718379, 701998, 906802, 808500, 898613, 841274, 751166, 923199, 661061, 792134, 898634, 816719, 898641, 742993, 710227, 833113, 693852, 800351, 751202, 751211, 898669, 693872, 931444, 693878, 783990, 718479, 841361, 636565, 915103, 808613, 636583, 759464, 898737, 874165, 702136, 825024, 939713, 825030, 808650, 792268, 808652, 825039, 800465, 636626, 792277, 800469, 825061, 661226, 775915, 644846, 726766, 669430, 939775, 710405, 808711, 792328, 726796, 808717, 775948, 825110, 866071, 767787, 735021, 833335, 866103, 931643, 890692, 776004, 776010, 874315, 792397, 751437, 833360, 915280, 923482, 915292, 907102, 882541, 694127, 685936, 857969, 874354, 808823, 669563, 726908, 825217, 915330, 907139, 735107, 669574, 825223, 743302, 726921, 931722, 726922, 841615, 939931, 858018, 784305, 767924, 735162, 923581, 677821, 833472, 686019, 858052, 636868, 899018, 817107, 858078, 833507, 735208, 669674, 636909, 718840, 808953, 677883, 702465, 874502, 808969, 718872, 743452, 759836, 849950, 882721, 792610, 899106, 751653, 899110, 702505, 809004, 702518, 833594, 669755, 940097, 735303, 637018, 866395, 882791, 727149, 923762, 891012, 694405, 743559, 817288, 882829, 710800, 743577, 645276, 866461, 743581, 694436, 759983, 841905, 645298, 784563, 669876, 653493, 751799, 891065, 735429, 768200, 792778, 899277, 710864, 800984, 817369, 661728, 866531, 669923, 800998, 809190, 653544, 719081, 702700, 940276, 891128, 792828, 858364, 653571, 825608, 907529, 809229, 743696, 719121, 792850, 743700, 768280, 768282, 874789, 760113, 932147, 907572, 817461, 784691, 792890, 817468, 751942, 792921, 825696, 678241, 670052, 907624, 711016, 751980, 850294, 637310, 858496, 637315, 727427, 850310, 670099, 776600, 874909, 702878, 645550, 743856, 842168, 866744, 924094, 702911, 825792, 661953, 915908, 883143, 645584, 711131, 932318, 899557, 817647, 899572, 817658, 653821, 735766, 768534, 858661, 866853, 793133, 711224, 907833, 727610, 825916, 719423, 875075, 678469, 727631, 817746, 858720, 883296, 637561, 760441, 834171, 932475, 916098, 662152, 801417, 703112, 916110, 899729, 735891, 850583, 760476, 809632, 817824, 711336, 891561, 793275, 850620, 711355, 932542, 834243, 907972, 678596, 637639, 744137, 875210, 924363, 940750, 760527, 719569, 678614, 907991, 727766, 924377, 670425, 678638, 826095, 916207, 817911, 776951, 891646, 711422, 809735, 826123, 785164, 817933, 768790, 908055, 752413, 744227, 891690, 883500, 777006, 899887, 752438, 744247, 891709, 834368, 719685, 908107, 744275, 891733, 703319, 768859, 686941, 850789, 801639, 940905, 736110, 736112, 899953, 777075, 940919, 752504, 818052, 654217, 695177, 646027, 793494, 785304, 867227, 695195, 826276, 867237, 777124, 703408, 719793, 850866, 646066, 940980, 842677, 760759, 662458, 646077, 695231, 687042, 818115, 678858, 637900, 777166, 777170, 916447, 736224, 916451, 900068, 883687, 728040, 637930, 875503, 785392, 908275, 728051, 834549, 654327, 785401, 801786, 744451, 670728, 695306, 711693, 801808, 801823, 883744, 719905, 924720, 826417, 736305, 859188, 719924, 670776, 654395, 785470, 719940, 728134, 719943, 851016, 760904, 769099, 810062, 932949, 859223, 744536, 752737, 687205, 760933, 941163, 711787, 875630, 883824, 883828, 785530, 703613, 867461, 744582, 859274, 916619, 818316, 654475, 867473, 646293, 883865, 916639, 826532, 826539, 711867, 679101, 875713, 826566, 646342, 859346, 867540, 662750, 662752, 793832, 867560, 687338, 842991, 736496, 818427, 703741, 687361, 916739, 695557, 646406, 761098, 933136, 859416, 671002, 859419, 818463, 834850, 777506, 924968, 818476, 687409, 867634, 638263, 728380, 867646, 761153, 834882, 843079, 884040, 916807, 752978, 859480, 712031, 900448, 834922, 941418, 925036, 859503, 916847, 679281, 859519, 884107, 908686, 933264, 884114, 867732, 941463, 703901, 679326, 785823, 941474, 818600, 769450, 933294, 712112, 892338, 753075, 843191, 835002, 736698, 761279, 941506, 695747, 703939, 712134, 933335, 679387, 744923, 826848, 843233, 671203, 728547, 802277, 728552, 736746, 867825, 851442, 884212, 654837, 671222, 916983, 835068, 744956, 867841, 941570, 794117, 876037, 900618, 679445, 704024, 663065, 826907, 646685, 900640, 892450, 826917, 900645, 687659, 630320, 908855, 835128, 638525, 908862, 835145, 908880, 892497, 892498, 745041, 663125, 835160, 802393, 728667, 892516, 753254, 753260, 687733, 712328, 679561, 835219, 687766, 712343, 704154, 687773, 728737, 704163, 917161, 728756, 900791, 736955, 704192, 925388, 663252, 933589, 900833, 761573, 663274, 712426, 917238, 737014, 909053, 859917, 712481, 769825, 745251, 859948, 638766, 859951, 925492, 876345, 859966, 778047, 892736, 728903, 909134, 851793, 802644, 696151, 745307, 819036, 647004, 851806, 925535, 696162, 728933, 835431, 868200, 802670, 827246, 753519, 884594, 917365, 647055, 909201, 704408, 786329, 679836, 794526, 901023, 843680, 860077, 655283, 704437, 810946, 696263, 770003, 794580, 655324, 892894, 802784, 810979, 753638, 942058, 884720, 655344, 942070]\n",
      "Количество таких пользователей: 1895\n",
      "Исходный размер данных: 294478\n",
      "Размер после фильтрации: 290688\n"
     ]
    }
   ],
   "source": [
    "# Проверем, есть ли пользователи, которые в процессе A/B-теста попали в обе группы.\n",
    "def filter_cross_group_users(data, group_col='group', user_col='user_id'):\n",
    "    \"\"\"\n",
    "    Функция проверки пользователей попавших в обе группы\n",
    "    \"\"\"\n",
    "    # Находим пользователей в обеих группах\n",
    "    group_a = set(data.loc[data[group_col] == 'A', user_col])\n",
    "    group_b = set(data.loc[data[group_col] == 'B', user_col])\n",
    "    \n",
    "    cross_users = group_a & group_b \n",
    "    \n",
    "    if cross_users:\n",
    "        print(f'Пользователи попавшие в обе группы: {list(cross_users)}')\n",
    "        print(f'Количество таких пользователей: {len(cross_users)}')\n",
    "    else:\n",
    "        print('Нет пользователей, попавших в обе группы')\n",
    "    \n",
    "    # Фильтруем данные\n",
    "    filtered_data = data[~data[user_col].isin(cross_users)]\n",
    "    \n",
    "    print(f'Исходный размер данных: {data.shape[0]}')\n",
    "    print(f'Размер после фильтрации: {filtered_data.shape[0]}')\n",
    "    \n",
    "    return filtered_data\n",
    "\n",
    "# Почистим\n",
    "filtered_data = filter_cross_group_users(data)"
   ]
  },
  {
   "cell_type": "markdown",
   "id": "ddc9b66e",
   "metadata": {},
   "source": [
    "<p style = \"background-color : #0090ff; border-radius: 5px 5px; padding : 10px\"><strong>\n",
    "<span style=\"color:#000\">2. Первичный анализ результатов A/B-тестирования: </span>\n",
    "\n"
   ]
  },
  {
   "cell_type": "code",
   "execution_count": 8,
   "id": "5c0d1828",
   "metadata": {},
   "outputs": [
    {
     "data": {
      "application/vnd.microsoft.datawrangler.viewer.v0+json": {
       "columns": [
        {
         "name": "index",
         "rawType": "int64",
         "type": "integer"
        },
        {
         "name": "group",
         "rawType": "object",
         "type": "string"
        },
        {
         "name": "user_count",
         "rawType": "int64",
         "type": "integer"
        },
        {
         "name": "purchase_sum",
         "rawType": "int64",
         "type": "integer"
        },
        {
         "name": "price_sum",
         "rawType": "int64",
         "type": "integer"
        }
       ],
       "ref": "de3e0da3-22ad-40db-935b-88082308d64a",
       "rows": [
        [
         "0",
         "A",
         "145307",
         "17487",
         "1417780000"
        ],
        [
         "1",
         "B",
         "145381",
         "17290",
         "1533010000"
        ]
       ],
       "shape": {
        "columns": 4,
        "rows": 2
       }
      },
      "text/html": [
       "<div>\n",
       "<style scoped>\n",
       "    .dataframe tbody tr th:only-of-type {\n",
       "        vertical-align: middle;\n",
       "    }\n",
       "\n",
       "    .dataframe tbody tr th {\n",
       "        vertical-align: top;\n",
       "    }\n",
       "\n",
       "    .dataframe thead th {\n",
       "        text-align: right;\n",
       "    }\n",
       "</style>\n",
       "<table border=\"1\" class=\"dataframe\">\n",
       "  <thead>\n",
       "    <tr style=\"text-align: right;\">\n",
       "      <th></th>\n",
       "      <th>group</th>\n",
       "      <th>user_count</th>\n",
       "      <th>purchase_sum</th>\n",
       "      <th>price_sum</th>\n",
       "    </tr>\n",
       "  </thead>\n",
       "  <tbody>\n",
       "    <tr>\n",
       "      <th>0</th>\n",
       "      <td>A</td>\n",
       "      <td>145307</td>\n",
       "      <td>17487</td>\n",
       "      <td>1417780000</td>\n",
       "    </tr>\n",
       "    <tr>\n",
       "      <th>1</th>\n",
       "      <td>B</td>\n",
       "      <td>145381</td>\n",
       "      <td>17290</td>\n",
       "      <td>1533010000</td>\n",
       "    </tr>\n",
       "  </tbody>\n",
       "</table>\n",
       "</div>"
      ],
      "text/plain": [
       "  group  user_count  purchase_sum   price_sum\n",
       "0     A      145307         17487  1417780000\n",
       "1     B      145381         17290  1533010000"
      ]
     },
     "execution_count": 8,
     "metadata": {},
     "output_type": "execute_result"
    }
   ],
   "source": [
    "# Рассчитаем вспомогательные показатели для контрольной и тестовой групп\n",
    "group_data = filtered_data.groupby(by='group').agg({\n",
    "    'user_id':'count', # количество посещений сайта\n",
    "    'purchase': 'sum', # суммарное количество совершённых покупок\n",
    "    'price':'sum'      # сумма всех покупок\n",
    "}).reset_index().rename(columns={\n",
    "    'user_id':'user_count',\n",
    "    'purchase': 'purchase_sum',\n",
    "    'price':'price_sum'\n",
    "})\n",
    "\n",
    "group_data"
   ]
  },
  {
   "cell_type": "markdown",
   "id": "34d3ef04",
   "metadata": {},
   "source": [
    "<div class=\"alert alert-success\">\n",
    "Выборки сбалансированы, а количество посещений обоих вариантов посадочной страницы сопоставимо."
   ]
  },
  {
   "cell_type": "code",
   "execution_count": 9,
   "id": "039724c0",
   "metadata": {},
   "outputs": [
    {
     "data": {
      "application/vnd.microsoft.datawrangler.viewer.v0+json": {
       "columns": [
        {
         "name": "index",
         "rawType": "int64",
         "type": "integer"
        },
        {
         "name": "group",
         "rawType": "object",
         "type": "string"
        },
        {
         "name": "user_count",
         "rawType": "int64",
         "type": "integer"
        },
        {
         "name": "purchase_sum",
         "rawType": "int64",
         "type": "integer"
        },
        {
         "name": "price_sum",
         "rawType": "int64",
         "type": "integer"
        },
        {
         "name": "conversion",
         "rawType": "float64",
         "type": "float"
        },
        {
         "name": "mean_receipt",
         "rawType": "float64",
         "type": "float"
        }
       ],
       "ref": "7927a5a3-ab04-4630-983b-312662244b6c",
       "rows": [
        [
         "0",
         "A",
         "145307",
         "17487",
         "1417780000",
         "12.034520016241474",
         "8107622.805512666"
        ],
        [
         "1",
         "B",
         "145381",
         "17290",
         "1533010000",
         "11.892888341667755",
         "8866454.598033546"
        ]
       ],
       "shape": {
        "columns": 6,
        "rows": 2
       }
      },
      "text/html": [
       "<div>\n",
       "<style scoped>\n",
       "    .dataframe tbody tr th:only-of-type {\n",
       "        vertical-align: middle;\n",
       "    }\n",
       "\n",
       "    .dataframe tbody tr th {\n",
       "        vertical-align: top;\n",
       "    }\n",
       "\n",
       "    .dataframe thead th {\n",
       "        text-align: right;\n",
       "    }\n",
       "</style>\n",
       "<table border=\"1\" class=\"dataframe\">\n",
       "  <thead>\n",
       "    <tr style=\"text-align: right;\">\n",
       "      <th></th>\n",
       "      <th>group</th>\n",
       "      <th>user_count</th>\n",
       "      <th>purchase_sum</th>\n",
       "      <th>price_sum</th>\n",
       "      <th>conversion</th>\n",
       "      <th>mean_receipt</th>\n",
       "    </tr>\n",
       "  </thead>\n",
       "  <tbody>\n",
       "    <tr>\n",
       "      <th>0</th>\n",
       "      <td>A</td>\n",
       "      <td>145307</td>\n",
       "      <td>17487</td>\n",
       "      <td>1417780000</td>\n",
       "      <td>12.034520</td>\n",
       "      <td>8.107623e+06</td>\n",
       "    </tr>\n",
       "    <tr>\n",
       "      <th>1</th>\n",
       "      <td>B</td>\n",
       "      <td>145381</td>\n",
       "      <td>17290</td>\n",
       "      <td>1533010000</td>\n",
       "      <td>11.892888</td>\n",
       "      <td>8.866455e+06</td>\n",
       "    </tr>\n",
       "  </tbody>\n",
       "</table>\n",
       "</div>"
      ],
      "text/plain": [
       "  group  user_count  purchase_sum   price_sum  conversion  mean_receipt\n",
       "0     A      145307         17487  1417780000   12.034520  8.107623e+06\n",
       "1     B      145381         17290  1533010000   11.892888  8.866455e+06"
      ]
     },
     "execution_count": 9,
     "metadata": {},
     "output_type": "execute_result"
    }
   ],
   "source": [
    "# В каждой из групп рассчитаем ключевые показатели:\n",
    "# конверсия\n",
    "group_data['conversion'] = (group_data['purchase_sum'] / group_data['user_count'])*100\n",
    "# средний чек\n",
    "group_data['mean_receipt'] = (group_data['price_sum'] / group_data['purchase_sum'])*100\n",
    "\n",
    "group_data"
   ]
  },
  {
   "cell_type": "markdown",
   "id": "9f89c062",
   "metadata": {},
   "source": [
    "<div class=\"alert alert-success\">\n",
    "Конверсия группы А выглядит эффективней,а средний чек у группы В выше."
   ]
  },
  {
   "cell_type": "code",
   "execution_count": 10,
   "id": "58d08e05",
   "metadata": {},
   "outputs": [],
   "source": [
    "# Сравним варианты A/B по покупательской способности каждого из туров.\n",
    "# Соберем туры\n",
    "tour_dict = {\n",
    "     100000: 'Тайланд',\n",
    "     60000: 'Турция',\n",
    "     200000: 'Мальдивы',\n",
    "     10000: 'Санкт-Петербург',\n",
    "     150000: 'Камчатка',\n",
    "}\n",
    "# Сделаем копию\n",
    "t_data = data.copy()"
   ]
  },
  {
   "cell_type": "code",
   "execution_count": 11,
   "id": "bde95058",
   "metadata": {},
   "outputs": [
    {
     "data": {
      "image/png": "[encoded data removed]",
      "text/plain": [
       "<Figure size 1200x600 with 2 Axes>"
      ]
     },
     "metadata": {},
     "output_type": "display_data"
    }
   ],
   "source": [
    "# построим сводную таблицу\n",
    "cross_tab = pd.crosstab(\n",
    "    index=t_data.loc[t_data['price'] != 0, 'group'],\n",
    "    columns=t_data.loc[t_data['price'] != 0, 'price'].map(tour_dict),\n",
    "    values=t_data.loc[t_data['price'] != 0, 'purchase'],\n",
    "    aggfunc='sum'\n",
    ")\n",
    "\n",
    "# Визуализируем полученную сводную таблицу\n",
    "plt.figure(figsize=(12, 6))\n",
    "sns.heatmap(cross_tab, \n",
    "            annot=True, \n",
    "            fmt='.0f',\n",
    "            cmap='YlOrRd', \n",
    "            linewidths=0.5,\n",
    "            cbar_kws={'label': 'Количество покупок'})\n",
    "\n",
    "plt.title('Количество покупок туров по группам A/B тестирования', pad=22, fontsize=16)\n",
    "plt.xlabel('Тур', fontsize=14)\n",
    "plt.ylabel('Группа', fontsize=14)\n",
    "plt.tight_layout()\n",
    "plt.show()"
   ]
  },
  {
   "cell_type": "markdown",
   "id": "e0a84593",
   "metadata": {},
   "source": [
    "<div class=\"alert alert-success\">\n",
    "Исходя из тепловой диаграммы можно сделать селедующие выводы:\n",
    "Ярко выраженное различие в Турах Тайланда и Турции! Покупательская сопсобность у участников группы В выше в Тайланде, а в Турции преобладает группа А.\n",
    "Что касается Камчатки, Мальдив и Санкт-Петербурга то покупательская способность у групп не отличается."
   ]
  },
  {
   "cell_type": "markdown",
   "id": "29e754ee",
   "metadata": {},
   "source": [
    "<p style = \"background-color : #0090ff; border-radius: 5px 5px; padding : 10px\"><strong>\n",
    "<span style=\"color:#000\">3. Проанализируем данные на предмет стабилизации метрик: </span>"
   ]
  },
  {
   "cell_type": "code",
   "execution_count": 12,
   "id": "fdc2e6ff",
   "metadata": {},
   "outputs": [],
   "source": [
    "# Рассчитаем вспомогательные показатели для контрольной и тестовой групп\n",
    "date_group_data = filtered_data.groupby(by=['date','group']).agg({\n",
    "    'user_id':'count', # количество посещений страницы\n",
    "    'purchase': 'sum', # количество покупок\n",
    "    'price':'sum'      # сумма покупок\n",
    "}).reset_index().rename(columns={\n",
    "    'user_id':'user_count',\n",
    "    'purchase': 'purchase_sum',\n",
    "    'price':'price_sum'\n",
    "})"
   ]
  },
  {
   "cell_type": "code",
   "execution_count": 13,
   "id": "e8890573",
   "metadata": {},
   "outputs": [],
   "source": [
    "# ежедневной конверсии\n",
    "date_group_data['conversion'] = (date_group_data['purchase_sum'] / date_group_data['user_count'])*100\n",
    "# ежедневном среднем чеке\n",
    "date_group_data['mean_receipt'] = (date_group_data['price_sum'] / date_group_data['purchase_sum'])*100"
   ]
  },
  {
   "cell_type": "code",
   "execution_count": 14,
   "id": "1b49a7a8",
   "metadata": {},
   "outputs": [],
   "source": [
    "# Рассчитаем кумулятивные показатели\n",
    "# кумулятивное количество посещений страницы;\n",
    "date_group_data.loc[:, 'cum_user_count'] = date_group_data['user_count'].cumsum()\n",
    "# кумулятивное количество покупок;\n",
    "date_group_data.loc[:, 'cum_purchase_sum'] = date_group_data['purchase_sum'].cumsum()\n",
    "# кумулятивную сумму покупок.\n",
    "date_group_data.loc[:, 'cum_price_sum'] = date_group_data['price_sum'].cumsum()"
   ]
  },
  {
   "cell_type": "code",
   "execution_count": 15,
   "id": "bd2b3f76",
   "metadata": {},
   "outputs": [],
   "source": [
    "# вычислим кумулятивную конверсию и кумулятивный средний чек.\n",
    "# ежедневной конверсии\n",
    "date_group_data['cum_conversion'] = (date_group_data['cum_purchase_sum'] / date_group_data['cum_user_count'])*100\n",
    "# ежедневном среднем чеке\n",
    "date_group_data['cum_mean_receipt'] = (date_group_data['cum_price_sum'] / date_group_data['cum_purchase_sum'])*100"
   ]
  },
  {
   "cell_type": "code",
   "execution_count": 16,
   "id": "aedede1d",
   "metadata": {},
   "outputs": [
    {
     "data": {
      "image/png": "[encoded data removed]",
      "text/plain": [
       "<Figure size 1600x500 with 2 Axes>"
      ]
     },
     "metadata": {},
     "output_type": "display_data"
    }
   ],
   "source": [
    "# Построем кумулятивные графики конверсии и среднего чека в каждой группе по дням\n",
    "fig, (ax1, ax2) = plt.subplots(1, 2, figsize=(16, 5))\n",
    "\n",
    "# Конверсии\n",
    "sns.lineplot(x='date', y='cum_conversion', data=date_group_data, hue='group', ax=ax1, marker='o')\n",
    "ax1.set_title('Кумулятивная конверсия по дням', fontsize=14)\n",
    "ax1.set_ylabel('Конверсия')\n",
    "ax1.xaxis.set_tick_params(rotation=45)\n",
    "ax1.grid(True)\n",
    "\n",
    "# Средний чек\n",
    "sns.lineplot(x='date', y='cum_mean_receipt', data=date_group_data, hue='group', ax=ax2, marker='o')\n",
    "ax2.set_title('Кумулятивный средний чек по дням', fontsize=14)\n",
    "ax2.set_ylabel('Средний чек, руб.')\n",
    "ax2.xaxis.set_tick_params(rotation=45)\n",
    "ax2.grid(True)\n",
    "\n",
    "plt.tight_layout()\n",
    "plt.show()"
   ]
  },
  {
   "cell_type": "markdown",
   "id": "f81740f7",
   "metadata": {},
   "source": [
    "<div class=\"alert alert-success\">\n",
    "Исходя из полученных графиков можно считать тест завершенных, обе метрики стабилизировалисть (Конверсия примерно с 2021-01-11 с незначительными далее колебаниями, а средний чек в районе 2021-01-15 и дальше также идут мелкие колебания).\n",
    "В целом после стабилизации, конверсия она плюс минус одинаковая у обоих групп, а средний чек выше у группы В. "
   ]
  },
  {
   "cell_type": "markdown",
   "id": "546abcf2",
   "metadata": {},
   "source": [
    "<p style = \"background-color : #0090ff; border-radius: 5px 5px; padding : 10px\"><strong>\n",
    "<span style=\"color:#000\">4. Проведём статистический анализ результатов A/B-тестирования: </span>\n"
   ]
  },
  {
   "cell_type": "markdown",
   "id": "edb65f17",
   "metadata": {},
   "source": [
    "<div class='alert alert-info'>\n",
    "\n",
    "**Гипотеза 1:**\n",
    "\n",
    "**Основное предположение (H0)**: Новая группа B не лучше и не хуже группы A - конверсии равны.\n",
    "\n",
    "**Альтернативное предположение (H1)**: Между группами есть реальная разница в конверсиях - не равны.\n",
    "\n",
    "Будем использолвать **Z-тест** - стандартный статистический инструмент для оценки значимости различий в конверсиях."
   ]
  },
  {
   "cell_type": "code",
   "execution_count": 17,
   "id": "7e4c3330",
   "metadata": {},
   "outputs": [
    {
     "data": {
      "application/vnd.microsoft.datawrangler.viewer.v0+json": {
       "columns": [
        {
         "name": "group",
         "rawType": "object",
         "type": "string"
        },
        {
         "name": "sum",
         "rawType": "int64",
         "type": "integer"
        },
        {
         "name": "count",
         "rawType": "int64",
         "type": "integer"
        }
       ],
       "ref": "3f24d831-b31b-484d-be89-6fedf9c8cb21",
       "rows": [
        [
         "A",
         "17487",
         "145307"
        ],
        [
         "B",
         "17290",
         "145381"
        ]
       ],
       "shape": {
        "columns": 2,
        "rows": 2
       }
      },
      "text/html": [
       "<div>\n",
       "<style scoped>\n",
       "    .dataframe tbody tr th:only-of-type {\n",
       "        vertical-align: middle;\n",
       "    }\n",
       "\n",
       "    .dataframe tbody tr th {\n",
       "        vertical-align: top;\n",
       "    }\n",
       "\n",
       "    .dataframe thead th {\n",
       "        text-align: right;\n",
       "    }\n",
       "</style>\n",
       "<table border=\"1\" class=\"dataframe\">\n",
       "  <thead>\n",
       "    <tr style=\"text-align: right;\">\n",
       "      <th></th>\n",
       "      <th>sum</th>\n",
       "      <th>count</th>\n",
       "    </tr>\n",
       "    <tr>\n",
       "      <th>group</th>\n",
       "      <th></th>\n",
       "      <th></th>\n",
       "    </tr>\n",
       "  </thead>\n",
       "  <tbody>\n",
       "    <tr>\n",
       "      <th>A</th>\n",
       "      <td>17487</td>\n",
       "      <td>145307</td>\n",
       "    </tr>\n",
       "    <tr>\n",
       "      <th>B</th>\n",
       "      <td>17290</td>\n",
       "      <td>145381</td>\n",
       "    </tr>\n",
       "  </tbody>\n",
       "</table>\n",
       "</div>"
      ],
      "text/plain": [
       "         sum   count\n",
       "group               \n",
       "A      17487  145307\n",
       "B      17290  145381"
      ]
     },
     "execution_count": 17,
     "metadata": {},
     "output_type": "execute_result"
    }
   ],
   "source": [
    "cum_hypothesis= filtered_data.groupby('group')['purchase'].agg(\n",
    "    ['sum', 'count']\n",
    ")\n",
    "\n",
    "cum_hypothesis"
   ]
  },
  {
   "cell_type": "code",
   "execution_count": 18,
   "id": "2a9eb92c",
   "metadata": {},
   "outputs": [
    {
     "name": "stdout",
     "output_type": "stream",
     "text": [
      "p-value:  0.239\n",
      "У нас нет оснований отвергнуть нулевую гипотезу\n"
     ]
    }
   ],
   "source": [
    "alpha = 0.05 # уровень значимости\n",
    "# вычисляем значение p-value для z-теста для пропорций\n",
    "_, p_value = proportions_ztest(\n",
    "    count=cum_hypothesis['sum'], #число «успехов»\n",
    "    nobs=cum_hypothesis['count'], #общее число наблюдений\n",
    "    alternative='two-sided',\n",
    ")\n",
    "# выводим результат на экран\n",
    "print('p-value: ', round(p_value, 3))\n",
    "# сравниваем полученное p-value с уровнем значимости\n",
    "if (p_value <= alpha):\n",
    "    print(\"Отвергаем нулевую гипотезу в пользу альтернативной\")\n",
    "else:\n",
    "    print(\"У нас нет оснований отвергнуть нулевую гипотезу\")"
   ]
  },
  {
   "cell_type": "markdown",
   "id": "3d026748",
   "metadata": {},
   "source": [
    "<div class=\"alert alert-success\">\n",
    "Т.е. разницы между А и В нет"
   ]
  },
  {
   "cell_type": "markdown",
   "id": "bcbbcba9",
   "metadata": {},
   "source": [
    "<div class='alert alert-info'>\n",
    "\n",
    "**Гипотеза 2:**\n",
    "\n",
    "\n",
    "**Основное предположение (H0)**: Новая группа B не лучше и не хуже группы A - ежедневные средние чеки равны.\n",
    "\n",
    "**Альтернативное предположение (H1)**: Между группами есть реальная разница в конверсиях - ежедневные средние чеки не равны."
   ]
  },
  {
   "cell_type": "code",
   "execution_count": 19,
   "id": "233830fa",
   "metadata": {},
   "outputs": [
    {
     "data": {
      "application/vnd.microsoft.datawrangler.viewer.v0+json": {
       "columns": [
        {
         "name": "group",
         "rawType": "object",
         "type": "string"
        },
        {
         "name": "mean",
         "rawType": "float64",
         "type": "float"
        },
        {
         "name": "median",
         "rawType": "float64",
         "type": "float"
        }
       ],
       "ref": "aa97f6d8-1706-41db-9054-e6bf6b4425b6",
       "rows": [
        [
         "A",
         "8096928.50990052",
         "8192200.557103065"
        ],
        [
         "B",
         "8857571.551361024",
         "8777093.596059114"
        ]
       ],
       "shape": {
        "columns": 2,
        "rows": 2
       }
      },
      "text/html": [
       "<div>\n",
       "<style scoped>\n",
       "    .dataframe tbody tr th:only-of-type {\n",
       "        vertical-align: middle;\n",
       "    }\n",
       "\n",
       "    .dataframe tbody tr th {\n",
       "        vertical-align: top;\n",
       "    }\n",
       "\n",
       "    .dataframe thead th {\n",
       "        text-align: right;\n",
       "    }\n",
       "</style>\n",
       "<table border=\"1\" class=\"dataframe\">\n",
       "  <thead>\n",
       "    <tr style=\"text-align: right;\">\n",
       "      <th></th>\n",
       "      <th>mean</th>\n",
       "      <th>median</th>\n",
       "    </tr>\n",
       "    <tr>\n",
       "      <th>group</th>\n",
       "      <th></th>\n",
       "      <th></th>\n",
       "    </tr>\n",
       "  </thead>\n",
       "  <tbody>\n",
       "    <tr>\n",
       "      <th>A</th>\n",
       "      <td>8.096929e+06</td>\n",
       "      <td>8.192201e+06</td>\n",
       "    </tr>\n",
       "    <tr>\n",
       "      <th>B</th>\n",
       "      <td>8.857572e+06</td>\n",
       "      <td>8.777094e+06</td>\n",
       "    </tr>\n",
       "  </tbody>\n",
       "</table>\n",
       "</div>"
      ],
      "text/plain": [
       "               mean        median\n",
       "group                            \n",
       "A      8.096929e+06  8.192201e+06\n",
       "B      8.857572e+06  8.777094e+06"
      ]
     },
     "execution_count": 19,
     "metadata": {},
     "output_type": "execute_result"
    }
   ],
   "source": [
    "receipt_hypothesis= date_group_data.groupby('group')['mean_receipt'].agg(\n",
    "    ['mean', 'median']\n",
    ")\n",
    "\n",
    "receipt_hypothesis"
   ]
  },
  {
   "cell_type": "code",
   "execution_count": 20,
   "id": "eeff7fd5",
   "metadata": {},
   "outputs": [
    {
     "data": {
      "image/png": "[encoded data removed]",
      "text/plain": [
       "<Figure size 1200x400 with 2 Axes>"
      ]
     },
     "metadata": {},
     "output_type": "display_data"
    }
   ],
   "source": [
    "# Создаём композицию графиков\n",
    "fig, axes = plt.subplots(1, 2, figsize=(12, 4))\n",
    "\n",
    "# Строим распределения среднего чека по группам\n",
    "sns.histplot(data=date_group_data[date_group_data['group'] == 'A'], \n",
    "             x='mean_receipt', ax=axes[0], color='skyblue', alpha=0.7)\n",
    "sns.histplot(data=date_group_data[date_group_data['group'] == 'B'], \n",
    "             x='mean_receipt', ax=axes[1], color='lightcoral', alpha=0.7)\n",
    "\n",
    "# Настраиваем оформление графиков\n",
    "axes[0].set_title('Распределение ежедневного среднего чека\\nГруппа A', fontsize=13, pad=15)\n",
    "axes[1].set_title('Распределение ежедневного среднего чека\\nГруппа B', fontsize=13, pad=15)\n",
    "\n",
    "# Добавляем подписи осей\n",
    "for ax in axes:\n",
    "    ax.set_xlabel('Средний чек', fontsize=11)\n",
    "    ax.set_ylabel('Количество дней', fontsize=11)\n",
    "    ax.grid(axis='y', alpha=0.3)\n",
    "\n",
    "plt.tight_layout()\n",
    "plt.show()"
   ]
  },
  {
   "cell_type": "markdown",
   "id": "4dd15db0",
   "metadata": {},
   "source": [
    "<div class=\"alert alert-success\">\n",
    "Распределения выглядят близко к нормальному, касательно среднего чека, то в группе В кажется выше."
   ]
  },
  {
   "cell_type": "code",
   "execution_count": 21,
   "id": "098865e2",
   "metadata": {},
   "outputs": [
    {
     "name": "stdout",
     "output_type": "stream",
     "text": [
      "p-value группы А 0.25\n",
      "p-value группы B 0.09\n",
      "Принимаем нулевую гипотезу. Распределение в группе А является нормальным\n",
      "Принимаем нулевую гипотезу. Распределение в группе B является нормальным\n"
     ]
    }
   ],
   "source": [
    "alpha = 0.05 # уровень значимости\n",
    "# вычисляем результат теста Шапиро — Уилка для выборок\n",
    "shapiro_result_a = shapiro(date_group_data[date_group_data['group'] == 'A']['mean_receipt'])\n",
    "shapiro_result_b = shapiro(date_group_data[date_group_data['group'] == 'B']['mean_receipt'])\n",
    "print('p-value группы А', round(shapiro_result_a.pvalue, 2))\n",
    "print('p-value группы B', round(shapiro_result_b.pvalue, 2))\n",
    "\n",
    "# сравниваем полученное p-value для группы А с уровнем значимости\n",
    "if shapiro_result_a.pvalue <= alpha:\n",
    "    print(\"Отвергаем нулевую гипотезу в пользу альтернативной. Распределение в группе А отлично от нормального\")\n",
    "else:\n",
    "    print(\"Принимаем нулевую гипотезу. Распределение в группе А является нормальным\")\n",
    "\n",
    "# сравниваем полученное p-value для группы B с уровнем значимости\n",
    "if shapiro_result_b.pvalue <= alpha:\n",
    "    print(\"Отвергаем нулевую гипотезу в пользу альтернативной. Распределение в группе B отлично от нормального\")\n",
    "else:\n",
    "    print(\"Принимаем нулевую гипотезу. Распределение в группе B является нормальным\")"
   ]
  },
  {
   "cell_type": "markdown",
   "id": "d3ae8a9e",
   "metadata": {},
   "source": [
    "<div class='alert alert-info'>\n",
    "Исходя из подтверждения нормальности распределения при помощи теста Шапиро - Уилка, будем использовать Т-тест."
   ]
  },
  {
   "cell_type": "code",
   "execution_count": 22,
   "id": "dd42fc10",
   "metadata": {},
   "outputs": [
    {
     "name": "stdout",
     "output_type": "stream",
     "text": [
      "p-value: 0.0\n",
      "Отвергаем нулевую гипотезу в пользу альтернативной\n"
     ]
    }
   ],
   "source": [
    "alpha = 0.05 #уровень значимости\n",
    "# вычисляем результат T-теста для выборок\n",
    "results = ttest_ind(\n",
    "    a=date_group_data[date_group_data['group'] == 'A']['mean_receipt'],\n",
    "    b=date_group_data[date_group_data['group'] == 'B']['mean_receipt'],\n",
    "    alternative='two-sided'\n",
    ")\n",
    "print('p-value:', round(results.pvalue, 2))\n",
    "\n",
    "# сравниваем полученное p-value с уровнем значимости\n",
    "if results.pvalue <= alpha:\n",
    "    print(\"Отвергаем нулевую гипотезу в пользу альтернативной\")\n",
    "else:\n",
    "    print(\"У нас нет оснований отвергнуть нулевую гипотезу\")"
   ]
  },
  {
   "cell_type": "markdown",
   "id": "d5c32bd7",
   "metadata": {},
   "source": [
    "<div class=\"alert alert-success\">\n",
    "Полученные результаты дают нам понять, что разница между чеками А и В статически значима!"
   ]
  },
  {
   "cell_type": "markdown",
   "id": "a7e61bf8",
   "metadata": {},
   "source": [
    "<div class='alert alert-info'>\n",
    "Построим 95 % доверительный интервал для конверсий в каждой из групп"
   ]
  },
  {
   "cell_type": "code",
   "execution_count": 23,
   "id": "d24ab702",
   "metadata": {},
   "outputs": [],
   "source": [
    "# фильтруем данные группы А\n",
    "a_data = filtered_data[filtered_data['group'] == 'A']\n",
    "# фильтруем данные группы B\n",
    "b_data = filtered_data[filtered_data['group'] == 'B']"
   ]
  },
  {
   "cell_type": "code",
   "execution_count": 24,
   "id": "8f0c70fa",
   "metadata": {},
   "outputs": [],
   "source": [
    "def proportion_conf_interval(x_p, n, gamma=0.95):  \n",
    "    alpha = 1 - gamma # уровень значимости\n",
    "    z_crit = -norm.ppf(alpha/2) # z-критическое\n",
    "    eps = z_crit * (x_p * (1 - x_p) / n) ** 0.5 # погрешность\n",
    "    lower_bound = x_p - eps # левая (нижняя) граница\n",
    "    upper_bound = x_p + eps # правая (верхняя) граница\n",
    "    # возвращаем кортеж из границ интервала\n",
    "    return lower_bound, upper_bound"
   ]
  },
  {
   "cell_type": "code",
   "execution_count": 25,
   "id": "de00d3e1",
   "metadata": {},
   "outputs": [
    {
     "name": "stdout",
     "output_type": "stream",
     "text": [
      "Доверительный интервал для конверсии в группе А: (11.85, 12.08)\n",
      "Доверительный интервал для конверсии в группе B: (11.73, 12.06)\n"
     ]
    }
   ],
   "source": [
    "# строим доверительный интервал для конверсии в группе А\n",
    "lower_bound_a, upper_bound_a  = proportion_conf_interval(\n",
    "    x_p=filtered_data['purchase'].mean(), # выборочная пропорция\n",
    "    n=filtered_data['user_id'].count() # размер выборки\n",
    ")\n",
    "\n",
    "# строим доверительный интервал для конверсии в группе B\n",
    "lower_bound_b, upper_bound_b  = proportion_conf_interval(\n",
    "    x_p=b_data['purchase'].mean(), # выборочная пропорция\n",
    "    n=b_data['user_id'].count() # размер выборки\n",
    ")\n",
    "\n",
    "# выводим результат\n",
    "print('Доверительный интервал для конверсии в группе А: {}'.format((round(lower_bound_a * 100, 2), round(upper_bound_a * 100, 2))))\n",
    "print('Доверительный интервал для конверсии в группе B: {}'.format((round(lower_bound_b * 100, 2), round(upper_bound_b * 100, 2))))"
   ]
  },
  {
   "cell_type": "markdown",
   "id": "93d8ab2e",
   "metadata": {},
   "source": [
    "<div class=\"alert alert-success\">\n",
    "Касательно результатов можно сделать следующие выводы:\n",
    "- Интервалы значительно перекрываются - общий диапазон от 11.85% до 12.06%\n",
    "- Верхние границы практически одинаковые 12.08 и 12.06\n",
    "- Различия слишком малы, чтобы можно было их назвать статисчически и практически важными"
   ]
  },
  {
   "cell_type": "markdown",
   "id": "abb2d3ff",
   "metadata": {},
   "source": [
    "<div class='alert alert-info'>\n",
    "Построим 95 % доверительный интервал для разницы конверсий в группах"
   ]
  },
  {
   "cell_type": "code",
   "execution_count": 26,
   "id": "272760fc",
   "metadata": {},
   "outputs": [],
   "source": [
    "def diff_proportion_conf_interval(x_p, n, gamma=0.95):\n",
    "    alpha = 1 - gamma # уровень значимости\n",
    "    diff = x_p[1] - x_p[0] # выборочная разница конверсий групп B и A\n",
    "    z_crit = -norm.ppf(alpha/2) #z-критическое\n",
    "    eps = z_crit * (x_p[0] * (1 - x_p[0])/n[0] + x_p[1] * (1 - x_p[1])/n[1]) ** 0.5 # погрешность\n",
    "    lower_bound = diff - eps # левая (нижняя) граница\n",
    "    upper_bound = diff + eps # правая (верхняя) граница\n",
    "    # возвращаем кортеж из  границ интервала\n",
    "    return lower_bound, upper_bound"
   ]
  },
  {
   "cell_type": "code",
   "execution_count": 27,
   "id": "f6a97841",
   "metadata": {},
   "outputs": [
    {
     "name": "stdout",
     "output_type": "stream",
     "text": [
      "Доверительный интервал для разности конверсий: (-0.38, 0.09)\n"
     ]
    }
   ],
   "source": [
    "# размеры выборок групп А и B\n",
    "n = [a_data['user_id'].count(), b_data['user_id'].count()]\n",
    "# выборочная пропорция групп A и B\n",
    "x_p = [a_data['purchase'].mean(), b_data['purchase'].mean()]\n",
    "\n",
    "\n",
    "# строим доверительный интервал для разности пропорций\n",
    "lower_bound, upper_bound = diff_proportion_conf_interval(x_p=x_p, n=n)\n",
    "\n",
    "\n",
    "# выводим результат\n",
    "print('Доверительный интервал для разности конверсий: {}'.format((round(lower_bound*100, 2), round(upper_bound*100, 2))))"
   ]
  },
  {
   "cell_type": "markdown",
   "id": "e033f79f",
   "metadata": {},
   "source": [
    "<div class=\"alert alert-success\">\n",
    "Исходя из того, что нулевая точка включена в диапазон, то разницы возможно вообще нет между вариантами. Можно утверждать, что изменения в группе В не оказали статистически значимого влияния на конверсию"
   ]
  },
  {
   "cell_type": "markdown",
   "id": "86d5d81d",
   "metadata": {},
   "source": [
    "<div class='alert alert-info'>\n",
    "Построим 95 % доверительный интервал для ежедневного среднего чека в каждой из групп"
   ]
  },
  {
   "cell_type": "code",
   "execution_count": 28,
   "id": "0a4b806b",
   "metadata": {},
   "outputs": [],
   "source": [
    "def t_mean_conf_interval(x_mean, x_std, n, gamma=0.95):  \n",
    "    alpha = 1 - gamma # уровень значимости\n",
    "    k = n - 1\n",
    "    t_crit = -t.ppf(alpha/2, k) # t-критическое\n",
    "    eps = t_crit * x_std/(n ** 0.5) # погрешность\n",
    "    lower_bound = x_mean - eps # левая (нижняя) граница\n",
    "    upper_bound = x_mean + eps # правая (верхняя) граница\n",
    "    # возвращаем кортеж из границ интервала\n",
    "    return lower_bound, upper_bound"
   ]
  },
  {
   "cell_type": "code",
   "execution_count": 29,
   "id": "56a4896d",
   "metadata": {},
   "outputs": [
    {
     "name": "stdout",
     "output_type": "stream",
     "text": [
      "Доверительный интервал для ежедневного среднего чека в группе А: (809533648.72, 809852053.26)\n",
      "Доверительный интервал для ежедневного среднего чека в группе B: (885644239.84, 885870070.44)\n"
     ]
    }
   ],
   "source": [
    "# строим доверительный интервал для ежедневного среднего чека в группе А\n",
    "lower_bound_a, upper_bound_a  = t_mean_conf_interval(\n",
    "    x_mean = date_group_data[date_group_data['group'] == 'A']['mean_receipt'].mean(), # выборочное среднее\n",
    "    x_std = date_group_data[date_group_data['group'] == 'A']['mean_receipt'].std(), # выборочное стандартное отклонение\n",
    "    n = a_data['user_id'].count() # размер выборки\n",
    ")\n",
    "\n",
    "# строим доверительный интервал для ежедневного среднего чека в группе B\n",
    "lower_bound_b, upper_bound_b  = t_mean_conf_interval(\n",
    "    x_mean= date_group_data[date_group_data['group'] == 'B']['mean_receipt'].mean(), # выборочное среднее\n",
    "    x_std = date_group_data[date_group_data['group'] == 'B']['mean_receipt'].std(), # выборочное стандартное отклонение\n",
    "    n = b_data['user_id'].count() # размер выборки\n",
    ")\n",
    "\n",
    "# выводим результат\n",
    "print('Доверительный интервал для ежедневного среднего чека в группе А: {}'.format((round(lower_bound_a * 100, 2), round(upper_bound_a * 100, 2))))\n",
    "print('Доверительный интервал для ежедневного среднего чека в группе B: {}'.format((round(lower_bound_b * 100, 2), round(upper_bound_b * 100, 2))))"
   ]
  },
  {
   "cell_type": "markdown",
   "id": "52985831",
   "metadata": {},
   "source": [
    "<div class=\"alert alert-success\">\n",
    "В данном случае есть статистически значимые различия в среднем чеке между группами, группа В имеет значительно более высокий средний чек, примерно процентов 9-10% разницы."
   ]
  },
  {
   "cell_type": "markdown",
   "id": "82d21966",
   "metadata": {},
   "source": [
    "<p style = \"background-color : #0090ff; border-radius: 5px 5px; padding : 10px\"><strong>\n",
    "<span style=\"color:#000\">Общий вывод: </span>\n",
    "\n"
   ]
  },
  {
   "cell_type": "markdown",
   "id": "837706cb",
   "metadata": {},
   "source": [
    "<div class=\"alert alert-success\">\n",
    "\n",
    "**Результаты A/B теста показывают:**\n",
    "\n",
    "**Конверсия:** Оба варианта страниц работают одинаково хорошо - нет разницы в количестве покупок\n",
    "\n",
    "**Средний чек:** Страница B приносит больше денег с каждого клиента\n",
    "\n",
    "**Рекомендация:** Переходить на вариант B, так как он увеличивает доходность без потери клиентов"
   ]
  },
  {
   "cell_type": "code",
   "execution_count": 1,
   "id": "3e4988d3",
   "metadata": {},
   "outputs": [
    {
     "name": "stdout",
     "output_type": "stream",
     "text": [
      "Note: you may need to restart the kernel to use updated packages.\n"
     ]
    }
   ],
   "source": [
    "pip freeze > requirements.txt"
   ]
  }
 ],
 "metadata": {
  "kernelspec": {
   "display_name": "Python 3",
   "language": "python",
   "name": "python3"
  },
  "language_info": {
   "codemirror_mode": {
    "name": "ipython",
    "version": 3
   },
   "file_extension": ".py",
   "mimetype": "text/x-python",
   "name": "python",
   "nbconvert_exporter": "python",
   "pygments_lexer": "ipython3",
   "version": "3.10.11"
  }
 },
 "nbformat": 4,
 "nbformat_minor": 5
}
